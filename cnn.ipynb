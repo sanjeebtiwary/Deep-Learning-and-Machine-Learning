{
 "cells": [
  {
   "cell_type": "code",
   "execution_count": 1,
   "metadata": {
    "collapsed": true,
    "pycharm": {
     "name": "#%%\n"
    }
   },
   "outputs": [
    {
     "name": "stdout",
     "output_type": "stream",
     "text": [
      "Requirement already satisfied: tensorflow in c:\\users\\kiit\\anaconda3\\envs\\r-cnn-cnn\\lib\\site-packages (2.10.0)\n",
      "Requirement already satisfied: tensorflow-gpu in c:\\users\\kiit\\anaconda3\\envs\\r-cnn-cnn\\lib\\site-packages (2.10.0)\n",
      "Requirement already satisfied: opencv-python in c:\\users\\kiit\\anaconda3\\envs\\r-cnn-cnn\\lib\\site-packages (4.6.0.66)\n",
      "Requirement already satisfied: matplotlib in c:\\users\\kiit\\anaconda3\\envs\\r-cnn-cnn\\lib\\site-packages (3.5.2)\n",
      "Requirement already satisfied: keras-preprocessing>=1.1.1 in c:\\users\\kiit\\anaconda3\\envs\\r-cnn-cnn\\lib\\site-packages (from tensorflow) (1.1.2)\n",
      "Requirement already satisfied: absl-py>=1.0.0 in c:\\users\\kiit\\anaconda3\\envs\\r-cnn-cnn\\lib\\site-packages (from tensorflow) (1.3.0)\n",
      "Requirement already satisfied: tensorflow-estimator<2.11,>=2.10.0 in c:\\users\\kiit\\anaconda3\\envs\\r-cnn-cnn\\lib\\site-packages (from tensorflow) (2.10.0)\n",
      "Requirement already satisfied: h5py>=2.9.0 in c:\\users\\kiit\\anaconda3\\envs\\r-cnn-cnn\\lib\\site-packages (from tensorflow) (3.7.0)\n",
      "Requirement already satisfied: google-pasta>=0.1.1 in c:\\users\\kiit\\anaconda3\\envs\\r-cnn-cnn\\lib\\site-packages (from tensorflow) (0.2.0)\n",
      "Requirement already satisfied: astunparse>=1.6.0 in c:\\users\\kiit\\anaconda3\\envs\\r-cnn-cnn\\lib\\site-packages (from tensorflow) (1.6.3)\n",
      "Requirement already satisfied: libclang>=13.0.0 in c:\\users\\kiit\\anaconda3\\envs\\r-cnn-cnn\\lib\\site-packages (from tensorflow) (14.0.6)\n",
      "Requirement already satisfied: numpy>=1.20 in c:\\users\\kiit\\anaconda3\\envs\\r-cnn-cnn\\lib\\site-packages (from tensorflow) (1.23.3)\n",
      "Requirement already satisfied: six>=1.12.0 in c:\\users\\kiit\\anaconda3\\envs\\r-cnn-cnn\\lib\\site-packages (from tensorflow) (1.16.0)\n",
      "Requirement already satisfied: typing-extensions>=3.6.6 in c:\\users\\kiit\\anaconda3\\envs\\r-cnn-cnn\\lib\\site-packages (from tensorflow) (4.3.0)\n",
      "Requirement already satisfied: tensorflow-io-gcs-filesystem>=0.23.1 in c:\\users\\kiit\\anaconda3\\envs\\r-cnn-cnn\\lib\\site-packages (from tensorflow) (0.27.0)\n",
      "Requirement already satisfied: keras<2.11,>=2.10.0 in c:\\users\\kiit\\anaconda3\\envs\\r-cnn-cnn\\lib\\site-packages (from tensorflow) (2.10.0)\n",
      "Requirement already satisfied: tensorboard<2.11,>=2.10 in c:\\users\\kiit\\anaconda3\\envs\\r-cnn-cnn\\lib\\site-packages (from tensorflow) (2.10.1)\n",
      "Requirement already satisfied: flatbuffers>=2.0 in c:\\users\\kiit\\anaconda3\\envs\\r-cnn-cnn\\lib\\site-packages (from tensorflow) (22.9.24)\n",
      "Requirement already satisfied: opt-einsum>=2.3.2 in c:\\users\\kiit\\anaconda3\\envs\\r-cnn-cnn\\lib\\site-packages (from tensorflow) (3.3.0)\n",
      "Requirement already satisfied: gast<=0.4.0,>=0.2.1 in c:\\users\\kiit\\anaconda3\\envs\\r-cnn-cnn\\lib\\site-packages (from tensorflow) (0.4.0)\n",
      "Requirement already satisfied: protobuf<3.20,>=3.9.2 in c:\\users\\kiit\\anaconda3\\envs\\r-cnn-cnn\\lib\\site-packages (from tensorflow) (3.19.6)\n",
      "Requirement already satisfied: wrapt>=1.11.0 in c:\\users\\kiit\\anaconda3\\envs\\r-cnn-cnn\\lib\\site-packages (from tensorflow) (1.14.1)\n",
      "Requirement already satisfied: setuptools in c:\\users\\kiit\\anaconda3\\envs\\r-cnn-cnn\\lib\\site-packages (from tensorflow) (63.4.1)\n",
      "Requirement already satisfied: packaging in c:\\users\\kiit\\anaconda3\\envs\\r-cnn-cnn\\lib\\site-packages (from tensorflow) (21.3)\n",
      "Requirement already satisfied: grpcio<2.0,>=1.24.3 in c:\\users\\kiit\\anaconda3\\envs\\r-cnn-cnn\\lib\\site-packages (from tensorflow) (1.50.0)\n",
      "Requirement already satisfied: termcolor>=1.1.0 in c:\\users\\kiit\\anaconda3\\envs\\r-cnn-cnn\\lib\\site-packages (from tensorflow) (2.0.1)\n",
      "Requirement already satisfied: kiwisolver>=1.0.1 in c:\\users\\kiit\\anaconda3\\envs\\r-cnn-cnn\\lib\\site-packages (from matplotlib) (1.4.2)\n",
      "Requirement already satisfied: cycler>=0.10 in c:\\users\\kiit\\anaconda3\\envs\\r-cnn-cnn\\lib\\site-packages (from matplotlib) (0.11.0)\n",
      "Requirement already satisfied: pillow>=6.2.0 in c:\\users\\kiit\\anaconda3\\envs\\r-cnn-cnn\\lib\\site-packages (from matplotlib) (9.2.0)\n",
      "Requirement already satisfied: pyparsing>=2.2.1 in c:\\users\\kiit\\anaconda3\\envs\\r-cnn-cnn\\lib\\site-packages (from matplotlib) (3.0.9)\n",
      "Requirement already satisfied: fonttools>=4.22.0 in c:\\users\\kiit\\anaconda3\\envs\\r-cnn-cnn\\lib\\site-packages (from matplotlib) (4.25.0)\n",
      "Requirement already satisfied: python-dateutil>=2.7 in c:\\users\\kiit\\anaconda3\\envs\\r-cnn-cnn\\lib\\site-packages (from matplotlib) (2.8.2)\n",
      "Requirement already satisfied: wheel<1.0,>=0.23.0 in c:\\users\\kiit\\anaconda3\\envs\\r-cnn-cnn\\lib\\site-packages (from astunparse>=1.6.0->tensorflow) (0.37.1)\n",
      "Requirement already satisfied: requests<3,>=2.21.0 in c:\\users\\kiit\\anaconda3\\envs\\r-cnn-cnn\\lib\\site-packages (from tensorboard<2.11,>=2.10->tensorflow) (2.28.1)\n",
      "Requirement already satisfied: google-auth-oauthlib<0.5,>=0.4.1 in c:\\users\\kiit\\anaconda3\\envs\\r-cnn-cnn\\lib\\site-packages (from tensorboard<2.11,>=2.10->tensorflow) (0.4.6)\n",
      "Requirement already satisfied: tensorboard-plugin-wit>=1.6.0 in c:\\users\\kiit\\anaconda3\\envs\\r-cnn-cnn\\lib\\site-packages (from tensorboard<2.11,>=2.10->tensorflow) (1.8.1)\n",
      "Requirement already satisfied: tensorboard-data-server<0.7.0,>=0.6.0 in c:\\users\\kiit\\anaconda3\\envs\\r-cnn-cnn\\lib\\site-packages (from tensorboard<2.11,>=2.10->tensorflow) (0.6.1)\n",
      "Requirement already satisfied: markdown>=2.6.8 in c:\\users\\kiit\\anaconda3\\envs\\r-cnn-cnn\\lib\\site-packages (from tensorboard<2.11,>=2.10->tensorflow) (3.4.1)\n",
      "Requirement already satisfied: google-auth<3,>=1.6.3 in c:\\users\\kiit\\anaconda3\\envs\\r-cnn-cnn\\lib\\site-packages (from tensorboard<2.11,>=2.10->tensorflow) (2.13.0)\n",
      "Requirement already satisfied: werkzeug>=1.0.1 in c:\\users\\kiit\\anaconda3\\envs\\r-cnn-cnn\\lib\\site-packages (from tensorboard<2.11,>=2.10->tensorflow) (2.2.2)\n",
      "Requirement already satisfied: cachetools<6.0,>=2.0.0 in c:\\users\\kiit\\anaconda3\\envs\\r-cnn-cnn\\lib\\site-packages (from google-auth<3,>=1.6.3->tensorboard<2.11,>=2.10->tensorflow) (5.2.0)\n",
      "Requirement already satisfied: pyasn1-modules>=0.2.1 in c:\\users\\kiit\\anaconda3\\envs\\r-cnn-cnn\\lib\\site-packages (from google-auth<3,>=1.6.3->tensorboard<2.11,>=2.10->tensorflow) (0.2.8)\n",
      "Requirement already satisfied: rsa<5,>=3.1.4 in c:\\users\\kiit\\anaconda3\\envs\\r-cnn-cnn\\lib\\site-packages (from google-auth<3,>=1.6.3->tensorboard<2.11,>=2.10->tensorflow) (4.9)\n",
      "Requirement already satisfied: requests-oauthlib>=0.7.0 in c:\\users\\kiit\\anaconda3\\envs\\r-cnn-cnn\\lib\\site-packages (from google-auth-oauthlib<0.5,>=0.4.1->tensorboard<2.11,>=2.10->tensorflow) (1.3.1)\n",
      "Requirement already satisfied: idna<4,>=2.5 in c:\\users\\kiit\\anaconda3\\envs\\r-cnn-cnn\\lib\\site-packages (from requests<3,>=2.21.0->tensorboard<2.11,>=2.10->tensorflow) (3.4)\n",
      "Requirement already satisfied: certifi>=2017.4.17 in c:\\users\\kiit\\anaconda3\\envs\\r-cnn-cnn\\lib\\site-packages (from requests<3,>=2.21.0->tensorboard<2.11,>=2.10->tensorflow) (2022.9.24)\n",
      "Requirement already satisfied: urllib3<1.27,>=1.21.1 in c:\\users\\kiit\\anaconda3\\envs\\r-cnn-cnn\\lib\\site-packages (from requests<3,>=2.21.0->tensorboard<2.11,>=2.10->tensorflow) (1.26.12)\n",
      "Requirement already satisfied: charset-normalizer<3,>=2 in c:\\users\\kiit\\anaconda3\\envs\\r-cnn-cnn\\lib\\site-packages (from requests<3,>=2.21.0->tensorboard<2.11,>=2.10->tensorflow) (2.0.4)\n",
      "Requirement already satisfied: MarkupSafe>=2.1.1 in c:\\users\\kiit\\anaconda3\\envs\\r-cnn-cnn\\lib\\site-packages (from werkzeug>=1.0.1->tensorboard<2.11,>=2.10->tensorflow) (2.1.1)\n",
      "Requirement already satisfied: pyasn1<0.5.0,>=0.4.6 in c:\\users\\kiit\\anaconda3\\envs\\r-cnn-cnn\\lib\\site-packages (from pyasn1-modules>=0.2.1->google-auth<3,>=1.6.3->tensorboard<2.11,>=2.10->tensorflow) (0.4.8)\n",
      "Requirement already satisfied: oauthlib>=3.0.0 in c:\\users\\kiit\\anaconda3\\envs\\r-cnn-cnn\\lib\\site-packages (from requests-oauthlib>=0.7.0->google-auth-oauthlib<0.5,>=0.4.1->tensorboard<2.11,>=2.10->tensorflow) (3.2.2)\n"
     ]
    }
   ],
   "source": [
    "!pip install tensorflow tensorflow-gpu opencv-python matplotlib"
   ]
  },
  {
   "cell_type": "code",
   "execution_count": 2,
   "metadata": {
    "pycharm": {
     "name": "#%%\n"
    }
   },
   "outputs": [
    {
     "name": "stdout",
     "output_type": "stream",
     "text": [
      "Package                      Version\n",
      "---------------------------- -----------\n",
      "absl-py                      1.3.0\n",
      "aiohttp                      3.8.3\n",
      "aiosignal                    1.2.0\n",
      "anyio                        3.5.0\n",
      "argon2-cffi                  21.3.0\n",
      "argon2-cffi-bindings         21.2.0\n",
      "asttokens                    2.0.5\n",
      "astunparse                   1.6.3\n",
      "async-timeout                4.0.2\n",
      "attrs                        21.4.0\n",
      "Babel                        2.9.1\n",
      "backcall                     0.2.0\n",
      "beautifulsoup4               4.11.1\n",
      "bleach                       4.1.0\n",
      "blis                         0.7.9\n",
      "Bottleneck                   1.3.5\n",
      "brotlipy                     0.7.0\n",
      "cachetools                   5.2.0\n",
      "catalogue                    2.0.8\n",
      "certifi                      2022.9.24\n",
      "cffi                         1.15.1\n",
      "charset-normalizer           2.0.4\n",
      "click                        8.1.3\n",
      "colorama                     0.4.5\n",
      "colour                       0.1.5\n",
      "confection                   0.0.3\n",
      "cryptography                 37.0.1\n",
      "cycler                       0.11.0\n",
      "cymem                        2.0.7\n",
      "datasets                     2.6.1\n",
      "debugpy                      1.5.1\n",
      "decorator                    5.1.1\n",
      "defusedxml                   0.7.1\n",
      "dill                         0.3.5.1\n",
      "dtreeviz                     1.3.7\n",
      "entrypoints                  0.4\n",
      "executing                    0.8.3\n",
      "fastai                       2.7.9\n",
      "fastbook                     0.0.28\n",
      "fastcore                     1.5.27\n",
      "fastdownload                 0.0.7\n",
      "fastjsonschema               2.16.2\n",
      "fastprogress                 1.0.3\n",
      "filelock                     3.8.0\n",
      "flatbuffers                  22.9.24\n",
      "fonttools                    4.25.0\n",
      "frozenlist                   1.3.1\n",
      "fsspec                       2022.10.0\n",
      "gast                         0.4.0\n",
      "google-auth                  2.13.0\n",
      "google-auth-oauthlib         0.4.6\n",
      "google-pasta                 0.2.0\n",
      "graphviz                     0.20.1\n",
      "grpcio                       1.50.0\n",
      "h5py                         3.7.0\n",
      "huggingface-hub              0.10.1\n",
      "idna                         3.4\n",
      "iniconfig                    1.1.1\n",
      "ipykernel                    6.15.2\n",
      "ipython                      8.4.0\n",
      "ipython-genutils             0.2.0\n",
      "ipywidgets                   7.6.5\n",
      "jedi                         0.18.1\n",
      "Jinja2                       3.0.3\n",
      "joblib                       1.1.1\n",
      "json5                        0.9.6\n",
      "jsonschema                   4.16.0\n",
      "jupyter                      1.0.0\n",
      "jupyter_client               7.3.5\n",
      "jupyter-console              6.4.3\n",
      "jupyter_core                 4.11.1\n",
      "jupyter-server               1.18.1\n",
      "jupyterlab                   3.4.4\n",
      "jupyterlab-pygments          0.1.2\n",
      "jupyterlab_server            2.15.2\n",
      "jupyterlab-widgets           1.0.0\n",
      "keras                        2.10.0\n",
      "Keras-Preprocessing          1.1.2\n",
      "kiwisolver                   1.4.2\n",
      "langcodes                    3.3.0\n",
      "libclang                     14.0.6\n",
      "Markdown                     3.4.1\n",
      "MarkupSafe                   2.1.1\n",
      "matplotlib                   3.5.2\n",
      "matplotlib-inline            0.1.6\n",
      "mistune                      0.8.4\n",
      "mkl-fft                      1.3.1\n",
      "mkl-random                   1.2.2\n",
      "mkl-service                  2.4.0\n",
      "multidict                    6.0.2\n",
      "multiprocess                 0.70.13\n",
      "munkres                      1.1.4\n",
      "murmurhash                   1.0.9\n",
      "nbclassic                    0.3.5\n",
      "nbclient                     0.5.13\n",
      "nbconvert                    6.4.4\n",
      "nbformat                     5.5.0\n",
      "nest-asyncio                 1.5.5\n",
      "notebook                     6.4.12\n",
      "numexpr                      2.8.3\n",
      "numpy                        1.23.3\n",
      "oauthlib                     3.2.2\n",
      "opencv-python                4.6.0.66\n",
      "opt-einsum                   3.3.0\n",
      "packaging                    21.3\n",
      "pandas                       1.4.4\n",
      "pandocfilters                1.5.0\n",
      "parso                        0.8.3\n",
      "pathy                        0.6.2\n",
      "pickleshare                  0.7.5\n",
      "Pillow                       9.2.0\n",
      "pip                          22.2.2\n",
      "pluggy                       1.0.0\n",
      "ply                          3.11\n",
      "preshed                      3.0.8\n",
      "prometheus-client            0.14.1\n",
      "prompt-toolkit               3.0.20\n",
      "protobuf                     3.19.6\n",
      "psutil                       5.9.0\n",
      "pure-eval                    0.2.2\n",
      "py                           1.11.0\n",
      "pyarrow                      9.0.0\n",
      "pyasn1                       0.4.8\n",
      "pyasn1-modules               0.2.8\n",
      "pycparser                    2.21\n",
      "pydantic                     1.10.2\n",
      "Pygments                     2.11.2\n",
      "pyOpenSSL                    22.0.0\n",
      "pyparsing                    3.0.9\n",
      "PyQt5                        5.15.7\n",
      "PyQt5-sip                    12.11.0\n",
      "pyrsistent                   0.18.0\n",
      "PySocks                      1.7.1\n",
      "pytest                       7.1.3\n",
      "python-dateutil              2.8.2\n",
      "pytz                         2022.1\n",
      "pywin32                      302\n",
      "pywinpty                     2.0.2\n",
      "PyYAML                       6.0\n",
      "pyzmq                        23.2.0\n",
      "qtconsole                    5.3.2\n",
      "QtPy                         2.2.0\n",
      "regex                        2022.9.13\n",
      "requests                     2.28.1\n",
      "requests-oauthlib            1.3.1\n",
      "responses                    0.18.0\n",
      "rsa                          4.9\n",
      "scikit-learn                 1.1.2\n",
      "scipy                        1.9.1\n",
      "seaborn                      0.12.0\n",
      "Send2Trash                   1.8.0\n",
      "sentencepiece                0.1.97\n",
      "setuptools                   63.4.1\n",
      "sip                          6.6.2\n",
      "six                          1.16.0\n",
      "smart-open                   5.2.1\n",
      "sniffio                      1.2.0\n",
      "soupsieve                    2.3.2.post1\n",
      "spacy                        3.4.2\n",
      "spacy-legacy                 3.0.10\n",
      "spacy-loggers                1.0.3\n",
      "srsly                        2.4.5\n",
      "stack-data                   0.2.0\n",
      "tensorboard                  2.10.1\n",
      "tensorboard-data-server      0.6.1\n",
      "tensorboard-plugin-wit       1.8.1\n",
      "tensorflow                   2.10.0\n",
      "tensorflow-estimator         2.10.0\n",
      "tensorflow-gpu               2.10.0\n",
      "tensorflow-io-gcs-filesystem 0.27.0\n",
      "termcolor                    2.0.1\n",
      "terminado                    0.13.1\n",
      "testpath                     0.6.0\n",
      "thinc                        8.1.5\n",
      "threadpoolctl                2.2.0\n",
      "tokenizers                   0.13.1\n",
      "toml                         0.10.2\n",
      "tomli                        2.0.1\n",
      "torch                        1.12.1\n",
      "torchvision                  0.13.1\n",
      "tornado                      6.2\n",
      "tqdm                         4.64.1\n",
      "traitlets                    5.1.1\n",
      "transformers                 4.23.1\n",
      "typer                        0.4.2\n",
      "typing_extensions            4.3.0\n",
      "urllib3                      1.26.12\n",
      "wasabi                       0.10.1\n",
      "wcwidth                      0.2.5\n",
      "webencodings                 0.5.1\n",
      "websocket-client             0.58.0\n",
      "Werkzeug                     2.2.2\n",
      "wheel                        0.37.1\n",
      "widgetsnbextension           3.5.2\n",
      "win-inet-pton                1.1.0\n",
      "wincertstore                 0.2\n",
      "wrapt                        1.14.1\n",
      "xxhash                       3.1.0\n",
      "yarl                         1.8.1\n"
     ]
    }
   ],
   "source": [
    "!pip list"
   ]
  },
  {
   "cell_type": "code",
   "execution_count": null,
   "metadata": {
    "pycharm": {
     "is_executing": true,
     "name": "#%%\n"
    }
   },
   "outputs": [],
   "source": [
    "import tensorflow as tf\n",
    "import os as os\n",
    "import cv2\n",
    "import imghdr\n",
    "import numpy as np\n",
    "from matplotlib import pyplot as plt\n",
    "from tensorflow.keras.models import Sequential\n",
    "from tensorflow.keras.layers import Conv2D, MaxPooling2D, Dense, Flatten, Dropout\n",
    "from tensorflow.keras.metrics import Precision, Recall, BinaryAccuracy\n",
    "from sklearn.metrics import confusion_matrix\n",
    "from sklearn.metrics import classification_report\n",
    "import torch \n",
    "import torch.nn as nn\n",
    "import torch.optim as optim\n",
    "import torchvision\n",
    "import torchvision.transforms as trans\n",
    "import itertools\n",
    "import matplotlib.pyplot as plt\n",
    "%matplotlib"
   ]
  },
  {
   "cell_type": "code",
   "execution_count": 3,
   "metadata": {
    "pycharm": {
     "name": "#%%\n"
    }
   },
   "outputs": [],
   "source": [
    "device = torch.device('cuda:0' if torch.cuda.is_available() else 'cpu')"
   ]
  },
  {
   "cell_type": "code",
   "execution_count": 4,
   "metadata": {
    "pycharm": {
     "name": "#%%\n"
    }
   },
   "outputs": [],
   "source": [
    "# Avoid OOM errors by setting GPU Memory Consumption Growth\n",
    "gpus = tf.config.experimental.list_physical_devices('GPU')\n",
    "for gpu in gpus:\n",
    "    tf.config.experimental.set_memory_growth(gpu, True)"
   ]
  },
  {
   "cell_type": "code",
   "execution_count": 5,
   "metadata": {
    "pycharm": {
     "name": "#%%\n"
    }
   },
   "outputs": [
    {
     "data": {
      "text/plain": [
       "[]"
      ]
     },
     "execution_count": 5,
     "metadata": {},
     "output_type": "execute_result"
    }
   ],
   "source": [
    "tf.config.list_physical_devices('GPU')"
   ]
  },
  {
   "cell_type": "code",
   "execution_count": 6,
   "metadata": {
    "pycharm": {
     "name": "#%%\n"
    }
   },
   "outputs": [],
   "source": [
    "gpus = tf.config.experimental.list_physical_devices('CPU')"
   ]
  },
  {
   "cell_type": "code",
   "execution_count": 7,
   "metadata": {
    "pycharm": {
     "name": "#%%\n"
    }
   },
   "outputs": [
    {
     "data": {
      "text/plain": [
       "1"
      ]
     },
     "execution_count": 7,
     "metadata": {},
     "output_type": "execute_result"
    }
   ],
   "source": [
    "len(gpus)"
   ]
  },
  {
   "cell_type": "code",
   "execution_count": 8,
   "metadata": {
    "pycharm": {
     "name": "#%%\n"
    }
   },
   "outputs": [],
   "source": [
    "gpus_local = tf.config.experimental.list_logical_devices('GPU')"
   ]
  },
  {
   "cell_type": "code",
   "execution_count": 9,
   "metadata": {
    "pycharm": {
     "name": "#%%\n"
    }
   },
   "outputs": [
    {
     "data": {
      "text/plain": [
       "0"
      ]
     },
     "execution_count": 9,
     "metadata": {},
     "output_type": "execute_result"
    }
   ],
   "source": [
    "len(gpus_local)"
   ]
  },
  {
   "cell_type": "code",
   "execution_count": 10,
   "metadata": {
    "pycharm": {
     "name": "#%%\n"
    }
   },
   "outputs": [],
   "source": [
    "data_dir = 'data'"
   ]
  },
  {
   "cell_type": "code",
   "execution_count": 11,
   "metadata": {
    "pycharm": {
     "name": "#%%\n"
    }
   },
   "outputs": [],
   "source": [
    "image_exts = ['jpeg','jpg', 'bmp', 'png']"
   ]
  },
  {
   "cell_type": "code",
   "execution_count": 12,
   "metadata": {
    "pycharm": {
     "name": "#%%\n"
    }
   },
   "outputs": [],
   "source": [
    "for image_class in os.listdir(data_dir):\n",
    "    for image in os.listdir(os.path.join(data_dir, image_class)):\n",
    "        image_path = os.path.join(data_dir, image_class, image)\n",
    "        try:\n",
    "            img = cv2.imread(image_path)\n",
    "            tip = imghdr.what(image_path)\n",
    "            if tip not in image_exts:\n",
    "                print('Image not in ext list {}'.format(image_path))\n",
    "                os.remove(image_path)\n",
    "        except Exception as e:\n",
    "            print('Issue with image {}'.format(image_path))\n",
    "            # os.remove(image_path)"
   ]
  },
  {
   "cell_type": "code",
   "execution_count": 13,
   "metadata": {
    "pycharm": {
     "is_executing": true,
     "name": "#%%\n"
    }
   },
   "outputs": [
    {
     "name": "stdout",
     "output_type": "stream",
     "text": [
      "Found 442 files belonging to 2 classes.\n"
     ]
    }
   ],
   "source": [
    "data = tf.keras.utils.image_dataset_from_directory('data')"
   ]
  },
  {
   "cell_type": "code",
   "execution_count": 14,
   "metadata": {
    "pycharm": {
     "is_executing": true,
     "name": "#%%\n"
    }
   },
   "outputs": [],
   "source": [
    "data_iterator = data.as_numpy_iterator()"
   ]
  },
  {
   "cell_type": "code",
   "execution_count": 15,
   "metadata": {
    "pycharm": {
     "name": "#%%\n"
    }
   },
   "outputs": [],
   "source": [
    "batch = data_iterator.next()"
   ]
  },
  {
   "cell_type": "code",
   "execution_count": 16,
   "metadata": {
    "pycharm": {
     "name": "#%%\n"
    }
   },
   "outputs": [],
   "source": [
    "fig, ax = plt.subplots(ncols=4, figsize=(20,20))\n",
    "for idx, img in enumerate(batch[0][:4]):\n",
    "    ax[idx].imshow(img.astype(int))\n",
    "    ax[idx].title.set_text(batch[1][idx])"
   ]
  },
  {
   "cell_type": "code",
   "execution_count": 17,
   "metadata": {
    "pycharm": {
     "name": "#%%\n"
    }
   },
   "outputs": [],
   "source": [
    "data = data.map(lambda x,y: (x/255, y))"
   ]
  },
  {
   "cell_type": "code",
   "execution_count": 18,
   "metadata": {
    "pycharm": {
     "name": "#%%\n"
    }
   },
   "outputs": [
    {
     "data": {
      "text/plain": [
       "(array([[[[9.96078432e-01, 9.96078432e-01, 9.96078432e-01],\n",
       "          [9.96078432e-01, 9.96078432e-01, 9.96078432e-01],\n",
       "          [9.96078432e-01, 9.96078432e-01, 9.96078432e-01],\n",
       "          ...,\n",
       "          [9.96078432e-01, 9.96078432e-01, 9.96078432e-01],\n",
       "          [9.96078432e-01, 9.96078432e-01, 9.96078432e-01],\n",
       "          [9.96078432e-01, 9.96078432e-01, 9.96078432e-01]],\n",
       " \n",
       "         [[9.96078432e-01, 9.96078432e-01, 9.96078432e-01],\n",
       "          [9.96078432e-01, 9.96078432e-01, 9.96078432e-01],\n",
       "          [9.96078432e-01, 9.96078432e-01, 9.96078432e-01],\n",
       "          ...,\n",
       "          [9.96078432e-01, 9.96078432e-01, 9.96078432e-01],\n",
       "          [9.96078432e-01, 9.96078432e-01, 9.96078432e-01],\n",
       "          [9.96078432e-01, 9.96078432e-01, 9.96078432e-01]],\n",
       " \n",
       "         [[9.96078432e-01, 9.96078432e-01, 9.96078432e-01],\n",
       "          [9.96078432e-01, 9.96078432e-01, 9.96078432e-01],\n",
       "          [9.96078432e-01, 9.96078432e-01, 9.96078432e-01],\n",
       "          ...,\n",
       "          [9.96078432e-01, 9.96078432e-01, 9.96078432e-01],\n",
       "          [9.96078432e-01, 9.96078432e-01, 9.96078432e-01],\n",
       "          [9.96078432e-01, 9.96078432e-01, 9.96078432e-01]],\n",
       " \n",
       "         ...,\n",
       " \n",
       "         [[9.96078432e-01, 9.96078432e-01, 9.96078432e-01],\n",
       "          [9.96078432e-01, 9.96078432e-01, 9.96078432e-01],\n",
       "          [9.96078432e-01, 9.96078432e-01, 9.96078432e-01],\n",
       "          ...,\n",
       "          [9.96078432e-01, 9.96078432e-01, 9.96078432e-01],\n",
       "          [9.96078432e-01, 9.96078432e-01, 9.96078432e-01],\n",
       "          [9.96078432e-01, 9.96078432e-01, 9.96078432e-01]],\n",
       " \n",
       "         [[9.96078432e-01, 9.96078432e-01, 9.96078432e-01],\n",
       "          [9.96078432e-01, 9.96078432e-01, 9.96078432e-01],\n",
       "          [9.96078432e-01, 9.96078432e-01, 9.96078432e-01],\n",
       "          ...,\n",
       "          [9.96078432e-01, 9.96078432e-01, 9.96078432e-01],\n",
       "          [9.96078432e-01, 9.96078432e-01, 9.96078432e-01],\n",
       "          [9.96078432e-01, 9.96078432e-01, 9.96078432e-01]],\n",
       " \n",
       "         [[9.96078432e-01, 9.96078432e-01, 9.96078432e-01],\n",
       "          [9.96078432e-01, 9.96078432e-01, 9.96078432e-01],\n",
       "          [9.96078432e-01, 9.96078432e-01, 9.96078432e-01],\n",
       "          ...,\n",
       "          [9.96078432e-01, 9.96078432e-01, 9.96078432e-01],\n",
       "          [9.96078432e-01, 9.96078432e-01, 9.96078432e-01],\n",
       "          [9.96078432e-01, 9.96078432e-01, 9.96078432e-01]]],\n",
       " \n",
       " \n",
       "        [[[1.00000000e+00, 1.00000000e+00, 1.00000000e+00],\n",
       "          [1.00000000e+00, 1.00000000e+00, 1.00000000e+00],\n",
       "          [1.00000000e+00, 1.00000000e+00, 1.00000000e+00],\n",
       "          ...,\n",
       "          [1.00000000e+00, 1.00000000e+00, 1.00000000e+00],\n",
       "          [1.00000000e+00, 1.00000000e+00, 1.00000000e+00],\n",
       "          [1.00000000e+00, 1.00000000e+00, 1.00000000e+00]],\n",
       " \n",
       "         [[1.00000000e+00, 1.00000000e+00, 1.00000000e+00],\n",
       "          [1.00000000e+00, 1.00000000e+00, 1.00000000e+00],\n",
       "          [1.00000000e+00, 1.00000000e+00, 1.00000000e+00],\n",
       "          ...,\n",
       "          [1.00000000e+00, 1.00000000e+00, 1.00000000e+00],\n",
       "          [1.00000000e+00, 1.00000000e+00, 1.00000000e+00],\n",
       "          [1.00000000e+00, 1.00000000e+00, 1.00000000e+00]],\n",
       " \n",
       "         [[1.00000000e+00, 1.00000000e+00, 1.00000000e+00],\n",
       "          [1.00000000e+00, 1.00000000e+00, 1.00000000e+00],\n",
       "          [1.00000000e+00, 1.00000000e+00, 1.00000000e+00],\n",
       "          ...,\n",
       "          [1.00000000e+00, 1.00000000e+00, 1.00000000e+00],\n",
       "          [1.00000000e+00, 1.00000000e+00, 1.00000000e+00],\n",
       "          [1.00000000e+00, 1.00000000e+00, 1.00000000e+00]],\n",
       " \n",
       "         ...,\n",
       " \n",
       "         [[0.00000000e+00, 0.00000000e+00, 0.00000000e+00],\n",
       "          [0.00000000e+00, 0.00000000e+00, 0.00000000e+00],\n",
       "          [0.00000000e+00, 0.00000000e+00, 0.00000000e+00],\n",
       "          ...,\n",
       "          [0.00000000e+00, 0.00000000e+00, 0.00000000e+00],\n",
       "          [0.00000000e+00, 0.00000000e+00, 0.00000000e+00],\n",
       "          [0.00000000e+00, 0.00000000e+00, 0.00000000e+00]],\n",
       " \n",
       "         [[0.00000000e+00, 0.00000000e+00, 0.00000000e+00],\n",
       "          [0.00000000e+00, 0.00000000e+00, 0.00000000e+00],\n",
       "          [0.00000000e+00, 0.00000000e+00, 0.00000000e+00],\n",
       "          ...,\n",
       "          [0.00000000e+00, 0.00000000e+00, 0.00000000e+00],\n",
       "          [0.00000000e+00, 0.00000000e+00, 0.00000000e+00],\n",
       "          [0.00000000e+00, 0.00000000e+00, 0.00000000e+00]],\n",
       " \n",
       "         [[0.00000000e+00, 0.00000000e+00, 0.00000000e+00],\n",
       "          [0.00000000e+00, 0.00000000e+00, 0.00000000e+00],\n",
       "          [0.00000000e+00, 0.00000000e+00, 0.00000000e+00],\n",
       "          ...,\n",
       "          [0.00000000e+00, 0.00000000e+00, 0.00000000e+00],\n",
       "          [0.00000000e+00, 0.00000000e+00, 0.00000000e+00],\n",
       "          [0.00000000e+00, 0.00000000e+00, 0.00000000e+00]]],\n",
       " \n",
       " \n",
       "        [[[6.45098031e-01, 6.52941167e-01, 6.33333325e-01],\n",
       "          [6.56188726e-01, 6.64031863e-01, 6.44424021e-01],\n",
       "          [6.70281887e-01, 6.78125024e-01, 6.58517182e-01],\n",
       "          ...,\n",
       "          [6.88051462e-01, 6.88051462e-01, 6.95894599e-01],\n",
       "          [6.92647040e-01, 6.92647040e-01, 7.00490177e-01],\n",
       "          [6.97549045e-01, 6.97549045e-01, 7.05392182e-01]],\n",
       " \n",
       "         [[6.53615177e-01, 6.61458313e-01, 6.41850471e-01],\n",
       "          [6.64705873e-01, 6.72549009e-01, 6.52941167e-01],\n",
       "          [6.73590660e-01, 6.81433797e-01, 6.61825955e-01],\n",
       "          ...,\n",
       "          [6.90196097e-01, 6.90196097e-01, 6.98039234e-01],\n",
       "          [6.92647040e-01, 6.92647040e-01, 7.00490177e-01],\n",
       "          [6.96262240e-01, 6.96262240e-01, 7.04105377e-01]],\n",
       " \n",
       "         [[6.58517182e-01, 6.66360319e-01, 6.46752477e-01],\n",
       "          [6.70526981e-01, 6.78370118e-01, 6.58762276e-01],\n",
       "          [6.77879930e-01, 6.85723066e-01, 6.66115224e-01],\n",
       "          ...,\n",
       "          [6.89276934e-01, 6.89276934e-01, 6.97120070e-01],\n",
       "          [6.88664198e-01, 6.88664198e-01, 6.96507335e-01],\n",
       "          [6.89215660e-01, 6.89215660e-01, 6.97058797e-01]],\n",
       " \n",
       "         ...,\n",
       " \n",
       "         [[6.60294116e-01, 6.64215684e-01, 6.40686274e-01],\n",
       "          [6.59742653e-01, 6.62193656e-01, 6.44546568e-01],\n",
       "          [6.58823550e-01, 6.58823550e-01, 6.50980413e-01],\n",
       "          ...,\n",
       "          [6.40686274e-01, 6.40686274e-01, 6.40686274e-01],\n",
       "          [6.37316167e-01, 6.37316167e-01, 6.37316167e-01],\n",
       "          [6.30575955e-01, 6.30575955e-01, 6.30575955e-01]],\n",
       " \n",
       "         [[6.65196061e-01, 6.69117630e-01, 6.45588219e-01],\n",
       "          [6.63725495e-01, 6.66176498e-01, 6.48529410e-01],\n",
       "          [6.59742653e-01, 6.59742653e-01, 6.51899517e-01],\n",
       "          ...,\n",
       "          [6.45588219e-01, 6.45588219e-01, 6.45588219e-01],\n",
       "          [6.40686274e-01, 6.40686274e-01, 6.40686274e-01],\n",
       "          [6.28737748e-01, 6.28737748e-01, 6.28737748e-01]],\n",
       " \n",
       "         [[6.69669092e-01, 6.73590660e-01, 6.50061250e-01],\n",
       "          [6.66482866e-01, 6.68933809e-01, 6.51286781e-01],\n",
       "          [6.63725495e-01, 6.63725495e-01, 6.55882359e-01],\n",
       "          ...,\n",
       "          [6.49203420e-01, 6.49203420e-01, 6.49203420e-01],\n",
       "          [6.42156839e-01, 6.42156839e-01, 6.42156839e-01],\n",
       "          [6.28921568e-01, 6.28921568e-01, 6.28921568e-01]]],\n",
       " \n",
       " \n",
       "        ...,\n",
       " \n",
       " \n",
       "        [[[3.67761940e-01, 2.74080873e-01, 1.74632354e-03],\n",
       "          [4.56227034e-01, 3.74310672e-01, 5.31709567e-02],\n",
       "          [5.31594694e-01, 4.58256751e-01, 9.83226076e-02],\n",
       "          ...,\n",
       "          [1.48008585e-01, 1.38426781e-01, 1.32199759e-02],\n",
       "          [1.41613051e-01, 1.29848346e-01, 8.27971846e-03],\n",
       "          [1.41176477e-01, 1.29411772e-01, 7.84313772e-03]],\n",
       " \n",
       "         [[3.49641949e-01, 2.58288324e-01, 1.41320319e-03],\n",
       "          [4.33535397e-01, 3.56357217e-01, 4.34447192e-02],\n",
       "          [5.08990705e-01, 4.41136122e-01, 8.38625580e-02],\n",
       "          ...,\n",
       "          [1.47592172e-01, 1.38010383e-01, 9.14801843e-03],\n",
       "          [1.41613051e-01, 1.29848346e-01, 7.78003782e-03],\n",
       "          [1.41176477e-01, 1.29411772e-01, 7.84313772e-03]],\n",
       " \n",
       "         [[3.20335478e-01, 2.36225754e-01, 8.71740631e-04],\n",
       "          [4.00811881e-01, 3.29427093e-01, 2.80428119e-02],\n",
       "          [4.77168351e-01, 4.15246248e-01, 6.39658198e-02],\n",
       "          ...,\n",
       "          [1.45446926e-01, 1.38616145e-01, 6.10447302e-03],\n",
       "          [1.39361218e-01, 1.30974263e-01, 5.40541112e-03],\n",
       "          [1.38924628e-01, 1.30537689e-01, 5.59129892e-03]],\n",
       " \n",
       "         ...,\n",
       " \n",
       "         [[1.64851412e-01, 1.49165139e-01, 1.45526967e-04],\n",
       "          [1.68627456e-01, 1.52941182e-01, 3.92156886e-03],\n",
       "          [1.69355080e-01, 1.53668806e-01, 4.64920327e-03],\n",
       "          ...,\n",
       "          [3.58372182e-01, 2.27620035e-01, 9.36545606e-04],\n",
       "          [4.27447438e-01, 2.95240045e-01, 1.19728390e-02],\n",
       "          [4.89879966e-01, 3.58756661e-01, 6.42059147e-02]],\n",
       " \n",
       "         [[1.64851412e-01, 1.49165139e-01, 1.45526967e-04],\n",
       "          [1.68627456e-01, 1.52941182e-01, 3.92156886e-03],\n",
       "          [1.69355080e-01, 1.53668806e-01, 4.64920327e-03],\n",
       "          ...,\n",
       "          [3.43854427e-01, 2.10610211e-01, 7.27634819e-04],\n",
       "          [4.01191205e-01, 2.64689833e-01, 6.96997531e-03],\n",
       "          [4.48878914e-01, 3.13805968e-01, 4.50799242e-02]],\n",
       " \n",
       "         [[1.64851412e-01, 1.49165139e-01, 1.45526967e-04],\n",
       "          [1.68627456e-01, 1.52941182e-01, 3.92156886e-03],\n",
       "          [1.69355080e-01, 1.53668806e-01, 4.64920327e-03],\n",
       "          ...,\n",
       "          [3.37538302e-01, 2.02466294e-01, 7.27634819e-04],\n",
       "          [3.86481315e-01, 2.45741427e-01, 6.96997531e-03],\n",
       "          [4.22365189e-01, 2.84964770e-01, 3.42754275e-02]]],\n",
       " \n",
       " \n",
       "        [[[5.05882382e-01, 7.01960802e-01, 1.09803922e-01],\n",
       "          [5.05882382e-01, 7.01960802e-01, 1.09803922e-01],\n",
       "          [5.05882382e-01, 7.01960802e-01, 1.09803922e-01],\n",
       "          ...,\n",
       "          [5.05882382e-01, 7.01960802e-01, 1.09803922e-01],\n",
       "          [5.05882382e-01, 7.01960802e-01, 1.09803922e-01],\n",
       "          [5.05882382e-01, 7.01960802e-01, 1.09803922e-01]],\n",
       " \n",
       "         [[5.05882382e-01, 7.01960802e-01, 1.09803922e-01],\n",
       "          [5.05882382e-01, 7.01960802e-01, 1.09803922e-01],\n",
       "          [5.05882382e-01, 7.01960802e-01, 1.09803922e-01],\n",
       "          ...,\n",
       "          [5.05882382e-01, 7.01960802e-01, 1.09803922e-01],\n",
       "          [5.05882382e-01, 7.01960802e-01, 1.09803922e-01],\n",
       "          [5.05882382e-01, 7.01960802e-01, 1.09803922e-01]],\n",
       " \n",
       "         [[5.05882382e-01, 7.01960802e-01, 1.09803922e-01],\n",
       "          [5.05882382e-01, 7.01960802e-01, 1.09803922e-01],\n",
       "          [5.05882382e-01, 7.01960802e-01, 1.09803922e-01],\n",
       "          ...,\n",
       "          [5.05882382e-01, 7.01960802e-01, 1.09803922e-01],\n",
       "          [5.05882382e-01, 7.01960802e-01, 1.09803922e-01],\n",
       "          [5.05882382e-01, 7.01960802e-01, 1.09803922e-01]],\n",
       " \n",
       "         ...,\n",
       " \n",
       "         [[4.98897046e-01, 6.94975495e-01, 1.02818631e-01],\n",
       "          [5.01960814e-01, 6.98039234e-01, 1.05882354e-01],\n",
       "          [5.02328455e-01, 6.98406875e-01, 1.06250003e-01],\n",
       "          ...,\n",
       "          [5.09803951e-01, 7.05882370e-01, 1.13725491e-01],\n",
       "          [5.09803951e-01, 7.05882370e-01, 1.13725491e-01],\n",
       "          [5.09803951e-01, 7.05882370e-01, 1.13725491e-01]],\n",
       " \n",
       "         [[4.98897046e-01, 6.94975495e-01, 1.02818631e-01],\n",
       "          [5.01960814e-01, 6.98039234e-01, 1.05882354e-01],\n",
       "          [5.02328455e-01, 6.98406875e-01, 1.06250003e-01],\n",
       "          ...,\n",
       "          [5.09803951e-01, 7.05882370e-01, 1.13725491e-01],\n",
       "          [5.09803951e-01, 7.05882370e-01, 1.13725491e-01],\n",
       "          [5.09803951e-01, 7.05882370e-01, 1.13725491e-01]],\n",
       " \n",
       "         [[4.98897046e-01, 6.94975495e-01, 1.02818631e-01],\n",
       "          [5.01960814e-01, 6.98039234e-01, 1.05882354e-01],\n",
       "          [5.02328455e-01, 6.98406875e-01, 1.06250003e-01],\n",
       "          ...,\n",
       "          [5.09803951e-01, 7.05882370e-01, 1.13725491e-01],\n",
       "          [5.09803951e-01, 7.05882370e-01, 1.13725491e-01],\n",
       "          [5.09803951e-01, 7.05882370e-01, 1.13725491e-01]]],\n",
       " \n",
       " \n",
       "        [[[2.66666681e-01, 4.54901963e-01, 4.94117647e-01],\n",
       "          [2.66666681e-01, 4.54901963e-01, 4.94117647e-01],\n",
       "          [2.58823544e-01, 4.47058827e-01, 4.86274511e-01],\n",
       "          ...,\n",
       "          [3.28431368e-01, 5.91176450e-01, 6.14705861e-01],\n",
       "          [3.29411775e-01, 5.92156887e-01, 6.15686297e-01],\n",
       "          [3.29411775e-01, 5.92156887e-01, 6.15686297e-01]],\n",
       " \n",
       "         [[2.66666681e-01, 4.54901963e-01, 4.94117647e-01],\n",
       "          [2.66666681e-01, 4.54901963e-01, 4.94117647e-01],\n",
       "          [2.58823544e-01, 4.47058827e-01, 4.86274511e-01],\n",
       "          ...,\n",
       "          [3.28431368e-01, 5.91176450e-01, 6.14705861e-01],\n",
       "          [3.29411775e-01, 5.92156887e-01, 6.15686297e-01],\n",
       "          [3.29411775e-01, 5.92156887e-01, 6.15686297e-01]],\n",
       " \n",
       "         [[2.66176462e-01, 4.65686262e-01, 5.02941191e-01],\n",
       "          [2.66176462e-01, 4.65686262e-01, 5.02941191e-01],\n",
       "          [2.58517146e-01, 4.58026975e-01, 4.95281875e-01],\n",
       "          ...,\n",
       "          [3.32291663e-01, 6.10232830e-01, 6.31311297e-01],\n",
       "          [3.33333343e-01, 6.11274481e-01, 6.32352948e-01],\n",
       "          [3.33333343e-01, 6.11274481e-01, 6.32352948e-01]],\n",
       " \n",
       "         ...,\n",
       " \n",
       "         [[7.98529387e-01, 5.63235283e-01, 8.48039240e-02],\n",
       "          [7.98529387e-01, 5.63235283e-01, 8.48039240e-02],\n",
       "          [8.00245106e-01, 5.64951003e-01, 8.65196064e-02],\n",
       "          ...,\n",
       "          [2.68933833e-01, 5.74325979e-01, 6.13541663e-01],\n",
       "          [2.69607842e-01, 5.75490177e-01, 6.14705861e-01],\n",
       "          [2.69607842e-01, 5.75490177e-01, 6.14705861e-01]],\n",
       " \n",
       "         [[7.96078444e-01, 5.60784340e-01, 8.23529437e-02],\n",
       "          [7.96078444e-01, 5.60784340e-01, 8.23529437e-02],\n",
       "          [7.98039198e-01, 5.62745094e-01, 8.43137279e-02],\n",
       "          ...,\n",
       "          [2.66176462e-01, 5.71568608e-01, 6.10784292e-01],\n",
       "          [2.66666681e-01, 5.72549045e-01, 6.11764729e-01],\n",
       "          [2.66666681e-01, 5.72549045e-01, 6.11764729e-01]],\n",
       " \n",
       "         [[7.96078444e-01, 5.60784340e-01, 8.23529437e-02],\n",
       "          [7.96078444e-01, 5.60784340e-01, 8.23529437e-02],\n",
       "          [7.98039198e-01, 5.62745094e-01, 8.43137279e-02],\n",
       "          ...,\n",
       "          [2.66176462e-01, 5.71568608e-01, 6.10784292e-01],\n",
       "          [2.66666681e-01, 5.72549045e-01, 6.11764729e-01],\n",
       "          [2.66666681e-01, 5.72549045e-01, 6.11764729e-01]]]],\n",
       "       dtype=float32),\n",
       " array([0, 0, 1, 1, 0, 0, 1, 1, 1, 1, 0, 0, 0, 1, 1, 1, 0, 1, 0, 0, 1, 1,\n",
       "        1, 0, 1, 1, 0, 0, 0, 0, 1, 1]))"
      ]
     },
     "execution_count": 18,
     "metadata": {},
     "output_type": "execute_result"
    }
   ],
   "source": [
    "data.as_numpy_iterator().next()"
   ]
  },
  {
   "cell_type": "code",
   "execution_count": 19,
   "metadata": {
    "pycharm": {
     "name": "#%%\n"
    }
   },
   "outputs": [],
   "source": [
    "train_size = int(len(data)*.7)\n",
    "val_size = int(len(data)*.2)\n",
    "test_size = int(len(data)*.1)"
   ]
  },
  {
   "cell_type": "code",
   "execution_count": 20,
   "metadata": {
    "pycharm": {
     "is_executing": true,
     "name": "#%%\n"
    }
   },
   "outputs": [
    {
     "data": {
      "text/plain": [
       "2"
      ]
     },
     "execution_count": 20,
     "metadata": {},
     "output_type": "execute_result"
    }
   ],
   "source": [
    "val_size"
   ]
  },
  {
   "cell_type": "code",
   "execution_count": 21,
   "metadata": {
    "pycharm": {
     "name": "#%%\n"
    }
   },
   "outputs": [
    {
     "data": {
      "text/plain": [
       "9"
      ]
     },
     "execution_count": 21,
     "metadata": {},
     "output_type": "execute_result"
    }
   ],
   "source": [
    "train_size"
   ]
  },
  {
   "cell_type": "code",
   "execution_count": 22,
   "metadata": {
    "pycharm": {
     "name": "#%%\n"
    }
   },
   "outputs": [],
   "source": [
    "train = data.take(train_size)\n",
    "val = data.skip(train_size).take(val_size)\n",
    "test = data.skip(train_size+val_size).take(test_size)"
   ]
  },
  {
   "cell_type": "code",
   "execution_count": 23,
   "metadata": {
    "pycharm": {
     "name": "#%%\n"
    }
   },
   "outputs": [
    {
     "data": {
      "text/plain": [
       "<TakeDataset element_spec=(TensorSpec(shape=(None, 256, 256, 3), dtype=tf.float32, name=None), TensorSpec(shape=(None,), dtype=tf.int32, name=None))>"
      ]
     },
     "execution_count": 23,
     "metadata": {},
     "output_type": "execute_result"
    }
   ],
   "source": [
    "train"
   ]
  },
  {
   "cell_type": "code",
   "execution_count": 24,
   "metadata": {
    "pycharm": {
     "name": "#%%\n"
    }
   },
   "outputs": [],
   "source": [
    "model = Sequential()"
   ]
  },
  {
   "cell_type": "code",
   "execution_count": 25,
   "metadata": {
    "pycharm": {
     "name": "#%%\n"
    }
   },
   "outputs": [],
   "source": [
    "model.add(Conv2D(16, (3,3), 1, activation='relu', input_shape=(256,256,3)))\n",
    "model.add(MaxPooling2D())\n",
    "\n",
    "model.add(Conv2D(32, (3,3), 1, activation='relu'))\n",
    "model.add(MaxPooling2D())\n",
    "\n",
    "model.add(Conv2D(16, (3,3), 1, activation='relu'))\n",
    "model.add(MaxPooling2D())\n",
    "\n",
    "model.add(Flatten())\n",
    "\n",
    "model.add(Dense(256, activation='relu'))\n",
    "model.add(Dense(1, activation='sigmoid'))"
   ]
  },
  {
   "cell_type": "code",
   "execution_count": 26,
   "metadata": {
    "pycharm": {
     "name": "#%%\n"
    }
   },
   "outputs": [],
   "source": [
    "model.compile('adam', loss=tf.losses.BinaryCrossentropy(), metrics=['accuracy'])"
   ]
  },
  {
   "cell_type": "code",
   "execution_count": 27,
   "metadata": {
    "pycharm": {
     "name": "#%%\n"
    }
   },
   "outputs": [
    {
     "name": "stdout",
     "output_type": "stream",
     "text": [
      "Model: \"sequential\"\n",
      "_________________________________________________________________\n",
      " Layer (type)                Output Shape              Param #   \n",
      "=================================================================\n",
      " conv2d (Conv2D)             (None, 254, 254, 16)      448       \n",
      "                                                                 \n",
      " max_pooling2d (MaxPooling2D  (None, 127, 127, 16)     0         \n",
      " )                                                               \n",
      "                                                                 \n",
      " conv2d_1 (Conv2D)           (None, 125, 125, 32)      4640      \n",
      "                                                                 \n",
      " max_pooling2d_1 (MaxPooling  (None, 62, 62, 32)       0         \n",
      " 2D)                                                             \n",
      "                                                                 \n",
      " conv2d_2 (Conv2D)           (None, 60, 60, 16)        4624      \n",
      "                                                                 \n",
      " max_pooling2d_2 (MaxPooling  (None, 30, 30, 16)       0         \n",
      " 2D)                                                             \n",
      "                                                                 \n",
      " flatten (Flatten)           (None, 14400)             0         \n",
      "                                                                 \n",
      " dense (Dense)               (None, 256)               3686656   \n",
      "                                                                 \n",
      " dense_1 (Dense)             (None, 1)                 257       \n",
      "                                                                 \n",
      "=================================================================\n",
      "Total params: 3,696,625\n",
      "Trainable params: 3,696,625\n",
      "Non-trainable params: 0\n",
      "_________________________________________________________________\n"
     ]
    }
   ],
   "source": [
    "model.summary()"
   ]
  },
  {
   "cell_type": "code",
   "execution_count": 28,
   "metadata": {
    "pycharm": {
     "name": "#%%\n"
    }
   },
   "outputs": [],
   "source": [
    "logdir='logs'"
   ]
  },
  {
   "cell_type": "code",
   "execution_count": 29,
   "metadata": {
    "pycharm": {
     "name": "#%%\n"
    }
   },
   "outputs": [],
   "source": [
    "tensorboard_callback = tf.keras.callbacks.TensorBoard(log_dir=logdir)"
   ]
  },
  {
   "cell_type": "code",
   "execution_count": null,
   "metadata": {
    "pycharm": {
     "name": "#%%\n"
    }
   },
   "outputs": [
    {
     "name": "stdout",
     "output_type": "stream",
     "text": [
      "Epoch 1/20\n",
      "9/9 [==============================] - 12s 987ms/step - loss: 1.2214 - accuracy: 0.5833 - val_loss: 0.6896 - val_accuracy: 0.5469\n",
      "Epoch 2/20\n",
      "9/9 [==============================] - 9s 909ms/step - loss: 0.6830 - accuracy: 0.6146 - val_loss: 0.6919 - val_accuracy: 0.5312\n",
      "Epoch 3/20\n",
      "9/9 [==============================] - 12s 1s/step - loss: 0.6405 - accuracy: 0.6250 - val_loss: 0.6465 - val_accuracy: 0.6250\n",
      "Epoch 4/20\n",
      "9/9 [==============================] - 10s 955ms/step - loss: 0.6478 - accuracy: 0.6458 - val_loss: 0.5973 - val_accuracy: 0.6406\n",
      "Epoch 5/20\n",
      "9/9 [==============================] - 8s 800ms/step - loss: 0.6097 - accuracy: 0.6354 - val_loss: 0.6306 - val_accuracy: 0.6406\n",
      "Epoch 6/20\n",
      "9/9 [==============================] - 8s 781ms/step - loss: 0.5525 - accuracy: 0.6910 - val_loss: 0.5816 - val_accuracy: 0.6250\n",
      "Epoch 7/20\n",
      "9/9 [==============================] - 7s 748ms/step - loss: 0.5808 - accuracy: 0.6736 - val_loss: 0.6569 - val_accuracy: 0.6719\n",
      "Epoch 8/20\n",
      "9/9 [==============================] - 7s 748ms/step - loss: 0.5967 - accuracy: 0.6771 - val_loss: 0.6545 - val_accuracy: 0.5938\n",
      "Epoch 9/20\n",
      "9/9 [==============================] - 7s 746ms/step - loss: 0.5556 - accuracy: 0.6840 - val_loss: 0.5538 - val_accuracy: 0.6875\n",
      "Epoch 10/20\n",
      "9/9 [==============================] - 7s 741ms/step - loss: 0.5708 - accuracy: 0.6806 - val_loss: 0.5152 - val_accuracy: 0.7969\n",
      "Epoch 11/20\n",
      "9/9 [==============================] - 7s 735ms/step - loss: 0.5546 - accuracy: 0.7118 - val_loss: 0.5513 - val_accuracy: 0.6250\n",
      "Epoch 12/20\n",
      "9/9 [==============================] - 14s 2s/step - loss: 0.5032 - accuracy: 0.7222 - val_loss: 0.5485 - val_accuracy: 0.7344\n",
      "Epoch 13/20\n",
      "9/9 [==============================] - 7s 724ms/step - loss: 0.5023 - accuracy: 0.7465 - val_loss: 0.5044 - val_accuracy: 0.7188\n",
      "Epoch 14/20\n",
      "9/9 [==============================] - 7s 738ms/step - loss: 0.5036 - accuracy: 0.7396 - val_loss: 0.5155 - val_accuracy: 0.7500\n",
      "Epoch 15/20\n",
      "9/9 [==============================] - 14s 2s/step - loss: 0.4917 - accuracy: 0.7222 - val_loss: 0.5043 - val_accuracy: 0.7031\n",
      "Epoch 16/20\n",
      "9/9 [==============================] - 7s 745ms/step - loss: 0.4714 - accuracy: 0.7222 - val_loss: 0.4483 - val_accuracy: 0.7031\n",
      "Epoch 17/20\n",
      "9/9 [==============================] - 7s 744ms/step - loss: 0.4766 - accuracy: 0.7569 - val_loss: 0.4164 - val_accuracy: 0.7969\n",
      "Epoch 18/20\n",
      "3/9 [=========>....................] - ETA: 3s - loss: 0.4683 - accuracy: 0.7188"
     ]
    }
   ],
   "source": [
    "hist = model.fit(train, epochs=50, validation_data=val, callbacks=[tensorboard_callback])"
   ]
  },
  {
   "cell_type": "code",
   "execution_count": 31,
   "metadata": {
    "pycharm": {
     "name": "#%%\n"
    }
   },
   "outputs": [
    {
     "data": {
      "image/png": "[encoded data removed]",
      "text/plain": [
       "<Figure size 432x288 with 1 Axes>"
      ]
     },
     "metadata": {},
     "output_type": "display_data"
    }
   ],
   "source": [
    "fig = plt.figure()\n",
    "plt.plot(hist.history['loss'], color='teal', label='loss')\n",
    "plt.plot(hist.history['val_loss'], color='orange', label='val_loss')\n",
    "fig.suptitle('Loss', fontsize=20)\n",
    "plt.legend(loc=\"upper left\")\n",
    "plt.show()"
   ]
  },
  {
   "cell_type": "code",
   "execution_count": 32,
   "metadata": {
    "pycharm": {
     "name": "#%%\n"
    }
   },
   "outputs": [
    {
     "data": {
      "image/png": "[encoded data removed]",
      "text/plain": [
       "<Figure size 432x288 with 1 Axes>"
      ]
     },
     "metadata": {},
     "output_type": "display_data"
    }
   ],
   "source": [
    "fig = plt.figure()\n",
    "plt.plot(hist.history['accuracy'], color='teal', label='accuracy')\n",
    "plt.plot(hist.history['val_accuracy'], color='orange', label='val_accuracy')\n",
    "fig.suptitle('Accuracy', fontsize=20)\n",
    "plt.legend(loc=\"upper left\")\n",
    "plt.show()"
   ]
  },
  {
   "cell_type": "code",
   "execution_count": 33,
   "metadata": {
    "pycharm": {
     "name": "#%%\n"
    }
   },
   "outputs": [],
   "source": [
    "pre = Precision()\n",
    "re = Recall()\n",
    "acc = BinaryAccuracy()"
   ]
  },
  {
   "cell_type": "code",
   "execution_count": 34,
   "metadata": {
    "pycharm": {
     "name": "#%%\n"
    }
   },
   "outputs": [
    {
     "name": "stdout",
     "output_type": "stream",
     "text": [
      "1/1 [==============================] - 0s 220ms/step\n"
     ]
    }
   ],
   "source": [
    "for batch in test.as_numpy_iterator(): \n",
    "    X, y = batch\n",
    "    yhat = model.predict(X)\n",
    "    pre.update_state(y, yhat)\n",
    "    re.update_state(y, yhat)\n",
    "    acc.update_state(y, yhat)"
   ]
  },
  {
   "cell_type": "code",
   "execution_count": 35,
   "metadata": {
    "pycharm": {
     "name": "#%%\n"
    }
   },
   "outputs": [
    {
     "name": "stdout",
     "output_type": "stream",
     "text": [
      "tf.Tensor(0.8333333, shape=(), dtype=float32) tf.Tensor(0.88235295, shape=(), dtype=float32) tf.Tensor(0.84375, shape=(), dtype=float32)\n"
     ]
    }
   ],
   "source": [
    "print(pre.result(), re.result(), acc.result())"
   ]
  },
  {
   "cell_type": "code",
   "execution_count": 36,
   "metadata": {
    "pycharm": {
     "name": "#%%\n"
    }
   },
   "outputs": [
    {
     "name": "stdout",
     "output_type": "stream",
     "text": [
      "1/1 [==============================] - 0s 114ms/step\n"
     ]
    }
   ],
   "source": [
    "predictions = model.predict(X)"
   ]
  },
  {
   "cell_type": "code",
   "execution_count": 69,
   "metadata": {
    "pycharm": {
     "name": "#%%\n"
    }
   },
   "outputs": [],
   "source": [
    "#confusion_matrix = torch.zeros(10, 10, dtype=torch.int32)\n",
    "#print(confusion_matrix.numpy())"
   ]
  },
  {
   "cell_type": "code",
   "execution_count": 71,
   "metadata": {
    "pycharm": {
     "name": "#%%\n"
    }
   },
   "outputs": [
    {
     "ename": "ValueError",
     "evalue": "Expected array-like (array or non-string sequence), got <TakeDataset element_spec=(TensorSpec(shape=(None, 256, 256, 3), dtype=tf.float32, name=None), TensorSpec(shape=(None,), dtype=tf.int32, name=None))>",
     "output_type": "error",
     "traceback": [
      "\u001B[1;31m---------------------------------------------------------------------------\u001B[0m",
      "\u001B[1;31mValueError\u001B[0m                                Traceback (most recent call last)",
      "Input \u001B[1;32mIn [71]\u001B[0m, in \u001B[0;36m<cell line: 1>\u001B[1;34m()\u001B[0m\n\u001B[1;32m----> 1\u001B[0m cn \u001B[38;5;241m=\u001B[39m \u001B[43mconfusion_matrix\u001B[49m\u001B[43m(\u001B[49m\u001B[43my_true\u001B[49m\u001B[38;5;241;43m=\u001B[39;49m\u001B[43mtest\u001B[49m\u001B[43m,\u001B[49m\u001B[43m \u001B[49m\u001B[43my_pred\u001B[49m\u001B[38;5;241;43m=\u001B[39;49m\u001B[43mtest\u001B[49m\u001B[43m)\u001B[49m\n",
      "File \u001B[1;32m~\\anaconda3\\lib\\site-packages\\sklearn\\metrics\\_classification.py:307\u001B[0m, in \u001B[0;36mconfusion_matrix\u001B[1;34m(y_true, y_pred, labels, sample_weight, normalize)\u001B[0m\n\u001B[0;32m    222\u001B[0m \u001B[38;5;28;01mdef\u001B[39;00m \u001B[38;5;21mconfusion_matrix\u001B[39m(\n\u001B[0;32m    223\u001B[0m     y_true, y_pred, \u001B[38;5;241m*\u001B[39m, labels\u001B[38;5;241m=\u001B[39m\u001B[38;5;28;01mNone\u001B[39;00m, sample_weight\u001B[38;5;241m=\u001B[39m\u001B[38;5;28;01mNone\u001B[39;00m, normalize\u001B[38;5;241m=\u001B[39m\u001B[38;5;28;01mNone\u001B[39;00m\n\u001B[0;32m    224\u001B[0m ):\n\u001B[0;32m    225\u001B[0m     \u001B[38;5;124;03m\"\"\"Compute confusion matrix to evaluate the accuracy of a classification.\u001B[39;00m\n\u001B[0;32m    226\u001B[0m \n\u001B[0;32m    227\u001B[0m \u001B[38;5;124;03m    By definition a confusion matrix :math:`C` is such that :math:`C_{i, j}`\u001B[39;00m\n\u001B[1;32m   (...)\u001B[0m\n\u001B[0;32m    305\u001B[0m \u001B[38;5;124;03m    (0, 2, 1, 1)\u001B[39;00m\n\u001B[0;32m    306\u001B[0m \u001B[38;5;124;03m    \"\"\"\u001B[39;00m\n\u001B[1;32m--> 307\u001B[0m     y_type, y_true, y_pred \u001B[38;5;241m=\u001B[39m \u001B[43m_check_targets\u001B[49m\u001B[43m(\u001B[49m\u001B[43my_true\u001B[49m\u001B[43m,\u001B[49m\u001B[43m \u001B[49m\u001B[43my_pred\u001B[49m\u001B[43m)\u001B[49m\n\u001B[0;32m    308\u001B[0m     \u001B[38;5;28;01mif\u001B[39;00m y_type \u001B[38;5;129;01mnot\u001B[39;00m \u001B[38;5;129;01min\u001B[39;00m (\u001B[38;5;124m\"\u001B[39m\u001B[38;5;124mbinary\u001B[39m\u001B[38;5;124m\"\u001B[39m, \u001B[38;5;124m\"\u001B[39m\u001B[38;5;124mmulticlass\u001B[39m\u001B[38;5;124m\"\u001B[39m):\n\u001B[0;32m    309\u001B[0m         \u001B[38;5;28;01mraise\u001B[39;00m \u001B[38;5;167;01mValueError\u001B[39;00m(\u001B[38;5;124m\"\u001B[39m\u001B[38;5;132;01m%s\u001B[39;00m\u001B[38;5;124m is not supported\u001B[39m\u001B[38;5;124m\"\u001B[39m \u001B[38;5;241m%\u001B[39m y_type)\n",
      "File \u001B[1;32m~\\anaconda3\\lib\\site-packages\\sklearn\\metrics\\_classification.py:85\u001B[0m, in \u001B[0;36m_check_targets\u001B[1;34m(y_true, y_pred)\u001B[0m\n\u001B[0;32m     58\u001B[0m \u001B[38;5;124;03m\"\"\"Check that y_true and y_pred belong to the same classification task.\u001B[39;00m\n\u001B[0;32m     59\u001B[0m \n\u001B[0;32m     60\u001B[0m \u001B[38;5;124;03mThis converts multiclass or binary types to a common shape, and raises a\u001B[39;00m\n\u001B[1;32m   (...)\u001B[0m\n\u001B[0;32m     82\u001B[0m \u001B[38;5;124;03my_pred : array or indicator matrix\u001B[39;00m\n\u001B[0;32m     83\u001B[0m \u001B[38;5;124;03m\"\"\"\u001B[39;00m\n\u001B[0;32m     84\u001B[0m check_consistent_length(y_true, y_pred)\n\u001B[1;32m---> 85\u001B[0m type_true \u001B[38;5;241m=\u001B[39m \u001B[43mtype_of_target\u001B[49m\u001B[43m(\u001B[49m\u001B[43my_true\u001B[49m\u001B[43m,\u001B[49m\u001B[43m \u001B[49m\u001B[43minput_name\u001B[49m\u001B[38;5;241;43m=\u001B[39;49m\u001B[38;5;124;43m\"\u001B[39;49m\u001B[38;5;124;43my_true\u001B[39;49m\u001B[38;5;124;43m\"\u001B[39;49m\u001B[43m)\u001B[49m\n\u001B[0;32m     86\u001B[0m type_pred \u001B[38;5;241m=\u001B[39m type_of_target(y_pred, input_name\u001B[38;5;241m=\u001B[39m\u001B[38;5;124m\"\u001B[39m\u001B[38;5;124my_pred\u001B[39m\u001B[38;5;124m\"\u001B[39m)\n\u001B[0;32m     88\u001B[0m y_type \u001B[38;5;241m=\u001B[39m {type_true, type_pred}\n",
      "File \u001B[1;32m~\\anaconda3\\lib\\site-packages\\sklearn\\utils\\multiclass.py:278\u001B[0m, in \u001B[0;36mtype_of_target\u001B[1;34m(y, input_name)\u001B[0m\n\u001B[0;32m    273\u001B[0m valid \u001B[38;5;241m=\u001B[39m (\n\u001B[0;32m    274\u001B[0m     \u001B[38;5;28misinstance\u001B[39m(y, Sequence) \u001B[38;5;129;01mor\u001B[39;00m issparse(y) \u001B[38;5;129;01mor\u001B[39;00m \u001B[38;5;28mhasattr\u001B[39m(y, \u001B[38;5;124m\"\u001B[39m\u001B[38;5;124m__array__\u001B[39m\u001B[38;5;124m\"\u001B[39m)\n\u001B[0;32m    275\u001B[0m ) \u001B[38;5;129;01mand\u001B[39;00m \u001B[38;5;129;01mnot\u001B[39;00m \u001B[38;5;28misinstance\u001B[39m(y, \u001B[38;5;28mstr\u001B[39m)\n\u001B[0;32m    277\u001B[0m \u001B[38;5;28;01mif\u001B[39;00m \u001B[38;5;129;01mnot\u001B[39;00m valid:\n\u001B[1;32m--> 278\u001B[0m     \u001B[38;5;28;01mraise\u001B[39;00m \u001B[38;5;167;01mValueError\u001B[39;00m(\n\u001B[0;32m    279\u001B[0m         \u001B[38;5;124m\"\u001B[39m\u001B[38;5;124mExpected array-like (array or non-string sequence), got \u001B[39m\u001B[38;5;132;01m%r\u001B[39;00m\u001B[38;5;124m\"\u001B[39m \u001B[38;5;241m%\u001B[39m y\n\u001B[0;32m    280\u001B[0m     )\n\u001B[0;32m    282\u001B[0m sparse_pandas \u001B[38;5;241m=\u001B[39m y\u001B[38;5;241m.\u001B[39m\u001B[38;5;18m__class__\u001B[39m\u001B[38;5;241m.\u001B[39m\u001B[38;5;18m__name__\u001B[39m \u001B[38;5;129;01min\u001B[39;00m [\u001B[38;5;124m\"\u001B[39m\u001B[38;5;124mSparseSeries\u001B[39m\u001B[38;5;124m\"\u001B[39m, \u001B[38;5;124m\"\u001B[39m\u001B[38;5;124mSparseArray\u001B[39m\u001B[38;5;124m\"\u001B[39m]\n\u001B[0;32m    283\u001B[0m \u001B[38;5;28;01mif\u001B[39;00m sparse_pandas:\n",
      "\u001B[1;31mValueError\u001B[0m: Expected array-like (array or non-string sequence), got <TakeDataset element_spec=(TensorSpec(shape=(None, 256, 256, 3), dtype=tf.float32, name=None), TensorSpec(shape=(None,), dtype=tf.int32, name=None))>"
     ]
    }
   ],
   "source": [
    "cn = confusion_matrix(y_true=test, y_pred=test)"
   ]
  },
  {
   "cell_type": "code",
   "execution_count": null,
   "metadata": {
    "pycharm": {
     "name": "#%%\n"
    }
   },
   "outputs": [],
   "source": []
  }
 ],
 "metadata": {
  "kernelspec": {
   "display_name": "Python 3 (ipykernel)",
   "language": "python",
   "name": "python3"
  },
  "language_info": {
   "codemirror_mode": {
    "name": "ipython",
    "version": 3
   },
   "file_extension": ".py",
   "mimetype": "text/x-python",
   "name": "python",
   "nbconvert_exporter": "python",
   "pygments_lexer": "ipython3",
   "version": "3.9.12"
  }
 },
 "nbformat": 4,
 "nbformat_minor": 1
}
