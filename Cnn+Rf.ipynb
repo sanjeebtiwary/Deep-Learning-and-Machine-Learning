{
 "cells": [
  {
   "cell_type": "code",
   "execution_count": 40,
   "metadata": {
    "pycharm": {
     "is_executing": true
    }
   },
   "outputs": [],
   "source": [
    "import numpy as np\n",
    "import pandas as pd\n",
    "import matplotlib.pyplot as plt\n",
    "from matplotlib.offsetbox import OffsetImage, AnnotationBbox\n",
    "%matplotlib inline\n",
    "import tensorflow as tf\n",
    "import keras\n",
    "import glob\n",
    "import cv2\n",
    "import pickle, datetime\n",
    "from keras.models import Model, Sequential\n",
    "from keras.layers import Dense, Dropout, Flatten, Conv2D, MaxPooling2D,GlobalAveragePooling2D\n",
    "from keras.layers import LSTM, Input, TimeDistributed,Convolution2D,Activation\n",
    "from keras.layers.convolutional import ZeroPadding2D\n",
    "from keras.optimizers import RMSprop, SGD\n",
    "from keras.utils import np_utils\n",
    "from keras import optimizers\n",
    "from keras.preprocessing import sequence\n",
    "from keras.models import load_model\n",
    "from sklearn.preprocessing import LabelBinarizer\n",
    "from sklearn.ensemble import RandomForestClassifier\n",
    "from sklearn.metrics import accuracy_score\n",
    "import torch \n",
    "import torch.nn as nn\n",
    "import torch.optim as optim\n",
    "import torchvision\n",
    "import torchvision.transforms as trans\n",
    "import itertools\n",
    "# Import the backend\n",
    "from keras import backend as Ktensorflow_backend_get_available_gpus\n",
    "import os"
   ]
  },
  {
   "cell_type": "code",
   "execution_count": 41,
   "metadata": {},
   "outputs": [],
   "source": [
    "from tensorflow.keras.layers import BatchNormalization\n",
    "from keras.preprocessing.image import ImageDataGenerator#, array_to_img, img_to_array, load_img"
   ]
  },
  {
   "cell_type": "code",
   "execution_count": 42,
   "metadata": {},
   "outputs": [],
   "source": [
    "from keras_preprocessing.image import img_to_array"
   ]
  },
  {
   "cell_type": "code",
   "execution_count": 43,
   "metadata": {},
   "outputs": [],
   "source": [
    "from tensorflow.keras.utils import load_img"
   ]
  },
  {
   "cell_type": "code",
   "execution_count": 44,
   "metadata": {},
   "outputs": [],
   "source": [
    "from tensorflow.keras.utils import array_to_img"
   ]
  },
  {
   "cell_type": "code",
   "execution_count": 45,
   "metadata": {},
   "outputs": [
    {
     "name": "stdout",
     "output_type": "stream",
     "text": [
      "['Test', 'Train']\n"
     ]
    }
   ],
   "source": [
    "print(os.listdir(\"data/\"))"
   ]
  },
  {
   "cell_type": "code",
   "execution_count": 46,
   "metadata": {},
   "outputs": [],
   "source": [
    "SIZE = 128"
   ]
  },
  {
   "cell_type": "code",
   "execution_count": 47,
   "metadata": {},
   "outputs": [],
   "source": [
    "device = torch.device('cuda:0' if torch.cuda.is_available() else 'cpu')"
   ]
  },
  {
   "cell_type": "code",
   "execution_count": 48,
   "metadata": {},
   "outputs": [],
   "source": [
    "# Avoid OOM errors by setting GPU Memory Consumption Growth\n",
    "gpus = tf.config.experimental.list_physical_devices('GPU')\n",
    "for gpu in gpus:\n",
    "    tf.config.experimental.set_memory_growth(gpu, True)"
   ]
  },
  {
   "cell_type": "code",
   "execution_count": 49,
   "metadata": {},
   "outputs": [
    {
     "data": {
      "text/plain": [
       "[]"
      ]
     },
     "execution_count": 49,
     "metadata": {},
     "output_type": "execute_result"
    }
   ],
   "source": [
    "tf.config.list_physical_devices('GPU')"
   ]
  },
  {
   "cell_type": "code",
   "execution_count": 50,
   "metadata": {},
   "outputs": [],
   "source": [
    "gpus = tf.config.experimental.list_physical_devices('CPU')"
   ]
  },
  {
   "cell_type": "code",
   "execution_count": 51,
   "metadata": {},
   "outputs": [],
   "source": [
    "gpus_local = tf.config.experimental.list_logical_devices('GPU')"
   ]
  },
  {
   "cell_type": "code",
   "execution_count": 52,
   "metadata": {},
   "outputs": [
    {
     "data": {
      "text/plain": [
       "1"
      ]
     },
     "execution_count": 52,
     "metadata": {},
     "output_type": "execute_result"
    }
   ],
   "source": [
    "len(gpus)"
   ]
  },
  {
   "cell_type": "code",
   "execution_count": 53,
   "metadata": {},
   "outputs": [
    {
     "data": {
      "text/plain": [
       "0"
      ]
     },
     "execution_count": 53,
     "metadata": {},
     "output_type": "execute_result"
    }
   ],
   "source": [
    "len(gpus_local)"
   ]
  },
  {
   "cell_type": "code",
   "execution_count": 54,
   "metadata": {},
   "outputs": [
    {
     "name": "stdout",
     "output_type": "stream",
     "text": [
      "['Test', 'Train']\n"
     ]
    }
   ],
   "source": [
    "print(os.listdir(\"data\"))"
   ]
  },
  {
   "cell_type": "code",
   "execution_count": 55,
   "metadata": {},
   "outputs": [],
   "source": [
    "data_dir = 'data'"
   ]
  },
  {
   "cell_type": "code",
   "execution_count": 56,
   "metadata": {},
   "outputs": [],
   "source": [
    "image_exts = ['jpeg','jpg', 'bmp', 'png']"
   ]
  },
  {
   "cell_type": "code",
   "execution_count": 58,
   "metadata": {},
   "outputs": [
    {
     "name": "stdout",
     "output_type": "stream",
     "text": [
      "Issue with image data\\Test\\-AB-Agri-partner-to-allow-scalable-production-of-algae-from-carbon-emissions.jpg\n",
      "Issue with image data\\Test\\02_News_banner_1300x570_2-1d9d0f86.jpeg\n",
      "Issue with image data\\Test\\0718-560X-lajar-48-02-0329-gf01.jpg\n",
      "Issue with image data\\Test\\1-s2.0-S0168165620302066-gr2.jpg\n",
      "Issue with image data\\Test\\1-s2.0-S0269749119376985-gr2.jpg\n",
      "Issue with image data\\Test\\1-s2.0-S0960852419300860-ga1.jpg\n",
      "Issue with image data\\Test\\1-s2.0-S102691851830009X-gr1.jpg\n",
      "Issue with image data\\Test\\1-s2.0-S1319562X12000332-gr5.jpg\n",
      "Issue with image data\\Test\\1-s2.0-S1756464620301432-gr1.jpg\n",
      "Issue with image data\\Test\\1-s2.0-S2211926417303454-gr9.jpg\n",
      "Issue with image data\\Test\\1-s2.0-S2211926417308330-gr2.jpg\n",
      "Issue with image data\\Test\\10811_2010_9591_Fig2_HTML.jpg\n",
      "Issue with image data\\Test\\10811_2019_1763_Fig2_HTML.jpg\n",
      "Issue with image data\\Test\\11-Figure2-1.png\n",
      "Issue with image data\\Test\\11270_2020_4652_Fig2_HTML.png\n",
      "Issue with image data\\Test\\11274_2010_632_Fig1_HTML.jpg\n",
      "Issue with image data\\Test\\1200px-CSIRO_ScienceImage_10697_Microalgae.jpg\n",
      "Issue with image data\\Test\\12649_2020_969_Fig3a_HTML.png\n",
      "Issue with image data\\Test\\13068_2017_798_Fig1_HTML.gif\n",
      "Issue with image data\\Test\\13762_2018_2118_Fig1_HTML.jpg\n",
      "Issue with image data\\Test\\142_20Phacotus_20lenticularis_2040XL_202_b008e391-02dd-4724-b94e-a360a87e16b6_600x.jpg\n",
      "Issue with image data\\Test\\15-investigatin.jpg\n",
      "Issue with image data\\Test\\2-Figure1-1.png\n",
      "Issue with image data\\Test\\2019-01-14_04-18-59-PMRS86598_Chlorellainww-scr.jpg\n",
      "Issue with image data\\Test\\3-s2.0-B9780128000212000194-f19-01-9780128000212.jpg\n",
      "Issue with image data\\Test\\3-s2.0-B9780128007761000030-f03-02-9780128007761.jpg\n",
      "Issue with image data\\Test\\3-s2.0-B9780128212189000086-f08-02-9780128212189.jpg\n",
      "Issue with image data\\Test\\3-s2.0-B9780128212189000128-f12-01-9780128212189.jpg\n",
      "Issue with image data\\Test\\3-s2.0-B9780857091192500048-f04-02-9780857091192.jpg\n",
      "Issue with image data\\Test\\300px-CSIRO_ScienceImage_10697_Microalgae.jpg\n",
      "Issue with image data\\Test\\315748_1_En_8_Fig2_HTML.jpg\n",
      "Issue with image data\\Test\\375_250-microalgae.jpg\n",
      "Issue with image data\\Test\\3c5bd2dadb05f7f679a0ae36a16cd1c4--biology.jpg\n",
      "Issue with image data\\Test\\4-Figure1-1.png\n",
      "Issue with image data\\Test\\44569_350x280_72_DPI_0_2000x.jpeg\n",
      "Issue with image data\\Test\\47b7d1c28c1fa8650b8bbb0070bb643eace80708.jpg\n",
      "Issue with image data\\Test\\511766954031_gf7.png\n",
      "Issue with image data\\Test\\539959983466.png\n",
      "Issue with image data\\Test\\65-Figure4.14-1.png\n",
      "Issue with image data\\Test\\6541.jpg\n",
      "Issue with image data\\Test\\6b9d53f33a54--6b9d53f33a54-IA-BLEND-banner-x400.png\n",
      "Issue with image data\\Test\\7039764.pr.jpg\n",
      "Issue with image data\\Test\\800px-CSIRO_ScienceImage_10697_Microalgae.jpg\n",
      "Issue with image data\\Test\\81bc4b99-4c6f-4e2f-b1ef-78e0b0998801_algen_micro_shutterstock_101601940_1000.jpg\n",
      "Issue with image data\\Test\\a-Isolation-of-microalgae-from-POME-b-microscopic-observation-of-C-incerta-under.png\n",
      "Issue with image data\\Test\\a-Isolation-of-microalgae-from-POME-b-microscopic-observation-of-C-incerta-under_Q320.jpg\n",
      "Issue with image data\\Test\\a-Isolation-of-microalgae-from-POME-b-microscopic-observation-of-C-incerta-under_Q640.jpg\n",
      "Issue with image data\\Test\\aam-aaes80642.jpg\n",
      "Issue with image data\\Test\\Achnanthes20angustata-culture.jpg\n",
      "Issue with image data\\Test\\algae-1.jpg\n",
      "Issue with image data\\Test\\algae-5.jpg\n",
      "Issue with image data\\Test\\algae-cells-1.jpg\n",
      "Issue with image data\\Test\\algae-cells.jpg\n",
      "Issue with image data\\Test\\Algae-embedded-in-an-activated-sludge-floc-producing-a-suspended-algal-bacterial-floc_Q320.jpg\n",
      "Issue with image data\\Test\\algae-for-water-treatment-system-2-320.jpg\n",
      "Issue with image data\\Test\\Algae-typically-found-in-facultative-ponds-a-Chlamydomonas-b-Chlorella-c_Q320.jpg\n",
      "Issue with image data\\Test\\Algae.jpg\n",
      "Issue with image data\\Test\\Algal-cell-800.jpg\n",
      "Issue with image data\\Test\\AOh-ky2-GP6ZD_oaSOdqRje9lzUqDAbfOohMzrz1KPCV4D0s64-c-mo.jpg\n",
      "Issue with image data\\Test\\AstaxanthinMarketHaematococcuspluvialis28Chlorophyta29Freshwater.jpg\n",
      "Issue with image data\\Test\\Australian-algae-producer-enters-animal-feed-market.jpg\n",
      "Issue with image data\\Test\\bgtr.jpg\n",
      "Issue with image data\\Test\\Biological-structure-of-the-activated-algae-granule-with-the-performance-achieved-in.png\n",
      "Issue with image data\\Test\\Biological-structure-of-the-activated-algae-granule-with-the-performance-achieved-in_Q320.jpg\n",
      "Issue with image data\\Test\\bioremediation-biodegradation-Comparison-algae-9-428-g001.png\n",
      "Issue with image data\\Test\\Botryococcus-braunii_Q320.jpg\n",
      "Issue with image data\\Test\\botryococcus.png\n",
      "Issue with image data\\Test\\Capture546.JPG.jpg\n",
      "Issue with image data\\Test\\cben201600023-toc-0001-m.jpg\n",
      "Issue with image data\\Test\\cd10ef570162a0a4ad55fa56926dcd6e--biology-major-cell-biology.jpg\n",
      "Issue with image data\\Test\\ciliate-freeswimming.jpg\n",
      "Issue with image data\\Test\\Classification-of-algae-species-found-within-the-maturation-ponds_Q320.jpg\n",
      "Issue with image data\\Test\\Comparative-of-study-of-microalgae-under-light-microscope-and-inverted-fluorescent.png\n",
      "Issue with image data\\Test\\content_dam_ww_online_articles_2019_01_ww_2019_01_14_04_18_59_pmrs86598_chlorellainww_scr.png\n",
      "Issue with image data\\Test\\Could-microalgae-be-the-next-big-thing-in-fat-reduction.jpg\n",
      "Issue with image data\\Test\\cp_01.png\n",
      "Issue with image data\\Test\\CSIRO_ScienceImage_10697_Microalgae.jpg\n",
      "Issue with image data\\Test\\CSIRO_ScienceImage_7604_Microalgae.jpg\n",
      "Issue with image data\\Test\\csm_sinhyu-AdobeStock_289842601_782ff5db99.jpg\n",
      "Issue with image data\\Test\\d-various-rod-shaped-bacteria-magnification-2000x-at-35mm-image-size-2BE0GTE.jpg\n",
      "Issue with image data\\Test\\delivery_1.png\n",
      "Issue with image data\\Test\\Difference-Between-Algae-and-Microalgae-2.jpg\n",
      "Issue with image data\\Test\\Difference-Between-Macroalgae-and-Microalgae_2.jpg\n",
      "Issue with image data\\Test\\e-algae-based-biofuel-as-part-of-a-12-million-euro-project-to-pursue-2E5RD6M.jpg\n",
      "Issue with image data\\Test\\eg3.jpg\n",
      "Issue with image data\\Test\\energies-06-05869-g002-1024.png\n",
      "Issue with image data\\Test\\euglena-2GRMTJ2.jpg\n",
      "Issue with image data\\Test\\euglena-dsc_0169.jpg\n",
      "Issue with image data\\Test\\EUGLENA-labels-600.jpg\n",
      "Issue with image data\\Test\\euglena-with-flagella-captioned-.jpg\n",
      "Issue with image data\\Test\\euglena.jpg\n",
      "Issue with image data\\Test\\EuglenaUsesSized.jpg\n",
      "Issue with image data\\Test\\euglena_60.jpg\n",
      "Issue with image data\\Test\\Euglena_diagram.jpg\n",
      "Issue with image data\\Test\\Euglena_sp.jpg\n",
      "Issue with image data\\Test\\fbioe-03-00053-g001.jpg\n",
      "Issue with image data\\Test\\file-20171019-1066-1cholss.jpg\n",
      "Issue with image data\\Test\\file-20220309-21-1nh0beb.jpg\n",
      "Issue with image data\\Test\\final-project-report-5-320.jpg\n",
      "Issue with image data\\Test\\fish2Farticles2Falgae.jpeg\n",
      "Issue with image data\\Test\\fpls-11-607651-g002.jpg\n",
      "Issue with image data\\Test\\Gonyostomum-cells.jpg\n",
      "Issue with image data\\Test\\Green-microalgae-capture-using-a-microscope_Q320.jpg\n",
      "Issue with image data\\Test\\Greg-Martin_image_3D-algae_Ingenium.jpg\n",
      "Issue with image data\\Test\\hqdefault.jpg\n",
      "Issue with image data\\Test\\Illustration-of-PUFA-localization-inside-a-typical-algal-cell-The-EFAs-are-shown.png\n",
      "Issue with image data\\Test\\image.jpeg\n",
      "Issue with image data\\Test\\image10.jpeg\n",
      "Issue with image data\\Test\\image11.jpeg\n",
      "Issue with image data\\Test\\image12.jpeg\n",
      "Issue with image data\\Test\\image13.jpeg\n",
      "Issue with image data\\Test\\image14.jpeg\n",
      "Issue with image data\\Test\\image15.jpeg\n",
      "Issue with image data\\Test\\image16.jpeg\n",
      "Issue with image data\\Test\\image17.jpeg\n",
      "Issue with image data\\Test\\image18.jpeg\n",
      "Issue with image data\\Test\\image19.jpeg\n",
      "Issue with image data\\Test\\image2.jpeg\n",
      "Issue with image data\\Test\\image20.jpeg\n",
      "Issue with image data\\Test\\image3.jpeg\n",
      "Issue with image data\\Test\\image4.jpeg\n",
      "Issue with image data\\Test\\image5.jpeg\n",
      "Issue with image data\\Test\\image6.jpeg\n",
      "Issue with image data\\Test\\image6BG.jpg\n",
      "Issue with image data\\Test\\image7.jpeg\n",
      "Issue with image data\\Test\\image8.jpeg\n",
      "Issue with image data\\Test\\image9.jpeg\n",
      "Issue with image data\\Test\\ImageForNews_57821_16413934663825157.jpg\n",
      "Issue with image data\\Test\\ImageForNews_58736_16492535481879696.jpg\n",
      "Issue with image data\\Test\\images.jpg\n",
      "Issue with image data\\Test\\images10.jpg\n",
      "Issue with image data\\Test\\images11.jpg\n",
      "Issue with image data\\Test\\images12.jpg\n",
      "Issue with image data\\Test\\images13.jpg\n",
      "Issue with image data\\Test\\images14.jpg\n",
      "Issue with image data\\Test\\images15.jpg\n",
      "Issue with image data\\Test\\images16.jpg\n",
      "Issue with image data\\Test\\images17.jpg\n",
      "Issue with image data\\Test\\images18.jpg\n",
      "Issue with image data\\Test\\images19.jpg\n",
      "Issue with image data\\Test\\images2.jpg\n",
      "Issue with image data\\Test\\images20.jpg\n",
      "Issue with image data\\Test\\images21.jpg\n",
      "Issue with image data\\Test\\images22.jpg\n",
      "Issue with image data\\Test\\images23.jpg\n",
      "Issue with image data\\Test\\images24.jpg\n",
      "Issue with image data\\Test\\images25.jpg\n",
      "Issue with image data\\Test\\images26.jpg\n",
      "Issue with image data\\Test\\images27.jpg\n",
      "Issue with image data\\Test\\images28.jpg\n",
      "Issue with image data\\Test\\images29.jpg\n",
      "Issue with image data\\Test\\images3.jpg\n",
      "Issue with image data\\Test\\images30.jpg\n",
      "Issue with image data\\Test\\images31.jpg\n",
      "Issue with image data\\Test\\images32.jpg\n",
      "Issue with image data\\Test\\images33.jpg\n",
      "Issue with image data\\Test\\images34.jpg\n",
      "Issue with image data\\Test\\images35.jpg\n",
      "Issue with image data\\Test\\images36.jpg\n",
      "Issue with image data\\Test\\images37.jpg\n",
      "Issue with image data\\Test\\images38.jpg\n",
      "Issue with image data\\Test\\images39.jpg\n",
      "Issue with image data\\Test\\images4.jpg\n",
      "Issue with image data\\Test\\images41.jpg\n",
      "Issue with image data\\Test\\images42.jpg\n",
      "Issue with image data\\Test\\images43.jpg\n",
      "Issue with image data\\Test\\images44.jpg\n",
      "Issue with image data\\Test\\images46.jpg\n",
      "Issue with image data\\Test\\images47.jpg\n",
      "Issue with image data\\Test\\images48.jpg\n",
      "Issue with image data\\Test\\images49.jpg\n",
      "Issue with image data\\Test\\images5.jpg\n",
      "Issue with image data\\Test\\images50.jpg\n",
      "Issue with image data\\Test\\images51.jpg\n",
      "Issue with image data\\Test\\images52.jpg\n",
      "Issue with image data\\Test\\images53.jpg\n",
      "Issue with image data\\Test\\images54.jpg\n",
      "Issue with image data\\Test\\images55.jpg\n",
      "Issue with image data\\Test\\images56.jpg\n",
      "Issue with image data\\Test\\images57.jpg\n",
      "Issue with image data\\Test\\images58.jpg\n",
      "Issue with image data\\Test\\images59.jpg\n",
      "Issue with image data\\Test\\images6.jpg\n",
      "Issue with image data\\Test\\images60.jpg\n",
      "Issue with image data\\Test\\images61.jpg\n",
      "Issue with image data\\Test\\images62.jpg\n",
      "Issue with image data\\Test\\images63.jpg\n",
      "Issue with image data\\Test\\images64.jpg\n",
      "Issue with image data\\Test\\images65.jpg\n",
      "Issue with image data\\Test\\images66.jpg\n",
      "Issue with image data\\Test\\images67.jpg\n",
      "Issue with image data\\Test\\images68.jpg\n",
      "Issue with image data\\Test\\images69.jpg\n",
      "Issue with image data\\Test\\images7.jpg\n",
      "Issue with image data\\Test\\images70.jpg\n",
      "Issue with image data\\Test\\images71.jpg\n",
      "Issue with image data\\Test\\images72.jpg\n",
      "Issue with image data\\Test\\images73.jpg\n",
      "Issue with image data\\Test\\images74.jpg\n",
      "Issue with image data\\Test\\images75.jpg\n",
      "Issue with image data\\Test\\images76.jpg\n",
      "Issue with image data\\Test\\images77.jpg\n",
      "Issue with image data\\Test\\images78.jpg\n",
      "Issue with image data\\Test\\images79.jpg\n",
      "Issue with image data\\Test\\images8.jpg\n",
      "Issue with image data\\Test\\images80.jpg\n",
      "Issue with image data\\Test\\images81.jpg\n",
      "Issue with image data\\Test\\images9.jpg\n",
      "Issue with image data\\Test\\IMG_6279Custom_12406.jpg\n",
      "Issue with image data\\Test\\innovations-flying-seeds-Manfred-Richter-720x480.jpg\n",
      "Issue with image data\\Test\\iStock-826555464.jpg\n",
      "Issue with image data\\Test\\jmse-09-01275-g001-550.jpg\n"
     ]
    },
    {
     "name": "stdout",
     "output_type": "stream",
     "text": [
      "Issue with image data\\Test\\jmse-09-01275-g001.png\n",
      "Issue with image data\\Test\\jmse-09-01275-g009.png\n",
      "Issue with image data\\Test\\jxdAcF2Q_400x400.png\n",
      "Issue with image data\\Test\\list-img.png\n",
      "Issue with image data\\Test\\List-of-species-of-microalgae-tested.png\n",
      "Issue with image data\\Test\\liz_harrell_yvn5UBRamAM_unsplash.6144d27839870.png\n",
      "Issue with image data\\Test\\Lotus-HR-project-3b-Algea-1a.jpg\n",
      "Issue with image data\\Test\\Lotus-HR-project-3b-Algea-inset-1a.jpg\n",
      "Issue with image data\\Test\\maxresdefault.jpg\n",
      "Issue with image data\\Test\\micro-algae_for_mitigating_carbon_dioxide.jpeg\n",
      "Issue with image data\\Test\\microalgae-sustainability.jpg\n",
      "Issue with image data\\Test\\microalgae.jpg\n",
      "Issue with image data\\Test\\microalgae_figure_1.jpg\n",
      "Issue with image data\\Test\\Micrograph-of-S-razoulzadegani-fed-Tetraselmis-chui-PLY-429-showing-variety-of.png\n",
      "Issue with image data\\Test\\Micrograph-of-S-razoulzadegani-fed-Tetraselmis-chui-PLY-429-showing-variety-of_Q320.jpg\n",
      "Issue with image data\\Test\\Microscopic-images-of-A-Chlorella-vulgaris-in-synthetic-wastewater-and-B-Chlorella_Q320.jpg\n",
      "Issue with image data\\Test\\Microscopic-images-of-microalgae-isolated-from-the-different-water-samples.png\n",
      "Issue with image data\\Test\\Microscopic-observation-of-the-micro-algae-strain-Chlorella-vulgaris.png\n",
      "Issue with image data\\Test\\Microscopic-observation-of-the-micro-algae-strain-Chlorella-vulgaris_Q320.jpg\n",
      "Issue with image data\\Test\\MikrolevaCC88t-ovat-vihreaCC88aCC88-kultaa-3840x2160-Uutiskuva.jpg\n",
      "Issue with image data\\Test\\mqdefault.jpg\n",
      "Issue with image data\\Test\\Naturally-occurring-algae-of-Bharwara-Sewage-Treatment-Plant-Lucknow-India-A_Q320.jpg\n",
      "Issue with image data\\Test\\Outdoor-culture-condition-of-Tetraselmis-MUR-167-a-Heavy-bio-film-at-the-raceway-pond.jpg\n",
      "Issue with image data\\Test\\Outdoor-culture-condition-of-Tetraselmis-MUR-167-a-Heavy-bio-film-at-the-raceway-pond_Q640.jpg\n",
      "Issue with image data\\Test\\Photo-plate-2-20-mm-scale-a-Coelastrum-sp-b-Tetraedron-sp-c-Scenedesmus-sp.png\n",
      "Issue with image data\\Test\\Photographs-of-dominant-microalgae-cells-visualized-under-a-light-microscope-1000-in.png\n",
      "Issue with image data\\Test\\Photomicrograph-of-the-micro-algae-Nannochloropsis-courtesy-of-Aurora-Algae-Inc_Q320.jpg\n",
      "Issue with image data\\Test\\Photomicrograph-showing-the-dissolved-ETP-solid-before-and-after-phycoremediation-Before_Q320.jpg\n",
      "Issue with image data\\Test\\Photomicrographs-of-a-Euglena-gracilis-b-E-viridis-c-E-polymorpha-d.png\n",
      "Issue with image data\\Test\\plants-10-01461-g005.png\n",
      "Issue with image data\\Test\\Plates-showing-algal-diversity-A-a-green-micro-algae-Nannochloropsis-sp_Q320.jpg\n",
      "Issue with image data\\Test\\polluted-water-and-scum-on-green-water-surface-environmental-pollution-aerial-top-view-2FN0PDD.jpg\n",
      "Issue with image data\\Test\\polluted-water-with-floating-scum-environmental-water-pollution-aerial-view-2FN0PDC.jpg\n",
      "Issue with image data\\Test\\Potentially-toxins-producing-microalgae-found-in-Aman-Island-Penang-A-Alexandrium-sp_Q320.jpg\n",
      "Issue with image data\\Test\\Qualitas-hits-finish-line-with-launch-of-algal-omega-3-finished-products.jpg\n",
      "Issue with image data\\Test\\rsz_adobestock_289842681.jpg\n",
      "Issue with image data\\Test\\sanguinea_2.jpg\n",
      "Issue with image data\\Test\\sanguinea_4.jpg\n",
      "Issue with image data\\Test\\Showing-marine-microalgae-Tetraselmis-suecica-Chemicals-All-chemicals-and-media.png\n",
      "Issue with image data\\Test\\Showing-marine-microalgae-Tetraselmis-suecica-Chemicals-All-chemicals-and-media_Q320.jpg\n",
      "Issue with image data\\Test\\sofia_sabel-swedish_algae_factory-6768-1.jpg\n",
      "Issue with image data\\Test\\solated-green-alga-Chlorella-vulgaris_Q320.jpg\n",
      "Issue with image data\\Test\\stickers.jpg\n",
      "Issue with image data\\Test\\studyconfirm.jpg\n",
      "Issue with image data\\Test\\sustainability-08-01215-g002.png\n",
      "Issue with image data\\Test\\Symbiotic-relationship-of-microalgae-and-bacteria-in-wastewater-treatment_Q640.jpg\n",
      "Issue with image data\\Test\\test.jpg\n",
      "Issue with image data\\Test\\tetra20sag26_tetra-004_ch00.jpg\n",
      "Issue with image data\\Test\\tetra20sag26_tetra-004_ch002.jpg\n",
      "Issue with image data\\Test\\tetraselmis_600x.jpg\n",
      "Issue with image data\\Test\\The-microalgal-growth-in-TAP-medium-A-the-nutrient-agar-showing-the-bacterial.png\n",
      "Issue with image data\\Test\\The-shape-of-all-microalgae-under-compound-microscope-a-Chlorella-sp-AARL-G008-b_Q320.jpg\n",
      "Issue with image data\\Test\\TOSSAVAINEN-Pic-0-960x330.jpg\n",
      "Issue with image data\\Test\\Transition-of-the-activated-algae-system-from-floc-type-to-granular-structure-Light_Q640.jpg\n",
      "Issue with image data\\Test\\Untitled-design-2021-06-18T175955.095-1170x605.jpg\n",
      "Issue with image data\\Test\\W020090604562207289900.jpg\n",
      "Issue with image data\\Test\\water-12-00106-g001.png\n",
      "Issue with image data\\Test\\water-12-02658-g002.png\n",
      "Issue with image data\\Test\\water-14-00221-g001.png\n",
      "Issue with image data\\Test\\water-with-swirly-patterns-in-ottawa-river-EAPTC3.jpg\n",
      "Issue with image data\\Test\\xgf.jpg\n",
      "Issue with image data\\Test\\y5720e0c.jpg\n",
      "Issue with image data\\Train\\1-s2.0-S1319562X12000332-gr5 - Copy.jpg\n",
      "Issue with image data\\Train\\1-s2.0-S1319562X12000332-gr5.jpg\n",
      "Issue with image data\\Train\\15-investigatin - Copy.jpg\n",
      "Issue with image data\\Train\\15-investigatin.jpg\n",
      "Issue with image data\\Train\\315748_1_En_8_Fig2_HTML - Copy.jpg\n",
      "Issue with image data\\Train\\315748_1_En_8_Fig2_HTML.jpg\n",
      "Issue with image data\\Train\\aam-aaes80642 - Copy.jpg\n",
      "Issue with image data\\Train\\aam-aaes80642.jpg\n",
      "Issue with image data\\Train\\algae-for-water-treatment-system-2-320 - Copy.jpg\n",
      "Issue with image data\\Train\\algae-for-water-treatment-system-2-320.jpg\n",
      "Issue with image data\\Train\\Algae-typically-found-in-facultative-ponds-a-Chlamydomonas-b-Chlorella-c_Q320 - Copy.jpg\n",
      "Issue with image data\\Train\\Algae-typically-found-in-facultative-ponds-a-Chlamydomonas-b-Chlorella-c_Q320.jpg\n",
      "Issue with image data\\Train\\Australian-algae-producer-enters-animal-feed-market - Copy.jpg\n",
      "Issue with image data\\Train\\Australian-algae-producer-enters-animal-feed-market.jpg\n",
      "Issue with image data\\Train\\d-various-rod-shaped-bacteria-magnification-2000x-at-35mm-image-size-2BE0GTE - Copy.jpg\n",
      "Issue with image data\\Train\\d-various-rod-shaped-bacteria-magnification-2000x-at-35mm-image-size-2BE0GTE.jpg\n",
      "Issue with image data\\Train\\eg3 - Copy.jpg\n",
      "Issue with image data\\Train\\eg3.jpg\n",
      "Issue with image data\\Train\\euglena - Copy.jpg\n",
      "Issue with image data\\Train\\euglena-2GRMTJ2 - Copy.jpg\n",
      "Issue with image data\\Train\\euglena-2GRMTJ2.jpg\n",
      "Issue with image data\\Train\\euglena-dsc_0169 - Copy.jpg\n",
      "Issue with image data\\Train\\euglena-dsc_0169.jpg\n",
      "Issue with image data\\Train\\EUGLENA-labels-600 - Copy.jpg\n",
      "Issue with image data\\Train\\EUGLENA-labels-600.jpg\n",
      "Issue with image data\\Train\\euglena-with-flagella-captioned- - Copy.jpg\n",
      "Issue with image data\\Train\\euglena-with-flagella-captioned-.jpg\n",
      "Issue with image data\\Train\\euglena.jpg\n",
      "Issue with image data\\Train\\EuglenaUsesSized - Copy.jpg\n",
      "Issue with image data\\Train\\EuglenaUsesSized.jpg\n",
      "Issue with image data\\Train\\euglena_60 - Copy.jpg\n",
      "Issue with image data\\Train\\euglena_60.jpg\n",
      "Issue with image data\\Train\\Euglena_diagram - Copy.jpg\n",
      "Issue with image data\\Train\\Euglena_diagram.jpg\n",
      "Issue with image data\\Train\\Euglena_sp - Copy.jpg\n",
      "Issue with image data\\Train\\Euglena_sp.jpg\n",
      "Issue with image data\\Train\\final-project-report-5-320 - Copy.jpg\n",
      "Issue with image data\\Train\\final-project-report-5-320.jpg\n",
      "Issue with image data\\Train\\hqdefault - Copy.jpg\n",
      "Issue with image data\\Train\\hqdefault.jpg\n",
      "Issue with image data\\Train\\image - Copy.jpeg\n",
      "Issue with image data\\Train\\image.jpeg\n",
      "Issue with image data\\Train\\image10 - Copy.jpeg\n",
      "Issue with image data\\Train\\image10.jpeg\n",
      "Issue with image data\\Train\\image11 - Copy.jpeg\n",
      "Issue with image data\\Train\\image11.jpeg\n",
      "Issue with image data\\Train\\image12 - Copy.jpeg\n",
      "Issue with image data\\Train\\image12.jpeg\n",
      "Issue with image data\\Train\\image13 - Copy.jpeg\n",
      "Issue with image data\\Train\\image13.jpeg\n",
      "Issue with image data\\Train\\image14 - Copy.jpeg\n",
      "Issue with image data\\Train\\image14.jpeg\n",
      "Issue with image data\\Train\\image15 - Copy.jpeg\n",
      "Issue with image data\\Train\\image15.jpeg\n",
      "Issue with image data\\Train\\image16 - Copy.jpeg\n",
      "Issue with image data\\Train\\image16.jpeg\n",
      "Issue with image data\\Train\\image17 - Copy.jpeg\n",
      "Issue with image data\\Train\\image17.jpeg\n",
      "Issue with image data\\Train\\image18 - Copy.jpeg\n",
      "Issue with image data\\Train\\image18.jpeg\n",
      "Issue with image data\\Train\\image19 - Copy.jpeg\n",
      "Issue with image data\\Train\\image19.jpeg\n",
      "Issue with image data\\Train\\image2 - Copy.jpeg\n",
      "Issue with image data\\Train\\image2.jpeg\n",
      "Issue with image data\\Train\\image20 - Copy.jpeg\n",
      "Issue with image data\\Train\\image20.jpeg\n",
      "Issue with image data\\Train\\image3 - Copy.jpeg\n",
      "Issue with image data\\Train\\image3.jpeg\n",
      "Issue with image data\\Train\\image4 - Copy.jpeg\n",
      "Issue with image data\\Train\\image4.jpeg\n",
      "Issue with image data\\Train\\image5 - Copy.jpeg\n",
      "Issue with image data\\Train\\image5.jpeg\n",
      "Issue with image data\\Train\\image6 - Copy.jpeg\n",
      "Issue with image data\\Train\\image6.jpeg\n",
      "Issue with image data\\Train\\image6BG - Copy.jpg\n",
      "Issue with image data\\Train\\image6BG.jpg\n",
      "Issue with image data\\Train\\image7 - Copy.jpeg\n",
      "Issue with image data\\Train\\image7.jpeg\n",
      "Issue with image data\\Train\\image8 - Copy.jpeg\n",
      "Issue with image data\\Train\\image8.jpeg\n",
      "Issue with image data\\Train\\image9 - Copy.jpeg\n",
      "Issue with image data\\Train\\image9.jpeg\n",
      "Issue with image data\\Train\\images - Copy.jpg\n",
      "Issue with image data\\Train\\images.jpg\n",
      "Issue with image data\\Train\\images10 - Copy.jpg\n",
      "Issue with image data\\Train\\images10.jpg\n",
      "Issue with image data\\Train\\images11 - Copy.jpg\n",
      "Issue with image data\\Train\\images11.jpg\n",
      "Issue with image data\\Train\\images12 - Copy.jpg\n",
      "Issue with image data\\Train\\images12.jpg\n",
      "Issue with image data\\Train\\images13 - Copy.jpg\n",
      "Issue with image data\\Train\\images13.jpg\n",
      "Issue with image data\\Train\\images14 - Copy.jpg\n",
      "Issue with image data\\Train\\images14.jpg\n",
      "Issue with image data\\Train\\images15 - Copy.jpg\n",
      "Issue with image data\\Train\\images15.jpg\n",
      "Issue with image data\\Train\\images18 - Copy.jpg\n",
      "Issue with image data\\Train\\images18.jpg\n",
      "Issue with image data\\Train\\images2 - Copy.jpg\n",
      "Issue with image data\\Train\\images2.jpg\n",
      "Issue with image data\\Train\\images21 - Copy.jpg\n",
      "Issue with image data\\Train\\images21.jpg\n",
      "Issue with image data\\Train\\images22 - Copy.jpg\n",
      "Issue with image data\\Train\\images22.jpg\n",
      "Issue with image data\\Train\\images23 - Copy.jpg\n",
      "Issue with image data\\Train\\images23.jpg\n",
      "Issue with image data\\Train\\images24 - Copy.jpg\n",
      "Issue with image data\\Train\\images24.jpg\n",
      "Issue with image data\\Train\\images25 - Copy.jpg\n",
      "Issue with image data\\Train\\images25.jpg\n",
      "Issue with image data\\Train\\images26 - Copy.jpg\n",
      "Issue with image data\\Train\\images26.jpg\n",
      "Issue with image data\\Train\\images27 - Copy.jpg\n",
      "Issue with image data\\Train\\images27.jpg\n",
      "Issue with image data\\Train\\images28 - Copy.jpg\n",
      "Issue with image data\\Train\\images28.jpg\n",
      "Issue with image data\\Train\\images29 - Copy.jpg\n",
      "Issue with image data\\Train\\images29.jpg\n",
      "Issue with image data\\Train\\images3 - Copy.jpg\n",
      "Issue with image data\\Train\\images3.jpg\n",
      "Issue with image data\\Train\\images30 - Copy.jpg\n",
      "Issue with image data\\Train\\images30.jpg\n",
      "Issue with image data\\Train\\images31 - Copy.jpg\n",
      "Issue with image data\\Train\\images31.jpg\n",
      "Issue with image data\\Train\\images32 - Copy.jpg\n",
      "Issue with image data\\Train\\images32.jpg\n",
      "Issue with image data\\Train\\images33 - Copy.jpg\n",
      "Issue with image data\\Train\\images33.jpg\n",
      "Issue with image data\\Train\\images4 - Copy.jpg\n",
      "Issue with image data\\Train\\images4.jpg\n",
      "Issue with image data\\Train\\images5 - Copy.jpg\n",
      "Issue with image data\\Train\\images5.jpg\n",
      "Issue with image data\\Train\\images6 - Copy.jpg\n",
      "Issue with image data\\Train\\images6.jpg\n",
      "Issue with image data\\Train\\images7 - Copy.jpg\n",
      "Issue with image data\\Train\\images7.jpg\n",
      "Issue with image data\\Train\\images8 - Copy.jpg\n",
      "Issue with image data\\Train\\images8.jpg\n",
      "Issue with image data\\Train\\images9 - Copy.jpg\n",
      "Issue with image data\\Train\\images9.jpg\n",
      "Issue with image data\\Train\\IMG_6279Custom_12406 - Copy.jpg\n",
      "Issue with image data\\Train\\IMG_6279Custom_12406.jpg\n",
      "Issue with image data\\Train\\innovations-flying-seeds-Manfred-Richter-720x480 - Copy.jpg\n",
      "Issue with image data\\Train\\innovations-flying-seeds-Manfred-Richter-720x480.jpg\n",
      "Issue with image data\\Train\\liz_harrell_yvn5UBRamAM_unsplash.6144d27839870 - Copy.png\n"
     ]
    },
    {
     "name": "stdout",
     "output_type": "stream",
     "text": [
      "Issue with image data\\Train\\liz_harrell_yvn5UBRamAM_unsplash.6144d27839870.png\n",
      "Issue with image data\\Train\\maxresdefault - Copy.jpg\n",
      "Issue with image data\\Train\\maxresdefault.jpg\n",
      "Issue with image data\\Train\\mqdefault - Copy.jpg\n",
      "Issue with image data\\Train\\mqdefault.jpg\n",
      "Issue with image data\\Train\\Photomicrographs-of-a-Euglena-gracilis-b-E-viridis-c-E-polymorpha-d - Copy.png\n",
      "Issue with image data\\Train\\Photomicrographs-of-a-Euglena-gracilis-b-E-viridis-c-E-polymorpha-d.png\n",
      "Issue with image data\\Train\\Plates-showing-algal-diversity-A-a-green-micro-algae-Nannochloropsis-sp_Q320 - Copy.jpg\n",
      "Issue with image data\\Train\\Plates-showing-algal-diversity-A-a-green-micro-algae-Nannochloropsis-sp_Q320.jpg\n",
      "Issue with image data\\Train\\polluted-water-and-scum-on-green-water-surface-environmental-pollution-aerial-top-view-2FN0PDD - Copy.jpg\n",
      "Issue with image data\\Train\\polluted-water-and-scum-on-green-water-surface-environmental-pollution-aerial-top-view-2FN0PDD.jpg\n",
      "Issue with image data\\Train\\polluted-water-with-floating-scum-environmental-water-pollution-aerial-view-2FN0PDC - Copy.jpg\n",
      "Issue with image data\\Train\\polluted-water-with-floating-scum-environmental-water-pollution-aerial-view-2FN0PDC.jpg\n",
      "Issue with image data\\Train\\sanguinea_2 - Copy.jpg\n",
      "Issue with image data\\Train\\sanguinea_2.jpg\n",
      "Issue with image data\\Train\\sofia_sabel-swedish_algae_factory-6768-1 - Copy.jpg\n",
      "Issue with image data\\Train\\sofia_sabel-swedish_algae_factory-6768-1.jpg\n",
      "Issue with image data\\Train\\Symbiotic-relationship-of-microalgae-and-bacteria-in-wastewater-treatment_Q640 - Copy.jpg\n",
      "Issue with image data\\Train\\Symbiotic-relationship-of-microalgae-and-bacteria-in-wastewater-treatment_Q640.jpg\n",
      "Issue with image data\\Train\\TOSSAVAINEN-Pic-0-960x330 - Copy.jpg\n",
      "Issue with image data\\Train\\TOSSAVAINEN-Pic-0-960x330.jpg\n",
      "Issue with image data\\Train\\water-with-swirly-patterns-in-ottawa-river-EAPTC3 - Copy.jpg\n",
      "Issue with image data\\Train\\water-with-swirly-patterns-in-ottawa-river-EAPTC3.jpg\n"
     ]
    }
   ],
   "source": [
    "for image_class in os.listdir(data_dir):\n",
    "    for image in os.listdir(os.path.join(data_dir, image_class)):\n",
    "        image_path = os.path.join(data_dir, image_class, image)\n",
    "        try:\n",
    "            img = cv2.imread(image_path)\n",
    "            tip = imghdr.what(image_path)\n",
    "            if tip not in image_exts:\n",
    "                print('Image not in ext list {}'.format(image_path))\n",
    "                os.remove(image_path)\n",
    "        except Exception as e:\n",
    "            print('Issue with image {}'.format(image_path))\n",
    "             #os.remove(\"data\")"
   ]
  },
  {
   "cell_type": "code",
   "execution_count": 59,
   "metadata": {},
   "outputs": [],
   "source": [
    "data_iterator = data.as_numpy_iterator()"
   ]
  },
  {
   "cell_type": "code",
   "execution_count": 60,
   "metadata": {},
   "outputs": [],
   "source": [
    "batch = data_iterator.next()"
   ]
  },
  {
   "cell_type": "code",
   "execution_count": 62,
   "metadata": {},
   "outputs": [
    {
     "data": {
      "image/png": "[encoded data removed]",
      "text/plain": [
       "<Figure size 1440x1440 with 4 Axes>"
      ]
     },
     "metadata": {
      "needs_background": "light"
     },
     "output_type": "display_data"
    }
   ],
   "source": [
    "fig, ax = plt.subplots(ncols=4, figsize=(20,20))\n",
    "for idx, img in enumerate(batch[0][:4]):\n",
    "    ax[idx].imshow(img.astype(int))\n",
    "    ax[idx].title.set_text(batch[1][idx])"
   ]
  },
  {
   "cell_type": "code",
   "execution_count": 63,
   "metadata": {},
   "outputs": [],
   "source": [
    "data = data.map(lambda x,y: (x/255, y))"
   ]
  },
  {
   "cell_type": "code",
   "execution_count": 64,
   "metadata": {},
   "outputs": [
    {
     "data": {
      "text/plain": [
       "(array([[[[1.9014839e-03, 1.9629989e-03, 1.9810805e-03],\n",
       "          [1.8228566e-03, 1.8681517e-03, 1.9426723e-03],\n",
       "          [1.8832784e-03, 1.8697621e-03, 2.0505819e-03],\n",
       "          ...,\n",
       "          [1.8827678e-03, 1.8673891e-03, 1.9570114e-03],\n",
       "          [1.9105632e-03, 1.8838608e-03, 2.0346842e-03],\n",
       "          [1.9119884e-03, 1.8812310e-03, 2.0784508e-03]],\n",
       " \n",
       "         [[1.8822139e-03, 1.9437287e-03, 1.9618107e-03],\n",
       "          [1.8213997e-03, 1.8666948e-03, 1.9412154e-03],\n",
       "          [1.8740436e-03, 1.8605272e-03, 2.0365161e-03],\n",
       "          ...,\n",
       "          [1.9263373e-03, 1.9109586e-03, 2.0185446e-03],\n",
       "          [1.9457212e-03, 1.9190187e-03, 2.0760195e-03],\n",
       "          [1.9128511e-03, 1.8820937e-03, 2.0592592e-03]],\n",
       " \n",
       "         [[1.8567862e-03, 1.9142461e-03, 1.9404012e-03],\n",
       "          [1.8502751e-03, 1.8608228e-03, 1.9564386e-03],\n",
       "          [1.8772827e-03, 1.8621163e-03, 2.0328781e-03],\n",
       "          ...,\n",
       "          [1.9132044e-03, 1.8978257e-03, 2.0208554e-03],\n",
       "          [1.9504314e-03, 1.9350527e-03, 2.0580823e-03],\n",
       "          [1.9306693e-03, 1.9152905e-03, 2.0329503e-03]],\n",
       " \n",
       "         ...,\n",
       " \n",
       "         [[1.8217521e-03, 1.8805820e-03, 1.9320878e-03],\n",
       "          [1.8367838e-03, 1.8959703e-03, 1.9363249e-03],\n",
       "          [1.8708149e-03, 1.9071051e-03, 1.9341920e-03],\n",
       "          ...,\n",
       "          [1.8625648e-03, 1.8625648e-03, 1.9855946e-03],\n",
       "          [1.8490484e-03, 1.8490484e-03, 1.9903907e-03],\n",
       "          [1.8911297e-03, 1.8911297e-03, 2.0390295e-03]],\n",
       " \n",
       "         [[1.8421600e-03, 1.8861335e-03, 1.9541963e-03],\n",
       "          [1.8132898e-03, 1.8572633e-03, 1.9195288e-03],\n",
       "          [1.8375048e-03, 1.8872598e-03, 1.9314085e-03],\n",
       "          ...,\n",
       "          [1.8591107e-03, 1.8547253e-03, 1.9842982e-03],\n",
       "          [1.8242833e-03, 1.8166688e-03, 1.9713722e-03],\n",
       "          [1.8631805e-03, 1.8544099e-03, 2.0406363e-03]],\n",
       " \n",
       "         [[1.8440924e-03, 1.8440924e-03, 1.9671221e-03],\n",
       "          [1.8381752e-03, 1.8381752e-03, 1.9612049e-03],\n",
       "          [1.8608228e-03, 1.8810974e-03, 1.9973686e-03],\n",
       "          ...,\n",
       "          [1.8810974e-03, 1.8657187e-03, 1.9684739e-03],\n",
       "          [1.8381752e-03, 1.8114728e-03, 1.9684739e-03],\n",
       "          [1.8547771e-03, 1.8240197e-03, 2.0212394e-03]]],\n",
       " \n",
       " \n",
       "        [[[8.9196465e-04, 1.0149943e-03, 1.2149174e-03],\n",
       "          [8.9196465e-04, 1.0149943e-03, 1.2051854e-03],\n",
       "          [8.9196465e-04, 1.0149943e-03, 1.1841600e-03],\n",
       "          ...,\n",
       "          [2.0453674e-03, 2.1530183e-03, 1.3225683e-03],\n",
       "          [2.0453674e-03, 2.1530183e-03, 1.3225683e-03],\n",
       "          [2.0591237e-03, 2.1667746e-03, 1.3363250e-03]],\n",
       " \n",
       "         [[8.9196465e-04, 1.0149943e-03, 1.2134410e-03],\n",
       "          [8.9196465e-04, 1.0149943e-03, 1.1956173e-03],\n",
       "          [8.9565525e-04, 1.0186848e-03, 1.1878506e-03],\n",
       "          ...,\n",
       "          [2.0416765e-03, 2.1493274e-03, 1.3188776e-03],\n",
       "          [2.0453674e-03, 2.1530183e-03, 1.3225683e-03],\n",
       "          [2.0591237e-03, 2.1667746e-03, 1.3363250e-03]],\n",
       " \n",
       "         [[8.9196465e-04, 1.0149943e-03, 1.2091477e-03],\n",
       "          [8.9196465e-04, 1.0149943e-03, 1.1841600e-03],\n",
       "          [9.0007449e-04, 1.0238485e-03, 1.1915254e-03],\n",
       "          ...,\n",
       "          [2.0365899e-03, 2.1442408e-03, 1.3137911e-03],\n",
       "          [2.0449203e-03, 2.1525712e-03, 1.3221216e-03],\n",
       "          [2.0578608e-03, 2.1655117e-03, 1.3350621e-03]],\n",
       " \n",
       "         ...,\n",
       " \n",
       "         [[2.3375626e-03, 2.5067283e-03, 9.3810074e-04],\n",
       "          [2.3375626e-03, 2.5023092e-03, 9.4693922e-04],\n",
       "          [2.3375626e-03, 2.4920169e-03, 9.6752361e-04],\n",
       "          ...,\n",
       "          [2.7674988e-03, 2.8918630e-03, 1.1695257e-03],\n",
       "          [2.7677193e-03, 2.8916425e-03, 1.1697463e-03],\n",
       "          [2.7669033e-03, 2.8924586e-03, 1.1689302e-03]],\n",
       " \n",
       "         [[2.3375626e-03, 2.5067283e-03, 9.3810074e-04],\n",
       "          [2.3375626e-03, 2.5018621e-03, 9.4783254e-04],\n",
       "          [2.3375626e-03, 2.4913496e-03, 9.6885813e-04],\n",
       "          ...,\n",
       "          [2.7681661e-03, 2.8911957e-03, 1.1687813e-03],\n",
       "          [2.7681661e-03, 2.8911957e-03, 1.1687813e-03],\n",
       "          [2.7681661e-03, 2.8911957e-03, 1.1687813e-03]],\n",
       " \n",
       "         [[2.3375626e-03, 2.5067283e-03, 9.3810074e-04],\n",
       "          [2.3375626e-03, 2.5018621e-03, 9.4783254e-04],\n",
       "          [2.3375626e-03, 2.4913496e-03, 9.6885813e-04],\n",
       "          ...,\n",
       "          [2.7681661e-03, 2.8911957e-03, 1.1687813e-03],\n",
       "          [2.7681661e-03, 2.8911957e-03, 1.1687813e-03],\n",
       "          [2.7681661e-03, 2.8911957e-03, 1.1687813e-03]]],\n",
       " \n",
       " \n",
       "        [[[7.8442259e-05, 4.9069634e-04, 2.3343073e-05],\n",
       "          [3.1713219e-04, 8.8427903e-04, 3.9277449e-05],\n",
       "          [1.1738461e-04, 2.3452705e-04, 8.9518235e-06],\n",
       "          ...,\n",
       "          [1.1864108e-03, 2.1902341e-03, 1.1288758e-04],\n",
       "          [7.9534651e-04, 1.8933148e-03, 0.0000000e+00],\n",
       "          [6.3410762e-04, 1.6002503e-03, 1.3600913e-05]],\n",
       " \n",
       "         [[1.7904586e-05, 2.7096603e-04, 0.0000000e+00],\n",
       "          [2.9394568e-03, 2.8119348e-03, 1.3258572e-03],\n",
       "          [1.1011390e-04, 2.8744954e-04, 2.1926662e-05],\n",
       "          ...,\n",
       "          [1.2899317e-03, 2.1478867e-03, 1.0380341e-04],\n",
       "          [1.2026399e-03, 2.3355575e-03, 1.4564428e-04],\n",
       "          [7.4879744e-04, 1.7526913e-03, 1.1868181e-05]],\n",
       " \n",
       "         [[8.5369429e-05, 2.0816157e-04, 7.2275384e-07],\n",
       "          [6.2012288e-05, 1.5211622e-04, 3.9648216e-06],\n",
       "          [1.2382463e-04, 2.7857278e-04, 1.3049931e-05],\n",
       "          ...,\n",
       "          [7.5262331e-04, 1.4470443e-03, 8.3041605e-06],\n",
       "          [8.0966455e-04, 1.7590477e-03, 1.2699818e-06],\n",
       "          [8.2185748e-04, 1.8536722e-03, 8.0488508e-06]],\n",
       " \n",
       "         ...,\n",
       " \n",
       "         [[3.2745255e-04, 4.4159417e-04, 9.6023007e-07],\n",
       "          [1.6874236e-04, 3.7894081e-04, 4.2657495e-05],\n",
       "          [1.9992310e-04, 3.3016148e-04, 7.2808536e-05],\n",
       "          ...,\n",
       "          [2.0155446e-04, 4.2845038e-04, 1.0983982e-05],\n",
       "          [1.5157838e-04, 4.2984801e-04, 5.2892442e-06],\n",
       "          [1.4514211e-04, 3.9233710e-04, 9.8557348e-06]],\n",
       " \n",
       "         [[1.0607399e-04, 1.2115420e-04, 0.0000000e+00],\n",
       "          [1.8467488e-04, 4.0652466e-04, 4.6206500e-05],\n",
       "          [1.9265144e-04, 3.6494096e-04, 6.4930515e-05],\n",
       "          ...,\n",
       "          [1.7325912e-04, 3.7552792e-04, 6.4306323e-06],\n",
       "          [2.0541040e-04, 4.0850707e-04, 8.3895766e-06],\n",
       "          [2.3628795e-04, 4.5137576e-04, 2.6285714e-05]],\n",
       " \n",
       "         [[1.6130740e-04, 3.6989321e-04, 9.8885866e-06],\n",
       "          [2.1672009e-04, 4.3613033e-04, 5.7369762e-05],\n",
       "          [2.0364857e-04, 4.1738662e-04, 4.1870917e-05],\n",
       "          ...,\n",
       "          [3.1273841e-04, 4.1564263e-04, 6.4306323e-06],\n",
       "          [4.2017250e-04, 6.9974962e-04, 6.9864014e-05],\n",
       "          [2.6811822e-04, 4.9022050e-04, 5.1877771e-05]]],\n",
       " \n",
       " \n",
       "        ...,\n",
       " \n",
       " \n",
       "        [[[1.1626048e-03, 1.3609122e-03, 1.6158386e-03],\n",
       "          [1.2438915e-03, 1.3523248e-03, 1.6369780e-03],\n",
       "          [1.2141948e-03, 1.3661828e-03, 1.5954643e-03],\n",
       "          ...,\n",
       "          [1.0835126e-03, 1.4785260e-03, 1.7667374e-03],\n",
       "          [1.1142569e-03, 1.4738402e-03, 1.8054970e-03],\n",
       "          [1.1838864e-03, 1.4848429e-03, 1.7984874e-03]],\n",
       " \n",
       "         [[1.1234847e-03, 1.3159887e-03, 1.6972123e-03],\n",
       "          [1.2646308e-03, 1.3797007e-03, 1.6505355e-03],\n",
       "          [1.1999843e-03, 1.3741836e-03, 1.6098578e-03],\n",
       "          ...,\n",
       "          [1.1120701e-03, 1.4715445e-03, 1.8057008e-03],\n",
       "          [1.0594876e-03, 1.4589072e-03, 1.7748104e-03],\n",
       "          [1.0855501e-03, 1.5023589e-03, 1.7759696e-03]],\n",
       " \n",
       "         [[1.1829935e-03, 1.3442530e-03, 1.6714224e-03],\n",
       "          [1.2057913e-03, 1.3823234e-03, 1.6025435e-03],\n",
       "          [1.2024549e-03, 1.3078777e-03, 1.5845359e-03],\n",
       "          ...,\n",
       "          [1.0911506e-03, 1.4938585e-03, 1.7559299e-03],\n",
       "          [1.0902232e-03, 1.5307787e-03, 1.7958937e-03],\n",
       "          [1.1511546e-03, 1.5811117e-03, 1.8497459e-03]],\n",
       " \n",
       "         ...,\n",
       " \n",
       "         [[1.7125892e-03, 2.1008947e-03, 2.0051450e-03],\n",
       "          [1.4969553e-03, 1.7495424e-03, 2.0708607e-03],\n",
       "          [1.3336544e-03, 1.6380254e-03, 1.8438549e-03],\n",
       "          ...,\n",
       "          [8.4901229e-04, 1.0440040e-03, 1.2515374e-03],\n",
       "          [8.6848589e-04, 1.0215946e-03, 1.2093704e-03],\n",
       "          [8.7796431e-04, 1.0404855e-03, 1.1951200e-03]],\n",
       " \n",
       "         [[1.6581963e-03, 1.9212943e-03, 1.9517149e-03],\n",
       "          [1.3618500e-03, 1.6822495e-03, 1.9354065e-03],\n",
       "          [1.2892354e-03, 1.5725399e-03, 1.7742750e-03],\n",
       "          ...,\n",
       "          [8.4427919e-04, 1.0113047e-03, 1.2249222e-03],\n",
       "          [8.2276808e-04, 1.0120282e-03, 1.1763280e-03],\n",
       "          [8.9284219e-04, 9.9939271e-04, 1.1759965e-03]],\n",
       " \n",
       "         [[1.4788214e-03, 1.8269147e-03, 1.9106866e-03],\n",
       "          [1.3068340e-03, 1.6264131e-03, 1.8444293e-03],\n",
       "          [1.3004139e-03, 1.5475118e-03, 1.7644798e-03],\n",
       "          ...,\n",
       "          [9.0483943e-04, 1.1143551e-03, 1.2358687e-03],\n",
       "          [8.2642492e-04, 9.7177323e-04, 1.1775313e-03],\n",
       "          [9.0118585e-04, 1.0067738e-03, 1.1994517e-03]]],\n",
       " \n",
       " \n",
       "        [[[3.9215689e-03, 3.9215689e-03, 3.9215689e-03],\n",
       "          [3.9215689e-03, 3.9215689e-03, 3.9215689e-03],\n",
       "          [3.9215689e-03, 3.9215689e-03, 3.9215689e-03],\n",
       "          ...,\n",
       "          [3.9215689e-03, 3.9215689e-03, 3.9215689e-03],\n",
       "          [3.9215689e-03, 3.9215689e-03, 3.9215689e-03],\n",
       "          [3.9215689e-03, 3.9215689e-03, 3.9215689e-03]],\n",
       " \n",
       "         [[3.9215689e-03, 3.9215689e-03, 3.9215689e-03],\n",
       "          [3.9215689e-03, 3.9215689e-03, 3.9215689e-03],\n",
       "          [3.9215689e-03, 3.9215689e-03, 3.9215689e-03],\n",
       "          ...,\n",
       "          [3.9215689e-03, 3.9215689e-03, 3.9215689e-03],\n",
       "          [3.9215689e-03, 3.9215689e-03, 3.9215689e-03],\n",
       "          [3.9215689e-03, 3.9215689e-03, 3.9215689e-03]],\n",
       " \n",
       "         [[3.9215689e-03, 3.9215689e-03, 3.9215689e-03],\n",
       "          [3.9215689e-03, 3.9215689e-03, 3.9215689e-03],\n",
       "          [3.9215689e-03, 3.9215689e-03, 3.9215689e-03],\n",
       "          ...,\n",
       "          [3.9215689e-03, 3.9215689e-03, 3.9215689e-03],\n",
       "          [3.9215689e-03, 3.9215689e-03, 3.9215689e-03],\n",
       "          [3.9215689e-03, 3.9215689e-03, 3.9215689e-03]],\n",
       " \n",
       "         ...,\n",
       " \n",
       "         [[3.9215689e-03, 3.9215689e-03, 3.9215689e-03],\n",
       "          [3.9215689e-03, 3.9215689e-03, 3.9215689e-03],\n",
       "          [3.9215689e-03, 3.9215689e-03, 3.9215689e-03],\n",
       "          ...,\n",
       "          [3.9215689e-03, 3.9215689e-03, 3.9215689e-03],\n",
       "          [3.9215689e-03, 3.9215689e-03, 3.9215689e-03],\n",
       "          [3.9215689e-03, 3.9215689e-03, 3.9215689e-03]],\n",
       " \n",
       "         [[3.9215689e-03, 3.9215689e-03, 3.9215689e-03],\n",
       "          [3.9215689e-03, 3.9215689e-03, 3.9215689e-03],\n",
       "          [3.9215689e-03, 3.9215689e-03, 3.9215689e-03],\n",
       "          ...,\n",
       "          [3.9215689e-03, 3.9215689e-03, 3.9215689e-03],\n",
       "          [3.9215689e-03, 3.9215689e-03, 3.9215689e-03],\n",
       "          [3.9215689e-03, 3.9215689e-03, 3.9215689e-03]],\n",
       " \n",
       "         [[3.9215689e-03, 3.9215689e-03, 3.9215689e-03],\n",
       "          [3.9215689e-03, 3.9215689e-03, 3.9215689e-03],\n",
       "          [3.9215689e-03, 3.9215689e-03, 3.9215689e-03],\n",
       "          ...,\n",
       "          [3.9215689e-03, 3.9215689e-03, 3.9215689e-03],\n",
       "          [3.9215689e-03, 3.9215689e-03, 3.9215689e-03],\n",
       "          [3.9215689e-03, 3.9215689e-03, 3.9215689e-03]]],\n",
       " \n",
       " \n",
       "        [[[3.9215689e-03, 3.9215689e-03, 3.9215689e-03],\n",
       "          [3.9215689e-03, 3.9215689e-03, 3.9215689e-03],\n",
       "          [3.9215689e-03, 3.9215689e-03, 3.9215689e-03],\n",
       "          ...,\n",
       "          [3.9215689e-03, 3.9215689e-03, 3.9215689e-03],\n",
       "          [3.9215689e-03, 3.9215689e-03, 3.9215689e-03],\n",
       "          [3.9215689e-03, 3.9215689e-03, 3.9215689e-03]],\n",
       " \n",
       "         [[3.9215689e-03, 3.9215689e-03, 3.9215689e-03],\n",
       "          [3.9215689e-03, 3.9215689e-03, 3.9215689e-03],\n",
       "          [3.9215689e-03, 3.9215689e-03, 3.9215689e-03],\n",
       "          ...,\n",
       "          [3.9215689e-03, 3.9215689e-03, 3.9215689e-03],\n",
       "          [3.9215689e-03, 3.9215689e-03, 3.9215689e-03],\n",
       "          [3.9215689e-03, 3.9215689e-03, 3.9215689e-03]],\n",
       " \n",
       "         [[3.9215689e-03, 3.9215689e-03, 3.9215689e-03],\n",
       "          [3.9215689e-03, 3.9215689e-03, 3.9215689e-03],\n",
       "          [3.9215689e-03, 3.9215689e-03, 3.9215689e-03],\n",
       "          ...,\n",
       "          [3.9215689e-03, 3.9215689e-03, 3.9215689e-03],\n",
       "          [3.9215689e-03, 3.9215689e-03, 3.9215689e-03],\n",
       "          [3.9215689e-03, 3.9215689e-03, 3.9215689e-03]],\n",
       " \n",
       "         ...,\n",
       " \n",
       "         [[3.9215689e-03, 3.9215689e-03, 3.9215689e-03],\n",
       "          [3.9215689e-03, 3.9215689e-03, 3.9215689e-03],\n",
       "          [3.9215689e-03, 3.9215689e-03, 3.9215689e-03],\n",
       "          ...,\n",
       "          [3.9215689e-03, 3.9215689e-03, 3.9215689e-03],\n",
       "          [3.9215689e-03, 3.9215689e-03, 3.9215689e-03],\n",
       "          [3.9215689e-03, 3.9215689e-03, 3.9215689e-03]],\n",
       " \n",
       "         [[3.9215689e-03, 3.9215689e-03, 3.9215689e-03],\n",
       "          [3.9215689e-03, 3.9215689e-03, 3.9215689e-03],\n",
       "          [3.9215689e-03, 3.9215689e-03, 3.9215689e-03],\n",
       "          ...,\n",
       "          [3.9215689e-03, 3.9215689e-03, 3.9215689e-03],\n",
       "          [3.9215689e-03, 3.9215689e-03, 3.9215689e-03],\n",
       "          [3.9215689e-03, 3.9215689e-03, 3.9215689e-03]],\n",
       " \n",
       "         [[3.9215689e-03, 3.9215689e-03, 3.9215689e-03],\n",
       "          [3.9215689e-03, 3.9215689e-03, 3.9215689e-03],\n",
       "          [3.9215689e-03, 3.9215689e-03, 3.9215689e-03],\n",
       "          ...,\n",
       "          [3.9215689e-03, 3.9215689e-03, 3.9215689e-03],\n",
       "          [3.9215689e-03, 3.9215689e-03, 3.9215689e-03],\n",
       "          [3.9215689e-03, 3.9215689e-03, 3.9215689e-03]]]], dtype=float32),\n",
       " array([0, 1, 0, 0, 1, 0, 1, 0, 0, 0, 0, 0, 0, 1, 1, 1, 0, 0, 1, 0, 1, 0,\n",
       "        1, 1, 0, 1, 0, 0, 1, 0, 1, 0]))"
      ]
     },
     "execution_count": 64,
     "metadata": {},
     "output_type": "execute_result"
    }
   ],
   "source": [
    "data.as_numpy_iterator().next()"
   ]
  },
  {
   "cell_type": "code",
   "execution_count": 65,
   "metadata": {},
   "outputs": [],
   "source": [
    "train_size = int(len(data)*.7)\n",
    "val_size = int(len(data)*.2)\n",
    "test_size = int(len(data)*.1)"
   ]
  },
  {
   "cell_type": "code",
   "execution_count": 66,
   "metadata": {},
   "outputs": [
    {
     "data": {
      "text/plain": [
       "2"
      ]
     },
     "execution_count": 66,
     "metadata": {},
     "output_type": "execute_result"
    }
   ],
   "source": [
    "val_size"
   ]
  },
  {
   "cell_type": "code",
   "execution_count": 67,
   "metadata": {},
   "outputs": [
    {
     "data": {
      "text/plain": [
       "9"
      ]
     },
     "execution_count": 67,
     "metadata": {},
     "output_type": "execute_result"
    }
   ],
   "source": [
    "train_size"
   ]
  },
  {
   "cell_type": "code",
   "execution_count": 68,
   "metadata": {},
   "outputs": [],
   "source": [
    "train = data.take(train_size)\n",
    "val = data.skip(train_size).take(val_size)\n",
    "test = data.skip(train_size+val_size).take(test_size)\n",
    "model = Sequential()\n",
    "model.add(Conv2D(16, (3,3), 1, activation='relu', input_shape=(256,256,3)))\n",
    "model.add(MaxPooling2D())\n",
    "\n",
    "model.add(Conv2D(32, (3,3), 1, activation='relu'))\n",
    "model.add(MaxPooling2D())\n",
    "\n",
    "model.add(Conv2D(16, (3,3), 1, activation='relu'))\n",
    "model.add(MaxPooling2D())\n",
    "\n",
    "model.add(Flatten())\n",
    "\n",
    "model.add(Dense(256, activation='relu'))\n",
    "model.add(Dense(1, activation='sigmoid'))"
   ]
  },
  {
   "cell_type": "code",
   "execution_count": 69,
   "metadata": {},
   "outputs": [
    {
     "name": "stdout",
     "output_type": "stream",
     "text": [
      "Model: \"sequential_1\"\n",
      "_________________________________________________________________\n",
      " Layer (type)                Output Shape              Param #   \n",
      "=================================================================\n",
      " conv2d_4 (Conv2D)           (None, 254, 254, 16)      448       \n",
      "                                                                 \n",
      " max_pooling2d_2 (MaxPooling  (None, 127, 127, 16)     0         \n",
      " 2D)                                                             \n",
      "                                                                 \n",
      " conv2d_5 (Conv2D)           (None, 125, 125, 32)      4640      \n",
      "                                                                 \n",
      " max_pooling2d_3 (MaxPooling  (None, 62, 62, 32)       0         \n",
      " 2D)                                                             \n",
      "                                                                 \n",
      " conv2d_6 (Conv2D)           (None, 60, 60, 16)        4624      \n",
      "                                                                 \n",
      " max_pooling2d_4 (MaxPooling  (None, 30, 30, 16)       0         \n",
      " 2D)                                                             \n",
      "                                                                 \n",
      " flatten_1 (Flatten)         (None, 14400)             0         \n",
      "                                                                 \n",
      " dense_2 (Dense)             (None, 256)               3686656   \n",
      "                                                                 \n",
      " dense_3 (Dense)             (None, 1)                 257       \n",
      "                                                                 \n",
      "=================================================================\n",
      "Total params: 3,696,625\n",
      "Trainable params: 3,696,625\n",
      "Non-trainable params: 0\n",
      "_________________________________________________________________\n"
     ]
    }
   ],
   "source": [
    "model.compile('adam', loss=tf.losses.BinaryCrossentropy(), metrics=['accuracy'])\n",
    "model.summary()"
   ]
  },
  {
   "cell_type": "code",
   "execution_count": 70,
   "metadata": {},
   "outputs": [
    {
     "name": "stdout",
     "output_type": "stream",
     "text": [
      "Epoch 1/20\n",
      "9/9 [==============================] - 9s 811ms/step - loss: 0.6844 - accuracy: 0.6111 - val_loss: 0.6777 - val_accuracy: 0.5938\n",
      "Epoch 2/20\n",
      "9/9 [==============================] - 8s 755ms/step - loss: 0.6818 - accuracy: 0.6250 - val_loss: 0.6793 - val_accuracy: 0.6094\n",
      "Epoch 3/20\n",
      "9/9 [==============================] - 8s 770ms/step - loss: 0.6677 - accuracy: 0.6250 - val_loss: 0.6330 - val_accuracy: 0.6719\n",
      "Epoch 4/20\n",
      "9/9 [==============================] - 7s 739ms/step - loss: 0.6774 - accuracy: 0.6042 - val_loss: 0.6546 - val_accuracy: 0.6875\n",
      "Epoch 5/20\n",
      "9/9 [==============================] - 7s 733ms/step - loss: 0.6751 - accuracy: 0.6076 - val_loss: 0.6343 - val_accuracy: 0.7031\n",
      "Epoch 6/20\n",
      "9/9 [==============================] - 7s 686ms/step - loss: 0.6800 - accuracy: 0.5972 - val_loss: 0.6149 - val_accuracy: 0.7188\n",
      "Epoch 7/20\n",
      "9/9 [==============================] - 7s 689ms/step - loss: 0.6550 - accuracy: 0.6458 - val_loss: 0.7119 - val_accuracy: 0.5156\n",
      "Epoch 8/20\n",
      "9/9 [==============================] - 7s 698ms/step - loss: 0.6687 - accuracy: 0.6146 - val_loss: 0.6692 - val_accuracy: 0.6094\n",
      "Epoch 9/20\n",
      "9/9 [==============================] - 7s 692ms/step - loss: 0.6665 - accuracy: 0.6181 - val_loss: 0.6753 - val_accuracy: 0.5938\n",
      "Epoch 10/20\n",
      "9/9 [==============================] - 7s 690ms/step - loss: 0.6605 - accuracy: 0.6285 - val_loss: 0.6249 - val_accuracy: 0.6875\n",
      "Epoch 11/20\n",
      "9/9 [==============================] - 7s 693ms/step - loss: 0.6630 - accuracy: 0.6250 - val_loss: 0.6694 - val_accuracy: 0.6094\n",
      "Epoch 12/20\n",
      "9/9 [==============================] - 7s 690ms/step - loss: 0.6706 - accuracy: 0.6076 - val_loss: 0.6429 - val_accuracy: 0.6875\n",
      "Epoch 13/20\n",
      "9/9 [==============================] - 7s 695ms/step - loss: 0.6756 - accuracy: 0.6007 - val_loss: 0.6621 - val_accuracy: 0.6250\n",
      "Epoch 14/20\n",
      "9/9 [==============================] - 7s 692ms/step - loss: 0.6588 - accuracy: 0.6354 - val_loss: 0.6852 - val_accuracy: 0.5781\n",
      "Epoch 15/20\n",
      "9/9 [==============================] - 7s 703ms/step - loss: 0.6753 - accuracy: 0.6007 - val_loss: 0.6629 - val_accuracy: 0.6250\n",
      "Epoch 16/20\n",
      "9/9 [==============================] - 7s 709ms/step - loss: 0.6763 - accuracy: 0.5938 - val_loss: 0.6932 - val_accuracy: 0.5469\n",
      "Epoch 17/20\n",
      "9/9 [==============================] - 7s 712ms/step - loss: 0.6691 - accuracy: 0.6215 - val_loss: 0.6482 - val_accuracy: 0.6719\n",
      "Epoch 18/20\n",
      "9/9 [==============================] - 7s 725ms/step - loss: 0.6583 - accuracy: 0.6319 - val_loss: 0.6831 - val_accuracy: 0.5938\n",
      "Epoch 19/20\n",
      "9/9 [==============================] - 7s 710ms/step - loss: 0.6470 - accuracy: 0.6562 - val_loss: 0.6324 - val_accuracy: 0.6719\n",
      "Epoch 20/20\n",
      "9/9 [==============================] - 7s 764ms/step - loss: 0.6644 - accuracy: 0.6181 - val_loss: 0.6538 - val_accuracy: 0.6562\n"
     ]
    }
   ],
   "source": [
    "logdir='logs'\n",
    "tensorboard_callback = tf.keras.callbacks.TensorBoard(log_dir=logdir)\n",
    "hist = model.fit(train, epochs=20, validation_data=val, callbacks=[tensorboard_callback])"
   ]
  },
  {
   "cell_type": "code",
   "execution_count": 74,
   "metadata": {},
   "outputs": [],
   "source": [
    "activation = 'sigmoid'\n",
    "\n",
    "feature_extractor = Sequential()\n",
    "feature_extractor.add(Conv2D(32, 3, activation = activation, padding = 'same', input_shape = (SIZE, SIZE, 3)))\n",
    "feature_extractor.add(BatchNormalization())\n",
    "\n",
    "feature_extractor.add(Conv2D(32, 3, activation = activation, padding = 'same', kernel_initializer = 'he_uniform'))\n",
    "feature_extractor.add(BatchNormalization())\n",
    "feature_extractor.add(MaxPooling2D())\n",
    "\n",
    "feature_extractor.add(Conv2D(64, 3, activation = activation, padding = 'same', kernel_initializer = 'he_uniform'))\n",
    "feature_extractor.add(BatchNormalization())\n",
    "\n",
    "feature_extractor.add(Conv2D(64, 3, activation = activation, padding = 'same', kernel_initializer = 'he_uniform'))\n",
    "feature_extractor.add(BatchNormalization())\n",
    "feature_extractor.add(MaxPooling2D())\n",
    "\n",
    "feature_extractor.add(Flatten())"
   ]
  },
  {
   "cell_type": "code",
   "execution_count": 76,
   "metadata": {},
   "outputs": [],
   "source": [
    "x = feature_extractor.output  \n",
    "x = Dense(128, activation = activation, kernel_initializer = 'he_uniform')(x)\n",
    "prediction_layer = Dense(4, activation = 'softmax')(x)"
   ]
  },
  {
   "cell_type": "code",
   "execution_count": 84,
   "metadata": {},
   "outputs": [
    {
     "name": "stdout",
     "output_type": "stream",
     "text": [
      "Model: \"model_1\"\n",
      "_________________________________________________________________\n",
      " Layer (type)                Output Shape              Param #   \n",
      "=================================================================\n",
      " conv2d_11_input (InputLayer  [(None, 128, 128, 3)]    0         \n",
      " )                                                               \n",
      "                                                                 \n",
      " conv2d_11 (Conv2D)          (None, 128, 128, 32)      896       \n",
      "                                                                 \n",
      " batch_normalization_8 (Batc  (None, 128, 128, 32)     128       \n",
      " hNormalization)                                                 \n",
      "                                                                 \n",
      " conv2d_12 (Conv2D)          (None, 128, 128, 32)      9248      \n",
      "                                                                 \n",
      " batch_normalization_9 (Batc  (None, 128, 128, 32)     128       \n",
      " hNormalization)                                                 \n",
      "                                                                 \n",
      " max_pooling2d_7 (MaxPooling  (None, 64, 64, 32)       0         \n",
      " 2D)                                                             \n",
      "                                                                 \n",
      " conv2d_13 (Conv2D)          (None, 64, 64, 64)        18496     \n",
      "                                                                 \n",
      " batch_normalization_10 (Bat  (None, 64, 64, 64)       256       \n",
      " chNormalization)                                                \n",
      "                                                                 \n",
      " conv2d_14 (Conv2D)          (None, 64, 64, 64)        36928     \n",
      "                                                                 \n",
      " batch_normalization_11 (Bat  (None, 64, 64, 64)       256       \n",
      " chNormalization)                                                \n",
      "                                                                 \n",
      " max_pooling2d_8 (MaxPooling  (None, 32, 32, 64)       0         \n",
      " 2D)                                                             \n",
      "                                                                 \n",
      " flatten_3 (Flatten)         (None, 65536)             0         \n",
      "                                                                 \n",
      " dense_4 (Dense)             (None, 128)               8388736   \n",
      "                                                                 \n",
      " dense_5 (Dense)             (None, 4)                 516       \n",
      "                                                                 \n",
      "=================================================================\n",
      "Total params: 8,455,588\n",
      "Trainable params: 8,455,204\n",
      "Non-trainable params: 384\n",
      "_________________________________________________________________\n",
      "None\n"
     ]
    }
   ],
   "source": [
    "# Make a new model combining both feature extractor and x\n",
    "cnn_model = Model(inputs=feature_extractor.input, outputs=prediction_layer)\n",
    "cnn_model.compile(optimizer='rmsprop',loss = 'categorical_crossentropy', metrics = ['accuracy'])\n",
    "print(cnn_model.summary()) "
   ]
  },
  {
   "cell_type": "code",
   "execution_count": 88,
   "metadata": {},
   "outputs": [
    {
     "data": {
      "image/png": "[encoded data removed]",
      "text/plain": [
       "<Figure size 432x288 with 1 Axes>"
      ]
     },
     "metadata": {
      "needs_background": "light"
     },
     "output_type": "display_data"
    }
   ],
   "source": [
    "#plot the training and validation accuracy and loss at each epoch\n",
    "loss = hist.history['loss']\n",
    "val_loss = hist.history['val_loss']\n",
    "epochs = range(1, len(loss) + 1)\n",
    "plt.plot(epochs, loss, 'y', label='Training loss')\n",
    "plt.plot(epochs, val_loss, 'r', label='Validation loss')\n",
    "plt.title('Training and validation loss')\n",
    "plt.xlabel('Epochs')\n",
    "plt.ylabel('Loss')\n",
    "plt.legend()\n",
    "plt.show()"
   ]
  },
  {
   "cell_type": "code",
   "execution_count": 92,
   "metadata": {},
   "outputs": [
    {
     "ename": "KeyError",
     "evalue": "'acc'",
     "output_type": "error",
     "traceback": [
      "\u001B[1;31m---------------------------------------------------------------------------\u001B[0m",
      "\u001B[1;31mKeyError\u001B[0m                                  Traceback (most recent call last)",
      "Input \u001B[1;32mIn [92]\u001B[0m, in \u001B[0;36m<cell line: 1>\u001B[1;34m()\u001B[0m\n\u001B[1;32m----> 1\u001B[0m acc \u001B[38;5;241m=\u001B[39m \u001B[43mhist\u001B[49m\u001B[38;5;241;43m.\u001B[39;49m\u001B[43mhistory\u001B[49m\u001B[43m[\u001B[49m\u001B[38;5;124;43m'\u001B[39;49m\u001B[38;5;124;43macc\u001B[39;49m\u001B[38;5;124;43m'\u001B[39;49m\u001B[43m]\u001B[49m\n\u001B[0;32m      2\u001B[0m val_acc \u001B[38;5;241m=\u001B[39m hist\u001B[38;5;241m.\u001B[39mhistory[\u001B[38;5;124m'\u001B[39m\u001B[38;5;124mval_acc\u001B[39m\u001B[38;5;124m'\u001B[39m]\n\u001B[0;32m      3\u001B[0m plt\u001B[38;5;241m.\u001B[39mplot(epochs, acc, \u001B[38;5;124m'\u001B[39m\u001B[38;5;124my\u001B[39m\u001B[38;5;124m'\u001B[39m, label\u001B[38;5;241m=\u001B[39m\u001B[38;5;124m'\u001B[39m\u001B[38;5;124mTraining acc\u001B[39m\u001B[38;5;124m'\u001B[39m)\n",
      "\u001B[1;31mKeyError\u001B[0m: 'acc'"
     ]
    }
   ],
   "source": [
    "acc = hist.history['acc']\n",
    "val_acc = hist.history['val_acc']\n",
    "plt.plot(epochs, acc, 'y', label='Training acc')\n",
    "plt.plot(epochs, val_acc, 'r', label='Validation acc')\n",
    "plt.title('Training and validation accuracy')\n",
    "plt.xlabel('Epochs')\n",
    "plt.ylabel('Accuracy')\n",
    "plt.legend()\n",
    "plt.show()"
   ]
  },
  {
   "cell_type": "code",
   "execution_count": 94,
   "metadata": {},
   "outputs": [
    {
     "ename": "ValueError",
     "evalue": "Unexpected result of `predict_function` (Empty batch_outputs). Please use `Model.compile(..., run_eagerly=True)`, or `tf.config.run_functions_eagerly(True)` for more information of where went wrong, or file a issue/bug to `tf.keras`.",
     "output_type": "error",
     "traceback": [
      "\u001B[1;31m---------------------------------------------------------------------------\u001B[0m",
      "\u001B[1;31mValueError\u001B[0m                                Traceback (most recent call last)",
      "Input \u001B[1;32mIn [94]\u001B[0m, in \u001B[0;36m<cell line: 1>\u001B[1;34m()\u001B[0m\n\u001B[1;32m----> 1\u001B[0m prediction_NN \u001B[38;5;241m=\u001B[39m \u001B[43mmodel\u001B[49m\u001B[38;5;241;43m.\u001B[39;49m\u001B[43mpredict\u001B[49m\u001B[43m(\u001B[49m\u001B[43mx_test\u001B[49m\u001B[43m)\u001B[49m\n\u001B[0;32m      2\u001B[0m prediction_NN \u001B[38;5;241m=\u001B[39m np\u001B[38;5;241m.\u001B[39margmax(prediction_NN, axis\u001B[38;5;241m=\u001B[39m\u001B[38;5;241m-\u001B[39m\u001B[38;5;241m1\u001B[39m)\n\u001B[0;32m      3\u001B[0m prediction_NN \u001B[38;5;241m=\u001B[39m le\u001B[38;5;241m.\u001B[39minverse_transform(prediction_NN)\n",
      "File \u001B[1;32m~\\anaconda3\\lib\\site-packages\\keras\\utils\\traceback_utils.py:70\u001B[0m, in \u001B[0;36mfilter_traceback.<locals>.error_handler\u001B[1;34m(*args, **kwargs)\u001B[0m\n\u001B[0;32m     67\u001B[0m     filtered_tb \u001B[38;5;241m=\u001B[39m _process_traceback_frames(e\u001B[38;5;241m.\u001B[39m__traceback__)\n\u001B[0;32m     68\u001B[0m     \u001B[38;5;66;03m# To get the full stack trace, call:\u001B[39;00m\n\u001B[0;32m     69\u001B[0m     \u001B[38;5;66;03m# `tf.debugging.disable_traceback_filtering()`\u001B[39;00m\n\u001B[1;32m---> 70\u001B[0m     \u001B[38;5;28;01mraise\u001B[39;00m e\u001B[38;5;241m.\u001B[39mwith_traceback(filtered_tb) \u001B[38;5;28;01mfrom\u001B[39;00m \u001B[38;5;28mNone\u001B[39m\n\u001B[0;32m     71\u001B[0m \u001B[38;5;28;01mfinally\u001B[39;00m:\n\u001B[0;32m     72\u001B[0m     \u001B[38;5;28;01mdel\u001B[39;00m filtered_tb\n",
      "File \u001B[1;32m~\\anaconda3\\lib\\site-packages\\keras\\engine\\training.py:2278\u001B[0m, in \u001B[0;36mModel.predict\u001B[1;34m(self, x, batch_size, verbose, steps, callbacks, max_queue_size, workers, use_multiprocessing)\u001B[0m\n\u001B[0;32m   2274\u001B[0m                 callbacks\u001B[38;5;241m.\u001B[39mon_predict_batch_end(\n\u001B[0;32m   2275\u001B[0m                     end_step, {\u001B[38;5;124m\"\u001B[39m\u001B[38;5;124moutputs\u001B[39m\u001B[38;5;124m\"\u001B[39m: batch_outputs}\n\u001B[0;32m   2276\u001B[0m                 )\n\u001B[0;32m   2277\u001B[0m     \u001B[38;5;28;01mif\u001B[39;00m batch_outputs \u001B[38;5;129;01mis\u001B[39;00m \u001B[38;5;28;01mNone\u001B[39;00m:\n\u001B[1;32m-> 2278\u001B[0m         \u001B[38;5;28;01mraise\u001B[39;00m \u001B[38;5;167;01mValueError\u001B[39;00m(\n\u001B[0;32m   2279\u001B[0m             \u001B[38;5;124m\"\u001B[39m\u001B[38;5;124mUnexpected result of `predict_function` \u001B[39m\u001B[38;5;124m\"\u001B[39m\n\u001B[0;32m   2280\u001B[0m             \u001B[38;5;124m\"\u001B[39m\u001B[38;5;124m(Empty batch_outputs). Please use \u001B[39m\u001B[38;5;124m\"\u001B[39m\n\u001B[0;32m   2281\u001B[0m             \u001B[38;5;124m\"\u001B[39m\u001B[38;5;124m`Model.compile(..., run_eagerly=True)`, or \u001B[39m\u001B[38;5;124m\"\u001B[39m\n\u001B[0;32m   2282\u001B[0m             \u001B[38;5;124m\"\u001B[39m\u001B[38;5;124m`tf.config.run_functions_eagerly(True)` for more \u001B[39m\u001B[38;5;124m\"\u001B[39m\n\u001B[0;32m   2283\u001B[0m             \u001B[38;5;124m\"\u001B[39m\u001B[38;5;124minformation of where went wrong, or file a \u001B[39m\u001B[38;5;124m\"\u001B[39m\n\u001B[0;32m   2284\u001B[0m             \u001B[38;5;124m\"\u001B[39m\u001B[38;5;124missue/bug to `tf.keras`.\u001B[39m\u001B[38;5;124m\"\u001B[39m\n\u001B[0;32m   2285\u001B[0m         )\n\u001B[0;32m   2286\u001B[0m     callbacks\u001B[38;5;241m.\u001B[39mon_predict_end()\n\u001B[0;32m   2287\u001B[0m all_outputs \u001B[38;5;241m=\u001B[39m tf\u001B[38;5;241m.\u001B[39m__internal__\u001B[38;5;241m.\u001B[39mnest\u001B[38;5;241m.\u001B[39mmap_structure_up_to(\n\u001B[0;32m   2288\u001B[0m     batch_outputs, potentially_ragged_concat, outputs\n\u001B[0;32m   2289\u001B[0m )\n",
      "\u001B[1;31mValueError\u001B[0m: Unexpected result of `predict_function` (Empty batch_outputs). Please use `Model.compile(..., run_eagerly=True)`, or `tf.config.run_functions_eagerly(True)` for more information of where went wrong, or file a issue/bug to `tf.keras`."
     ]
    }
   ],
   "source": [
    "prediction_NN = cnn_model.predict(x_test)\n",
    "prediction_NN = np.argmax(prediction_NN, axis=-1)\n",
    "prediction_NN = le.inverse_transform(prediction_NN)"
   ]
  },
  {
   "cell_type": "code",
   "execution_count": 85,
   "metadata": {},
   "outputs": [
    {
     "ename": "ValueError",
     "evalue": "Unexpected result of `predict_function` (Empty batch_outputs). Please use `Model.compile(..., run_eagerly=True)`, or `tf.config.run_functions_eagerly(True)` for more information of where went wrong, or file a issue/bug to `tf.keras`.",
     "output_type": "error",
     "traceback": [
      "\u001B[1;31m---------------------------------------------------------------------------\u001B[0m",
      "\u001B[1;31mValueError\u001B[0m                                Traceback (most recent call last)",
      "Input \u001B[1;32mIn [85]\u001B[0m, in \u001B[0;36m<cell line: 2>\u001B[1;34m()\u001B[0m\n\u001B[0;32m      1\u001B[0m \u001B[38;5;66;03m#Now, let us use features from convolutional network for RF\u001B[39;00m\n\u001B[1;32m----> 2\u001B[0m X_for_RF \u001B[38;5;241m=\u001B[39m \u001B[43mfeature_extractor\u001B[49m\u001B[38;5;241;43m.\u001B[39;49m\u001B[43mpredict\u001B[49m\u001B[43m(\u001B[49m\u001B[43mx_train\u001B[49m\u001B[43m)\u001B[49m\n",
      "File \u001B[1;32m~\\anaconda3\\lib\\site-packages\\keras\\utils\\traceback_utils.py:70\u001B[0m, in \u001B[0;36mfilter_traceback.<locals>.error_handler\u001B[1;34m(*args, **kwargs)\u001B[0m\n\u001B[0;32m     67\u001B[0m     filtered_tb \u001B[38;5;241m=\u001B[39m _process_traceback_frames(e\u001B[38;5;241m.\u001B[39m__traceback__)\n\u001B[0;32m     68\u001B[0m     \u001B[38;5;66;03m# To get the full stack trace, call:\u001B[39;00m\n\u001B[0;32m     69\u001B[0m     \u001B[38;5;66;03m# `tf.debugging.disable_traceback_filtering()`\u001B[39;00m\n\u001B[1;32m---> 70\u001B[0m     \u001B[38;5;28;01mraise\u001B[39;00m e\u001B[38;5;241m.\u001B[39mwith_traceback(filtered_tb) \u001B[38;5;28;01mfrom\u001B[39;00m \u001B[38;5;28mNone\u001B[39m\n\u001B[0;32m     71\u001B[0m \u001B[38;5;28;01mfinally\u001B[39;00m:\n\u001B[0;32m     72\u001B[0m     \u001B[38;5;28;01mdel\u001B[39;00m filtered_tb\n",
      "File \u001B[1;32m~\\anaconda3\\lib\\site-packages\\keras\\engine\\training.py:2278\u001B[0m, in \u001B[0;36mModel.predict\u001B[1;34m(self, x, batch_size, verbose, steps, callbacks, max_queue_size, workers, use_multiprocessing)\u001B[0m\n\u001B[0;32m   2274\u001B[0m                 callbacks\u001B[38;5;241m.\u001B[39mon_predict_batch_end(\n\u001B[0;32m   2275\u001B[0m                     end_step, {\u001B[38;5;124m\"\u001B[39m\u001B[38;5;124moutputs\u001B[39m\u001B[38;5;124m\"\u001B[39m: batch_outputs}\n\u001B[0;32m   2276\u001B[0m                 )\n\u001B[0;32m   2277\u001B[0m     \u001B[38;5;28;01mif\u001B[39;00m batch_outputs \u001B[38;5;129;01mis\u001B[39;00m \u001B[38;5;28;01mNone\u001B[39;00m:\n\u001B[1;32m-> 2278\u001B[0m         \u001B[38;5;28;01mraise\u001B[39;00m \u001B[38;5;167;01mValueError\u001B[39;00m(\n\u001B[0;32m   2279\u001B[0m             \u001B[38;5;124m\"\u001B[39m\u001B[38;5;124mUnexpected result of `predict_function` \u001B[39m\u001B[38;5;124m\"\u001B[39m\n\u001B[0;32m   2280\u001B[0m             \u001B[38;5;124m\"\u001B[39m\u001B[38;5;124m(Empty batch_outputs). Please use \u001B[39m\u001B[38;5;124m\"\u001B[39m\n\u001B[0;32m   2281\u001B[0m             \u001B[38;5;124m\"\u001B[39m\u001B[38;5;124m`Model.compile(..., run_eagerly=True)`, or \u001B[39m\u001B[38;5;124m\"\u001B[39m\n\u001B[0;32m   2282\u001B[0m             \u001B[38;5;124m\"\u001B[39m\u001B[38;5;124m`tf.config.run_functions_eagerly(True)` for more \u001B[39m\u001B[38;5;124m\"\u001B[39m\n\u001B[0;32m   2283\u001B[0m             \u001B[38;5;124m\"\u001B[39m\u001B[38;5;124minformation of where went wrong, or file a \u001B[39m\u001B[38;5;124m\"\u001B[39m\n\u001B[0;32m   2284\u001B[0m             \u001B[38;5;124m\"\u001B[39m\u001B[38;5;124missue/bug to `tf.keras`.\u001B[39m\u001B[38;5;124m\"\u001B[39m\n\u001B[0;32m   2285\u001B[0m         )\n\u001B[0;32m   2286\u001B[0m     callbacks\u001B[38;5;241m.\u001B[39mon_predict_end()\n\u001B[0;32m   2287\u001B[0m all_outputs \u001B[38;5;241m=\u001B[39m tf\u001B[38;5;241m.\u001B[39m__internal__\u001B[38;5;241m.\u001B[39mnest\u001B[38;5;241m.\u001B[39mmap_structure_up_to(\n\u001B[0;32m   2288\u001B[0m     batch_outputs, potentially_ragged_concat, outputs\n\u001B[0;32m   2289\u001B[0m )\n",
      "\u001B[1;31mValueError\u001B[0m: Unexpected result of `predict_function` (Empty batch_outputs). Please use `Model.compile(..., run_eagerly=True)`, or `tf.config.run_functions_eagerly(True)` for more information of where went wrong, or file a issue/bug to `tf.keras`."
     ]
    }
   ],
   "source": [
    "#Now, let us use features from convolutional network for RF\n",
    "X_for_RF = feature_extractor.predict(x_train) #This is out X input to RF"
   ]
  },
  {
   "cell_type": "code",
   "execution_count": 78,
   "metadata": {},
   "outputs": [],
   "source": [
    "#RANDOM FOREST\n",
    "from sklearn.ensemble import RandomForestClassifier\n",
    "RF_model = RandomForestClassifier(n_estimators = 50, random_state = 42)"
   ]
  },
  {
   "cell_type": "code",
   "execution_count": 80,
   "metadata": {},
   "outputs": [
    {
     "ename": "ValueError",
     "evalue": "Expected 2D array, got 1D array instead:\narray=[].\nReshape your data either using array.reshape(-1, 1) if your data has a single feature or array.reshape(1, -1) if it contains a single sample.",
     "output_type": "error",
     "traceback": [
      "\u001B[1;31m---------------------------------------------------------------------------\u001B[0m",
      "\u001B[1;31mValueError\u001B[0m                                Traceback (most recent call last)",
      "Input \u001B[1;32mIn [80]\u001B[0m, in \u001B[0;36m<cell line: 2>\u001B[1;34m()\u001B[0m\n\u001B[0;32m      1\u001B[0m \u001B[38;5;66;03m# Train the model on training data\u001B[39;00m\n\u001B[1;32m----> 2\u001B[0m \u001B[43mRF_model\u001B[49m\u001B[38;5;241;43m.\u001B[39;49m\u001B[43mfit\u001B[49m\u001B[43m(\u001B[49m\u001B[43mx_train\u001B[49m\u001B[43m,\u001B[49m\u001B[43m \u001B[49m\u001B[43my_train\u001B[49m\u001B[43m)\u001B[49m\n",
      "File \u001B[1;32m~\\anaconda3\\lib\\site-packages\\sklearn\\ensemble\\_forest.py:331\u001B[0m, in \u001B[0;36mBaseForest.fit\u001B[1;34m(self, X, y, sample_weight)\u001B[0m\n\u001B[0;32m    329\u001B[0m \u001B[38;5;28;01mif\u001B[39;00m issparse(y):\n\u001B[0;32m    330\u001B[0m     \u001B[38;5;28;01mraise\u001B[39;00m \u001B[38;5;167;01mValueError\u001B[39;00m(\u001B[38;5;124m\"\u001B[39m\u001B[38;5;124msparse multilabel-indicator for y is not supported.\u001B[39m\u001B[38;5;124m\"\u001B[39m)\n\u001B[1;32m--> 331\u001B[0m X, y \u001B[38;5;241m=\u001B[39m \u001B[38;5;28;43mself\u001B[39;49m\u001B[38;5;241;43m.\u001B[39;49m\u001B[43m_validate_data\u001B[49m\u001B[43m(\u001B[49m\n\u001B[0;32m    332\u001B[0m \u001B[43m    \u001B[49m\u001B[43mX\u001B[49m\u001B[43m,\u001B[49m\u001B[43m \u001B[49m\u001B[43my\u001B[49m\u001B[43m,\u001B[49m\u001B[43m \u001B[49m\u001B[43mmulti_output\u001B[49m\u001B[38;5;241;43m=\u001B[39;49m\u001B[38;5;28;43;01mTrue\u001B[39;49;00m\u001B[43m,\u001B[49m\u001B[43m \u001B[49m\u001B[43maccept_sparse\u001B[49m\u001B[38;5;241;43m=\u001B[39;49m\u001B[38;5;124;43m\"\u001B[39;49m\u001B[38;5;124;43mcsc\u001B[39;49m\u001B[38;5;124;43m\"\u001B[39;49m\u001B[43m,\u001B[49m\u001B[43m \u001B[49m\u001B[43mdtype\u001B[49m\u001B[38;5;241;43m=\u001B[39;49m\u001B[43mDTYPE\u001B[49m\n\u001B[0;32m    333\u001B[0m \u001B[43m\u001B[49m\u001B[43m)\u001B[49m\n\u001B[0;32m    334\u001B[0m \u001B[38;5;28;01mif\u001B[39;00m sample_weight \u001B[38;5;129;01mis\u001B[39;00m \u001B[38;5;129;01mnot\u001B[39;00m \u001B[38;5;28;01mNone\u001B[39;00m:\n\u001B[0;32m    335\u001B[0m     sample_weight \u001B[38;5;241m=\u001B[39m _check_sample_weight(sample_weight, X)\n",
      "File \u001B[1;32m~\\anaconda3\\lib\\site-packages\\sklearn\\base.py:596\u001B[0m, in \u001B[0;36mBaseEstimator._validate_data\u001B[1;34m(self, X, y, reset, validate_separately, **check_params)\u001B[0m\n\u001B[0;32m    594\u001B[0m         y \u001B[38;5;241m=\u001B[39m check_array(y, input_name\u001B[38;5;241m=\u001B[39m\u001B[38;5;124m\"\u001B[39m\u001B[38;5;124my\u001B[39m\u001B[38;5;124m\"\u001B[39m, \u001B[38;5;241m*\u001B[39m\u001B[38;5;241m*\u001B[39mcheck_y_params)\n\u001B[0;32m    595\u001B[0m     \u001B[38;5;28;01melse\u001B[39;00m:\n\u001B[1;32m--> 596\u001B[0m         X, y \u001B[38;5;241m=\u001B[39m check_X_y(X, y, \u001B[38;5;241m*\u001B[39m\u001B[38;5;241m*\u001B[39mcheck_params)\n\u001B[0;32m    597\u001B[0m     out \u001B[38;5;241m=\u001B[39m X, y\n\u001B[0;32m    599\u001B[0m \u001B[38;5;28;01mif\u001B[39;00m \u001B[38;5;129;01mnot\u001B[39;00m no_val_X \u001B[38;5;129;01mand\u001B[39;00m check_params\u001B[38;5;241m.\u001B[39mget(\u001B[38;5;124m\"\u001B[39m\u001B[38;5;124mensure_2d\u001B[39m\u001B[38;5;124m\"\u001B[39m, \u001B[38;5;28;01mTrue\u001B[39;00m):\n",
      "File \u001B[1;32m~\\anaconda3\\lib\\site-packages\\sklearn\\utils\\validation.py:1074\u001B[0m, in \u001B[0;36mcheck_X_y\u001B[1;34m(X, y, accept_sparse, accept_large_sparse, dtype, order, copy, force_all_finite, ensure_2d, allow_nd, multi_output, ensure_min_samples, ensure_min_features, y_numeric, estimator)\u001B[0m\n\u001B[0;32m   1069\u001B[0m         estimator_name \u001B[38;5;241m=\u001B[39m _check_estimator_name(estimator)\n\u001B[0;32m   1070\u001B[0m     \u001B[38;5;28;01mraise\u001B[39;00m \u001B[38;5;167;01mValueError\u001B[39;00m(\n\u001B[0;32m   1071\u001B[0m         \u001B[38;5;124mf\u001B[39m\u001B[38;5;124m\"\u001B[39m\u001B[38;5;132;01m{\u001B[39;00mestimator_name\u001B[38;5;132;01m}\u001B[39;00m\u001B[38;5;124m requires y to be passed, but the target y is None\u001B[39m\u001B[38;5;124m\"\u001B[39m\n\u001B[0;32m   1072\u001B[0m     )\n\u001B[1;32m-> 1074\u001B[0m X \u001B[38;5;241m=\u001B[39m \u001B[43mcheck_array\u001B[49m\u001B[43m(\u001B[49m\n\u001B[0;32m   1075\u001B[0m \u001B[43m    \u001B[49m\u001B[43mX\u001B[49m\u001B[43m,\u001B[49m\n\u001B[0;32m   1076\u001B[0m \u001B[43m    \u001B[49m\u001B[43maccept_sparse\u001B[49m\u001B[38;5;241;43m=\u001B[39;49m\u001B[43maccept_sparse\u001B[49m\u001B[43m,\u001B[49m\n\u001B[0;32m   1077\u001B[0m \u001B[43m    \u001B[49m\u001B[43maccept_large_sparse\u001B[49m\u001B[38;5;241;43m=\u001B[39;49m\u001B[43maccept_large_sparse\u001B[49m\u001B[43m,\u001B[49m\n\u001B[0;32m   1078\u001B[0m \u001B[43m    \u001B[49m\u001B[43mdtype\u001B[49m\u001B[38;5;241;43m=\u001B[39;49m\u001B[43mdtype\u001B[49m\u001B[43m,\u001B[49m\n\u001B[0;32m   1079\u001B[0m \u001B[43m    \u001B[49m\u001B[43morder\u001B[49m\u001B[38;5;241;43m=\u001B[39;49m\u001B[43morder\u001B[49m\u001B[43m,\u001B[49m\n\u001B[0;32m   1080\u001B[0m \u001B[43m    \u001B[49m\u001B[43mcopy\u001B[49m\u001B[38;5;241;43m=\u001B[39;49m\u001B[43mcopy\u001B[49m\u001B[43m,\u001B[49m\n\u001B[0;32m   1081\u001B[0m \u001B[43m    \u001B[49m\u001B[43mforce_all_finite\u001B[49m\u001B[38;5;241;43m=\u001B[39;49m\u001B[43mforce_all_finite\u001B[49m\u001B[43m,\u001B[49m\n\u001B[0;32m   1082\u001B[0m \u001B[43m    \u001B[49m\u001B[43mensure_2d\u001B[49m\u001B[38;5;241;43m=\u001B[39;49m\u001B[43mensure_2d\u001B[49m\u001B[43m,\u001B[49m\n\u001B[0;32m   1083\u001B[0m \u001B[43m    \u001B[49m\u001B[43mallow_nd\u001B[49m\u001B[38;5;241;43m=\u001B[39;49m\u001B[43mallow_nd\u001B[49m\u001B[43m,\u001B[49m\n\u001B[0;32m   1084\u001B[0m \u001B[43m    \u001B[49m\u001B[43mensure_min_samples\u001B[49m\u001B[38;5;241;43m=\u001B[39;49m\u001B[43mensure_min_samples\u001B[49m\u001B[43m,\u001B[49m\n\u001B[0;32m   1085\u001B[0m \u001B[43m    \u001B[49m\u001B[43mensure_min_features\u001B[49m\u001B[38;5;241;43m=\u001B[39;49m\u001B[43mensure_min_features\u001B[49m\u001B[43m,\u001B[49m\n\u001B[0;32m   1086\u001B[0m \u001B[43m    \u001B[49m\u001B[43mestimator\u001B[49m\u001B[38;5;241;43m=\u001B[39;49m\u001B[43mestimator\u001B[49m\u001B[43m,\u001B[49m\n\u001B[0;32m   1087\u001B[0m \u001B[43m    \u001B[49m\u001B[43minput_name\u001B[49m\u001B[38;5;241;43m=\u001B[39;49m\u001B[38;5;124;43m\"\u001B[39;49m\u001B[38;5;124;43mX\u001B[39;49m\u001B[38;5;124;43m\"\u001B[39;49m\u001B[43m,\u001B[49m\n\u001B[0;32m   1088\u001B[0m \u001B[43m\u001B[49m\u001B[43m)\u001B[49m\n\u001B[0;32m   1090\u001B[0m y \u001B[38;5;241m=\u001B[39m _check_y(y, multi_output\u001B[38;5;241m=\u001B[39mmulti_output, y_numeric\u001B[38;5;241m=\u001B[39my_numeric, estimator\u001B[38;5;241m=\u001B[39mestimator)\n\u001B[0;32m   1092\u001B[0m check_consistent_length(X, y)\n",
      "File \u001B[1;32m~\\anaconda3\\lib\\site-packages\\sklearn\\utils\\validation.py:879\u001B[0m, in \u001B[0;36mcheck_array\u001B[1;34m(array, accept_sparse, accept_large_sparse, dtype, order, copy, force_all_finite, ensure_2d, allow_nd, ensure_min_samples, ensure_min_features, estimator, input_name)\u001B[0m\n\u001B[0;32m    877\u001B[0m     \u001B[38;5;66;03m# If input is 1D raise error\u001B[39;00m\n\u001B[0;32m    878\u001B[0m     \u001B[38;5;28;01mif\u001B[39;00m array\u001B[38;5;241m.\u001B[39mndim \u001B[38;5;241m==\u001B[39m \u001B[38;5;241m1\u001B[39m:\n\u001B[1;32m--> 879\u001B[0m         \u001B[38;5;28;01mraise\u001B[39;00m \u001B[38;5;167;01mValueError\u001B[39;00m(\n\u001B[0;32m    880\u001B[0m             \u001B[38;5;124m\"\u001B[39m\u001B[38;5;124mExpected 2D array, got 1D array instead:\u001B[39m\u001B[38;5;130;01m\\n\u001B[39;00m\u001B[38;5;124marray=\u001B[39m\u001B[38;5;132;01m{}\u001B[39;00m\u001B[38;5;124m.\u001B[39m\u001B[38;5;130;01m\\n\u001B[39;00m\u001B[38;5;124m\"\u001B[39m\n\u001B[0;32m    881\u001B[0m             \u001B[38;5;124m\"\u001B[39m\u001B[38;5;124mReshape your data either using array.reshape(-1, 1) if \u001B[39m\u001B[38;5;124m\"\u001B[39m\n\u001B[0;32m    882\u001B[0m             \u001B[38;5;124m\"\u001B[39m\u001B[38;5;124myour data has a single feature or array.reshape(1, -1) \u001B[39m\u001B[38;5;124m\"\u001B[39m\n\u001B[0;32m    883\u001B[0m             \u001B[38;5;124m\"\u001B[39m\u001B[38;5;124mif it contains a single sample.\u001B[39m\u001B[38;5;124m\"\u001B[39m\u001B[38;5;241m.\u001B[39mformat(array)\n\u001B[0;32m    884\u001B[0m         )\n\u001B[0;32m    886\u001B[0m \u001B[38;5;28;01mif\u001B[39;00m dtype_numeric \u001B[38;5;129;01mand\u001B[39;00m array\u001B[38;5;241m.\u001B[39mdtype\u001B[38;5;241m.\u001B[39mkind \u001B[38;5;129;01min\u001B[39;00m \u001B[38;5;124m\"\u001B[39m\u001B[38;5;124mUSV\u001B[39m\u001B[38;5;124m\"\u001B[39m:\n\u001B[0;32m    887\u001B[0m     \u001B[38;5;28;01mraise\u001B[39;00m \u001B[38;5;167;01mValueError\u001B[39;00m(\n\u001B[0;32m    888\u001B[0m         \u001B[38;5;124m\"\u001B[39m\u001B[38;5;124mdtype=\u001B[39m\u001B[38;5;124m'\u001B[39m\u001B[38;5;124mnumeric\u001B[39m\u001B[38;5;124m'\u001B[39m\u001B[38;5;124m is not compatible with arrays of bytes/strings.\u001B[39m\u001B[38;5;124m\"\u001B[39m\n\u001B[0;32m    889\u001B[0m         \u001B[38;5;124m\"\u001B[39m\u001B[38;5;124mConvert your data to numeric values explicitly instead.\u001B[39m\u001B[38;5;124m\"\u001B[39m\n\u001B[0;32m    890\u001B[0m     )\n",
      "\u001B[1;31mValueError\u001B[0m: Expected 2D array, got 1D array instead:\narray=[].\nReshape your data either using array.reshape(-1, 1) if your data has a single feature or array.reshape(1, -1) if it contains a single sample."
     ]
    }
   ],
   "source": [
    "# Train the model on training data\n",
    "RF_model.fit(X_for_RF, y_train) #For sklearn no one hot encoding"
   ]
  },
  {
   "cell_type": "code",
   "execution_count": 81,
   "metadata": {},
   "outputs": [
    {
     "ename": "ValueError",
     "evalue": "Unexpected result of `predict_function` (Empty batch_outputs). Please use `Model.compile(..., run_eagerly=True)`, or `tf.config.run_functions_eagerly(True)` for more information of where went wrong, or file a issue/bug to `tf.keras`.",
     "output_type": "error",
     "traceback": [
      "\u001B[1;31m---------------------------------------------------------------------------\u001B[0m",
      "\u001B[1;31mValueError\u001B[0m                                Traceback (most recent call last)",
      "Input \u001B[1;32mIn [81]\u001B[0m, in \u001B[0;36m<cell line: 2>\u001B[1;34m()\u001B[0m\n\u001B[0;32m      1\u001B[0m \u001B[38;5;66;03m#Send test data through same feature extractor process\u001B[39;00m\n\u001B[1;32m----> 2\u001B[0m X_test_feature \u001B[38;5;241m=\u001B[39m \u001B[43mfeature_extractor\u001B[49m\u001B[38;5;241;43m.\u001B[39;49m\u001B[43mpredict\u001B[49m\u001B[43m(\u001B[49m\u001B[43mx_test\u001B[49m\u001B[43m)\u001B[49m\n\u001B[0;32m      3\u001B[0m \u001B[38;5;66;03m#Now predict using the trained RF model. \u001B[39;00m\n\u001B[0;32m      4\u001B[0m prediction_RF \u001B[38;5;241m=\u001B[39m RF_model\u001B[38;5;241m.\u001B[39mpredict(X_test_feature)\n",
      "File \u001B[1;32m~\\anaconda3\\lib\\site-packages\\keras\\utils\\traceback_utils.py:70\u001B[0m, in \u001B[0;36mfilter_traceback.<locals>.error_handler\u001B[1;34m(*args, **kwargs)\u001B[0m\n\u001B[0;32m     67\u001B[0m     filtered_tb \u001B[38;5;241m=\u001B[39m _process_traceback_frames(e\u001B[38;5;241m.\u001B[39m__traceback__)\n\u001B[0;32m     68\u001B[0m     \u001B[38;5;66;03m# To get the full stack trace, call:\u001B[39;00m\n\u001B[0;32m     69\u001B[0m     \u001B[38;5;66;03m# `tf.debugging.disable_traceback_filtering()`\u001B[39;00m\n\u001B[1;32m---> 70\u001B[0m     \u001B[38;5;28;01mraise\u001B[39;00m e\u001B[38;5;241m.\u001B[39mwith_traceback(filtered_tb) \u001B[38;5;28;01mfrom\u001B[39;00m \u001B[38;5;28mNone\u001B[39m\n\u001B[0;32m     71\u001B[0m \u001B[38;5;28;01mfinally\u001B[39;00m:\n\u001B[0;32m     72\u001B[0m     \u001B[38;5;28;01mdel\u001B[39;00m filtered_tb\n",
      "File \u001B[1;32m~\\anaconda3\\lib\\site-packages\\keras\\engine\\training.py:2278\u001B[0m, in \u001B[0;36mModel.predict\u001B[1;34m(self, x, batch_size, verbose, steps, callbacks, max_queue_size, workers, use_multiprocessing)\u001B[0m\n\u001B[0;32m   2274\u001B[0m                 callbacks\u001B[38;5;241m.\u001B[39mon_predict_batch_end(\n\u001B[0;32m   2275\u001B[0m                     end_step, {\u001B[38;5;124m\"\u001B[39m\u001B[38;5;124moutputs\u001B[39m\u001B[38;5;124m\"\u001B[39m: batch_outputs}\n\u001B[0;32m   2276\u001B[0m                 )\n\u001B[0;32m   2277\u001B[0m     \u001B[38;5;28;01mif\u001B[39;00m batch_outputs \u001B[38;5;129;01mis\u001B[39;00m \u001B[38;5;28;01mNone\u001B[39;00m:\n\u001B[1;32m-> 2278\u001B[0m         \u001B[38;5;28;01mraise\u001B[39;00m \u001B[38;5;167;01mValueError\u001B[39;00m(\n\u001B[0;32m   2279\u001B[0m             \u001B[38;5;124m\"\u001B[39m\u001B[38;5;124mUnexpected result of `predict_function` \u001B[39m\u001B[38;5;124m\"\u001B[39m\n\u001B[0;32m   2280\u001B[0m             \u001B[38;5;124m\"\u001B[39m\u001B[38;5;124m(Empty batch_outputs). Please use \u001B[39m\u001B[38;5;124m\"\u001B[39m\n\u001B[0;32m   2281\u001B[0m             \u001B[38;5;124m\"\u001B[39m\u001B[38;5;124m`Model.compile(..., run_eagerly=True)`, or \u001B[39m\u001B[38;5;124m\"\u001B[39m\n\u001B[0;32m   2282\u001B[0m             \u001B[38;5;124m\"\u001B[39m\u001B[38;5;124m`tf.config.run_functions_eagerly(True)` for more \u001B[39m\u001B[38;5;124m\"\u001B[39m\n\u001B[0;32m   2283\u001B[0m             \u001B[38;5;124m\"\u001B[39m\u001B[38;5;124minformation of where went wrong, or file a \u001B[39m\u001B[38;5;124m\"\u001B[39m\n\u001B[0;32m   2284\u001B[0m             \u001B[38;5;124m\"\u001B[39m\u001B[38;5;124missue/bug to `tf.keras`.\u001B[39m\u001B[38;5;124m\"\u001B[39m\n\u001B[0;32m   2285\u001B[0m         )\n\u001B[0;32m   2286\u001B[0m     callbacks\u001B[38;5;241m.\u001B[39mon_predict_end()\n\u001B[0;32m   2287\u001B[0m all_outputs \u001B[38;5;241m=\u001B[39m tf\u001B[38;5;241m.\u001B[39m__internal__\u001B[38;5;241m.\u001B[39mnest\u001B[38;5;241m.\u001B[39mmap_structure_up_to(\n\u001B[0;32m   2288\u001B[0m     batch_outputs, potentially_ragged_concat, outputs\n\u001B[0;32m   2289\u001B[0m )\n",
      "\u001B[1;31mValueError\u001B[0m: Unexpected result of `predict_function` (Empty batch_outputs). Please use `Model.compile(..., run_eagerly=True)`, or `tf.config.run_functions_eagerly(True)` for more information of where went wrong, or file a issue/bug to `tf.keras`."
     ]
    }
   ],
   "source": [
    "#Send test data through same feature extractor process\n",
    "X_test_feature = feature_extractor.predict(x_test)\n",
    "#Now predict using the trained RF model. \n",
    "prediction_RF = RF_model.predict(X_test_feature)\n",
    "#Inverse le transform to get original label back. \n",
    "prediction_RF = le.inverse_transform(prediction_RF)"
   ]
  },
  {
   "cell_type": "code",
   "execution_count": 82,
   "metadata": {},
   "outputs": [
    {
     "ename": "NameError",
     "evalue": "name 'prediction_RF' is not defined",
     "output_type": "error",
     "traceback": [
      "\u001B[1;31m---------------------------------------------------------------------------\u001B[0m",
      "\u001B[1;31mNameError\u001B[0m                                 Traceback (most recent call last)",
      "Input \u001B[1;32mIn [82]\u001B[0m, in \u001B[0;36m<cell line: 3>\u001B[1;34m()\u001B[0m\n\u001B[0;32m      1\u001B[0m \u001B[38;5;66;03m#Print overall accuracy\u001B[39;00m\n\u001B[0;32m      2\u001B[0m \u001B[38;5;28;01mfrom\u001B[39;00m \u001B[38;5;21;01msklearn\u001B[39;00m \u001B[38;5;28;01mimport\u001B[39;00m metrics\n\u001B[1;32m----> 3\u001B[0m \u001B[38;5;28mprint\u001B[39m (\u001B[38;5;124m\"\u001B[39m\u001B[38;5;124mAccuracy = \u001B[39m\u001B[38;5;124m\"\u001B[39m, metrics\u001B[38;5;241m.\u001B[39maccuracy_score(test_labels, \u001B[43mprediction_RF\u001B[49m))\n",
      "\u001B[1;31mNameError\u001B[0m: name 'prediction_RF' is not defined"
     ]
    }
   ],
   "source": [
    "#Print overall accuracy\n",
    "from sklearn import metrics\n",
    "print (\"Accuracy = \", metrics.accuracy_score(test_labels, prediction_RF))"
   ]
  },
  {
   "cell_type": "code",
   "execution_count": 83,
   "metadata": {},
   "outputs": [
    {
     "ename": "NameError",
     "evalue": "name 'confusion_matrix' is not defined",
     "output_type": "error",
     "traceback": [
      "\u001B[1;31m---------------------------------------------------------------------------\u001B[0m",
      "\u001B[1;31mNameError\u001B[0m                                 Traceback (most recent call last)",
      "Input \u001B[1;32mIn [83]\u001B[0m, in \u001B[0;36m<cell line: 2>\u001B[1;34m()\u001B[0m\n\u001B[0;32m      1\u001B[0m \u001B[38;5;66;03m#Confusion Matrix - verify accuracy of each class\u001B[39;00m\n\u001B[1;32m----> 2\u001B[0m cm \u001B[38;5;241m=\u001B[39m \u001B[43mconfusion_matrix\u001B[49m(test_labels, prediction_RF)\n\u001B[0;32m      3\u001B[0m \u001B[38;5;66;03m#print(cm)\u001B[39;00m\n\u001B[0;32m      4\u001B[0m sns\u001B[38;5;241m.\u001B[39mheatmap(cm, annot\u001B[38;5;241m=\u001B[39m\u001B[38;5;28;01mTrue\u001B[39;00m)\n",
      "\u001B[1;31mNameError\u001B[0m: name 'confusion_matrix' is not defined"
     ]
    }
   ],
   "source": [
    "#Confusion Matrix - verify accuracy of each class\n",
    "cm = confusion_matrix(test_labels, prediction_RF)\n",
    "#print(cm)\n",
    "sns.heatmap(cm, annot=True)"
   ]
  },
  {
   "cell_type": "code",
   "execution_count": null,
   "metadata": {},
   "outputs": [],
   "source": []
  }
 ],
 "metadata": {
  "kernelspec": {
   "display_name": "Python 3 (ipykernel)",
   "language": "python",
   "name": "python3"
  },
  "language_info": {
   "codemirror_mode": {
    "name": "ipython",
    "version": 3
   },
   "file_extension": ".py",
   "mimetype": "text/x-python",
   "name": "python",
   "nbconvert_exporter": "python",
   "pygments_lexer": "ipython3",
   "version": "3.9.12"
  }
 },
 "nbformat": 4,
 "nbformat_minor": 1
}
