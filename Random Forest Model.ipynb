{
 "cells": [
  {
   "cell_type": "code",
   "execution_count": 1,
   "metadata": {},
   "outputs": [
    {
     "name": "stdout",
     "output_type": "stream",
     "text": [
      "Requirement already satisfied: dtreeviz in c:\\users\\kiit\\anaconda3\\envs\\r-cnn-cnn\\lib\\site-packages (1.3.7)\n",
      "Requirement already satisfied: fastbook in c:\\users\\kiit\\anaconda3\\envs\\r-cnn-cnn\\lib\\site-packages (0.0.28)\n",
      "Requirement already satisfied: pytest in c:\\users\\kiit\\anaconda3\\envs\\r-cnn-cnn\\lib\\site-packages (from dtreeviz) (7.1.3)\n",
      "Requirement already satisfied: pandas in c:\\users\\kiit\\anaconda3\\envs\\r-cnn-cnn\\lib\\site-packages (from dtreeviz) (1.4.4)\n",
      "Requirement already satisfied: graphviz>=0.9 in c:\\users\\kiit\\anaconda3\\envs\\r-cnn-cnn\\lib\\site-packages (from dtreeviz) (0.20.1)\n",
      "Requirement already satisfied: scikit-learn in c:\\users\\kiit\\anaconda3\\envs\\r-cnn-cnn\\lib\\site-packages (from dtreeviz) (1.1.2)\n",
      "Requirement already satisfied: matplotlib in c:\\users\\kiit\\anaconda3\\envs\\r-cnn-cnn\\lib\\site-packages (from dtreeviz) (3.5.2)\n",
      "Requirement already satisfied: numpy in c:\\users\\kiit\\anaconda3\\envs\\r-cnn-cnn\\lib\\site-packages (from dtreeviz) (1.23.3)\n",
      "Requirement already satisfied: colour in c:\\users\\kiit\\anaconda3\\envs\\r-cnn-cnn\\lib\\site-packages (from dtreeviz) (0.1.5)\n",
      "Requirement already satisfied: fastai>=2.6 in c:\\users\\kiit\\anaconda3\\envs\\r-cnn-cnn\\lib\\site-packages (from fastbook) (2.7.9)\n",
      "Requirement already satisfied: transformers in c:\\users\\kiit\\anaconda3\\envs\\r-cnn-cnn\\lib\\site-packages (from fastbook) (4.23.1)\n",
      "Requirement already satisfied: packaging in c:\\users\\kiit\\anaconda3\\envs\\r-cnn-cnn\\lib\\site-packages (from fastbook) (21.3)\n",
      "Requirement already satisfied: sentencepiece in c:\\users\\kiit\\anaconda3\\envs\\r-cnn-cnn\\lib\\site-packages (from fastbook) (0.1.97)\n",
      "Requirement already satisfied: requests in c:\\users\\kiit\\anaconda3\\envs\\r-cnn-cnn\\lib\\site-packages (from fastbook) (2.28.1)\n",
      "Requirement already satisfied: datasets in c:\\users\\kiit\\anaconda3\\envs\\r-cnn-cnn\\lib\\site-packages (from fastbook) (2.6.1)\n",
      "Requirement already satisfied: pip in c:\\users\\kiit\\anaconda3\\envs\\r-cnn-cnn\\lib\\site-packages (from fastbook) (22.2.2)\n",
      "Requirement already satisfied: pillow>6.0.0 in c:\\users\\kiit\\anaconda3\\envs\\r-cnn-cnn\\lib\\site-packages (from fastai>=2.6->fastbook) (9.2.0)\n",
      "Requirement already satisfied: fastprogress>=0.2.4 in c:\\users\\kiit\\anaconda3\\envs\\r-cnn-cnn\\lib\\site-packages (from fastai>=2.6->fastbook) (1.0.3)\n",
      "Requirement already satisfied: fastcore<1.6,>=1.4.5 in c:\\users\\kiit\\anaconda3\\envs\\r-cnn-cnn\\lib\\site-packages (from fastai>=2.6->fastbook) (1.5.27)\n",
      "Requirement already satisfied: torchvision>=0.8.2 in c:\\users\\kiit\\anaconda3\\envs\\r-cnn-cnn\\lib\\site-packages (from fastai>=2.6->fastbook) (0.13.1)\n",
      "Requirement already satisfied: torch<1.14,>=1.7 in c:\\users\\kiit\\anaconda3\\envs\\r-cnn-cnn\\lib\\site-packages (from fastai>=2.6->fastbook) (1.12.1)\n",
      "Requirement already satisfied: scipy in c:\\users\\kiit\\anaconda3\\envs\\r-cnn-cnn\\lib\\site-packages (from fastai>=2.6->fastbook) (1.9.1)\n",
      "Requirement already satisfied: spacy<4 in c:\\users\\kiit\\anaconda3\\envs\\r-cnn-cnn\\lib\\site-packages (from fastai>=2.6->fastbook) (3.4.2)\n",
      "Requirement already satisfied: pyyaml in c:\\users\\kiit\\anaconda3\\envs\\r-cnn-cnn\\lib\\site-packages (from fastai>=2.6->fastbook) (6.0)\n",
      "Requirement already satisfied: fastdownload<2,>=0.0.5 in c:\\users\\kiit\\anaconda3\\envs\\r-cnn-cnn\\lib\\site-packages (from fastai>=2.6->fastbook) (0.0.7)\n",
      "Requirement already satisfied: pyarrow>=6.0.0 in c:\\users\\kiit\\anaconda3\\envs\\r-cnn-cnn\\lib\\site-packages (from datasets->fastbook) (9.0.0)\n",
      "Requirement already satisfied: huggingface-hub<1.0.0,>=0.2.0 in c:\\users\\kiit\\anaconda3\\envs\\r-cnn-cnn\\lib\\site-packages (from datasets->fastbook) (0.10.1)\n",
      "Requirement already satisfied: xxhash in c:\\users\\kiit\\anaconda3\\envs\\r-cnn-cnn\\lib\\site-packages (from datasets->fastbook) (3.1.0)\n",
      "Requirement already satisfied: fsspec[http]>=2021.11.1 in c:\\users\\kiit\\anaconda3\\envs\\r-cnn-cnn\\lib\\site-packages (from datasets->fastbook) (2022.10.0)\n",
      "Requirement already satisfied: dill<0.3.6 in c:\\users\\kiit\\anaconda3\\envs\\r-cnn-cnn\\lib\\site-packages (from datasets->fastbook) (0.3.5.1)\n",
      "Requirement already satisfied: aiohttp in c:\\users\\kiit\\anaconda3\\envs\\r-cnn-cnn\\lib\\site-packages (from datasets->fastbook) (3.8.3)\n",
      "Requirement already satisfied: multiprocess in c:\\users\\kiit\\anaconda3\\envs\\r-cnn-cnn\\lib\\site-packages (from datasets->fastbook) (0.70.13)\n",
      "Requirement already satisfied: responses<0.19 in c:\\users\\kiit\\anaconda3\\envs\\r-cnn-cnn\\lib\\site-packages (from datasets->fastbook) (0.18.0)\n",
      "Requirement already satisfied: tqdm>=4.62.1 in c:\\users\\kiit\\anaconda3\\envs\\r-cnn-cnn\\lib\\site-packages (from datasets->fastbook) (4.64.1)\n",
      "Requirement already satisfied: certifi>=2017.4.17 in c:\\users\\kiit\\anaconda3\\envs\\r-cnn-cnn\\lib\\site-packages (from requests->fastbook) (2022.9.24)\n",
      "Requirement already satisfied: urllib3<1.27,>=1.21.1 in c:\\users\\kiit\\anaconda3\\envs\\r-cnn-cnn\\lib\\site-packages (from requests->fastbook) (1.26.12)\n",
      "Requirement already satisfied: charset-normalizer<3,>=2 in c:\\users\\kiit\\anaconda3\\envs\\r-cnn-cnn\\lib\\site-packages (from requests->fastbook) (2.0.4)\n",
      "Requirement already satisfied: idna<4,>=2.5 in c:\\users\\kiit\\anaconda3\\envs\\r-cnn-cnn\\lib\\site-packages (from requests->fastbook) (3.4)\n",
      "Requirement already satisfied: pyparsing>=2.2.1 in c:\\users\\kiit\\anaconda3\\envs\\r-cnn-cnn\\lib\\site-packages (from matplotlib->dtreeviz) (3.0.9)\n",
      "Requirement already satisfied: cycler>=0.10 in c:\\users\\kiit\\anaconda3\\envs\\r-cnn-cnn\\lib\\site-packages (from matplotlib->dtreeviz) (0.11.0)\n",
      "Requirement already satisfied: kiwisolver>=1.0.1 in c:\\users\\kiit\\anaconda3\\envs\\r-cnn-cnn\\lib\\site-packages (from matplotlib->dtreeviz) (1.4.2)\n",
      "Requirement already satisfied: fonttools>=4.22.0 in c:\\users\\kiit\\anaconda3\\envs\\r-cnn-cnn\\lib\\site-packages (from matplotlib->dtreeviz) (4.25.0)\n",
      "Requirement already satisfied: python-dateutil>=2.7 in c:\\users\\kiit\\anaconda3\\envs\\r-cnn-cnn\\lib\\site-packages (from matplotlib->dtreeviz) (2.8.2)\n",
      "Requirement already satisfied: pytz>=2020.1 in c:\\users\\kiit\\anaconda3\\envs\\r-cnn-cnn\\lib\\site-packages (from pandas->dtreeviz) (2022.1)\n",
      "Requirement already satisfied: tomli>=1.0.0 in c:\\users\\kiit\\anaconda3\\envs\\r-cnn-cnn\\lib\\site-packages (from pytest->dtreeviz) (2.0.1)\n",
      "Requirement already satisfied: colorama in c:\\users\\kiit\\anaconda3\\envs\\r-cnn-cnn\\lib\\site-packages (from pytest->dtreeviz) (0.4.5)\n",
      "Requirement already satisfied: pluggy<2.0,>=0.12 in c:\\users\\kiit\\anaconda3\\envs\\r-cnn-cnn\\lib\\site-packages (from pytest->dtreeviz) (1.0.0)\n",
      "Requirement already satisfied: iniconfig in c:\\users\\kiit\\anaconda3\\envs\\r-cnn-cnn\\lib\\site-packages (from pytest->dtreeviz) (1.1.1)\n",
      "Requirement already satisfied: attrs>=19.2.0 in c:\\users\\kiit\\anaconda3\\envs\\r-cnn-cnn\\lib\\site-packages (from pytest->dtreeviz) (21.4.0)\n",
      "Requirement already satisfied: py>=1.8.2 in c:\\users\\kiit\\anaconda3\\envs\\r-cnn-cnn\\lib\\site-packages (from pytest->dtreeviz) (1.11.0)\n",
      "Requirement already satisfied: threadpoolctl>=2.0.0 in c:\\users\\kiit\\anaconda3\\envs\\r-cnn-cnn\\lib\\site-packages (from scikit-learn->dtreeviz) (2.2.0)\n",
      "Requirement already satisfied: joblib>=1.0.0 in c:\\users\\kiit\\anaconda3\\envs\\r-cnn-cnn\\lib\\site-packages (from scikit-learn->dtreeviz) (1.1.1)\n",
      "Requirement already satisfied: tokenizers!=0.11.3,<0.14,>=0.11.1 in c:\\users\\kiit\\anaconda3\\envs\\r-cnn-cnn\\lib\\site-packages (from transformers->fastbook) (0.13.1)\n",
      "Requirement already satisfied: regex!=2019.12.17 in c:\\users\\kiit\\anaconda3\\envs\\r-cnn-cnn\\lib\\site-packages (from transformers->fastbook) (2022.9.13)\n",
      "Requirement already satisfied: filelock in c:\\users\\kiit\\anaconda3\\envs\\r-cnn-cnn\\lib\\site-packages (from transformers->fastbook) (3.8.0)\n",
      "Requirement already satisfied: aiosignal>=1.1.2 in c:\\users\\kiit\\anaconda3\\envs\\r-cnn-cnn\\lib\\site-packages (from aiohttp->datasets->fastbook) (1.2.0)\n",
      "Requirement already satisfied: multidict<7.0,>=4.5 in c:\\users\\kiit\\anaconda3\\envs\\r-cnn-cnn\\lib\\site-packages (from aiohttp->datasets->fastbook) (6.0.2)\n",
      "Requirement already satisfied: frozenlist>=1.1.1 in c:\\users\\kiit\\anaconda3\\envs\\r-cnn-cnn\\lib\\site-packages (from aiohttp->datasets->fastbook) (1.3.1)\n",
      "Requirement already satisfied: async-timeout<5.0,>=4.0.0a3 in c:\\users\\kiit\\anaconda3\\envs\\r-cnn-cnn\\lib\\site-packages (from aiohttp->datasets->fastbook) (4.0.2)\n",
      "Requirement already satisfied: yarl<2.0,>=1.0 in c:\\users\\kiit\\anaconda3\\envs\\r-cnn-cnn\\lib\\site-packages (from aiohttp->datasets->fastbook) (1.8.1)\n",
      "Requirement already satisfied: typing-extensions>=3.7.4.3 in c:\\users\\kiit\\anaconda3\\envs\\r-cnn-cnn\\lib\\site-packages (from huggingface-hub<1.0.0,>=0.2.0->datasets->fastbook) (4.3.0)\n",
      "Requirement already satisfied: six>=1.5 in c:\\users\\kiit\\anaconda3\\envs\\r-cnn-cnn\\lib\\site-packages (from python-dateutil>=2.7->matplotlib->dtreeviz) (1.16.0)\n",
      "Requirement already satisfied: thinc<8.2.0,>=8.1.0 in c:\\users\\kiit\\anaconda3\\envs\\r-cnn-cnn\\lib\\site-packages (from spacy<4->fastai>=2.6->fastbook) (8.1.5)\n",
      "Requirement already satisfied: wasabi<1.1.0,>=0.9.1 in c:\\users\\kiit\\anaconda3\\envs\\r-cnn-cnn\\lib\\site-packages (from spacy<4->fastai>=2.6->fastbook) (0.10.1)\n",
      "Requirement already satisfied: cymem<2.1.0,>=2.0.2 in c:\\users\\kiit\\anaconda3\\envs\\r-cnn-cnn\\lib\\site-packages (from spacy<4->fastai>=2.6->fastbook) (2.0.7)\n",
      "Requirement already satisfied: typer<0.5.0,>=0.3.0 in c:\\users\\kiit\\anaconda3\\envs\\r-cnn-cnn\\lib\\site-packages (from spacy<4->fastai>=2.6->fastbook) (0.4.2)\n",
      "Requirement already satisfied: catalogue<2.1.0,>=2.0.6 in c:\\users\\kiit\\anaconda3\\envs\\r-cnn-cnn\\lib\\site-packages (from spacy<4->fastai>=2.6->fastbook) (2.0.8)\n",
      "Requirement already satisfied: preshed<3.1.0,>=3.0.2 in c:\\users\\kiit\\anaconda3\\envs\\r-cnn-cnn\\lib\\site-packages (from spacy<4->fastai>=2.6->fastbook) (3.0.8)\n",
      "Requirement already satisfied: spacy-legacy<3.1.0,>=3.0.10 in c:\\users\\kiit\\anaconda3\\envs\\r-cnn-cnn\\lib\\site-packages (from spacy<4->fastai>=2.6->fastbook) (3.0.10)\n",
      "Requirement already satisfied: murmurhash<1.1.0,>=0.28.0 in c:\\users\\kiit\\anaconda3\\envs\\r-cnn-cnn\\lib\\site-packages (from spacy<4->fastai>=2.6->fastbook) (1.0.9)\n",
      "Requirement already satisfied: srsly<3.0.0,>=2.4.3 in c:\\users\\kiit\\anaconda3\\envs\\r-cnn-cnn\\lib\\site-packages (from spacy<4->fastai>=2.6->fastbook) (2.4.5)\n",
      "Requirement already satisfied: setuptools in c:\\users\\kiit\\anaconda3\\envs\\r-cnn-cnn\\lib\\site-packages (from spacy<4->fastai>=2.6->fastbook) (63.4.1)\n",
      "Requirement already satisfied: langcodes<4.0.0,>=3.2.0 in c:\\users\\kiit\\anaconda3\\envs\\r-cnn-cnn\\lib\\site-packages (from spacy<4->fastai>=2.6->fastbook) (3.3.0)\n",
      "Requirement already satisfied: pydantic!=1.8,!=1.8.1,<1.11.0,>=1.7.4 in c:\\users\\kiit\\anaconda3\\envs\\r-cnn-cnn\\lib\\site-packages (from spacy<4->fastai>=2.6->fastbook) (1.10.2)\n",
      "Requirement already satisfied: spacy-loggers<2.0.0,>=1.0.0 in c:\\users\\kiit\\anaconda3\\envs\\r-cnn-cnn\\lib\\site-packages (from spacy<4->fastai>=2.6->fastbook) (1.0.3)\n",
      "Requirement already satisfied: pathy>=0.3.5 in c:\\users\\kiit\\anaconda3\\envs\\r-cnn-cnn\\lib\\site-packages (from spacy<4->fastai>=2.6->fastbook) (0.6.2)\n",
      "Requirement already satisfied: jinja2 in c:\\users\\kiit\\anaconda3\\envs\\r-cnn-cnn\\lib\\site-packages (from spacy<4->fastai>=2.6->fastbook) (3.0.3)\n",
      "Requirement already satisfied: smart-open<6.0.0,>=5.2.1 in c:\\users\\kiit\\anaconda3\\envs\\r-cnn-cnn\\lib\\site-packages (from pathy>=0.3.5->spacy<4->fastai>=2.6->fastbook) (5.2.1)\n",
      "Requirement already satisfied: confection<1.0.0,>=0.0.1 in c:\\users\\kiit\\anaconda3\\envs\\r-cnn-cnn\\lib\\site-packages (from thinc<8.2.0,>=8.1.0->spacy<4->fastai>=2.6->fastbook) (0.0.3)\n",
      "Requirement already satisfied: blis<0.8.0,>=0.7.8 in c:\\users\\kiit\\anaconda3\\envs\\r-cnn-cnn\\lib\\site-packages (from thinc<8.2.0,>=8.1.0->spacy<4->fastai>=2.6->fastbook) (0.7.9)\n",
      "Requirement already satisfied: click<9.0.0,>=7.1.1 in c:\\users\\kiit\\anaconda3\\envs\\r-cnn-cnn\\lib\\site-packages (from typer<0.5.0,>=0.3.0->spacy<4->fastai>=2.6->fastbook) (8.1.3)\n",
      "Requirement already satisfied: MarkupSafe>=2.0 in c:\\users\\kiit\\anaconda3\\envs\\r-cnn-cnn\\lib\\site-packages (from jinja2->spacy<4->fastai>=2.6->fastbook) (2.1.1)\n"
     ]
    }
   ],
   "source": [
    "!pip install dtreeviz fastbook"
   ]
  },
  {
   "cell_type": "code",
   "execution_count": 29,
   "metadata": {},
   "outputs": [],
   "source": [
    "# Library Imports\n",
    "# linear algebra\n",
    "import numpy as np\n",
    "# data processing\n",
    "import pandas as pd\n",
    "import seaborn as sns\n",
    "from fastbook import *\n",
    "from fastai.tabular.all import *\n",
    "from sklearn.ensemble import RandomForestRegressor\n",
    "from sklearn.tree import DecisionTreeRegressor\n",
    "from dtreeviz.trees import *\n",
    "from IPython.display import Image, display_svg, SVG\n",
    "from sklearn.model_selection import train_test_split\n",
    "from sklearn.ensemble import RandomForestRegressor\n",
    "from sklearn.model_selection import GridSearchCV\n",
    "from sklearn import metrics\n",
    "from sklearn.metrics import classification_report, f1_score, accuracy_score, precision_score, confusion_matrix\n",
    "from sklearn.pipeline import Pipeline\n",
    "#import wandb"
   ]
  },
  {
   "cell_type": "code",
   "execution_count": 11,
   "metadata": {},
   "outputs": [],
   "source": [
    "#importing datasets\n",
    "dataset= pd.read_csv('algae.csv')"
   ]
  },
  {
   "cell_type": "code",
   "execution_count": 13,
   "outputs": [
    {
     "data": {
      "text/plain": "200"
     },
     "execution_count": 13,
     "metadata": {},
     "output_type": "execute_result"
    }
   ],
   "source": [
    "len(dataset)"
   ],
   "metadata": {
    "collapsed": false
   }
  },
  {
   "cell_type": "code",
   "execution_count": 14,
   "outputs": [
    {
     "data": {
      "text/plain": "             size       speed        mxPH        mnO2          Cl         NO3  \\\ncount  200.000000  200.000000  200.000000  200.000000  200.000000  200.000000   \nmean     1.870000    2.255000    7.971675    9.026600   41.454465    3.249565   \nstd      0.752283    0.722902    0.822867    2.547113   46.624699    3.771687   \nmin      1.000000    1.000000    0.000000    0.000000    0.000000    0.000000   \n25%      1.000000    2.000000    7.700000    7.675000    9.041250    1.271000   \n50%      2.000000    2.000000    8.055000    9.800000   31.045500    2.655000   \n75%      2.000000    3.000000    8.400000   10.800000   56.975250    4.420750   \nmax      3.000000    3.000000    9.700000   13.400000  391.500000   45.650000   \n\n                NH4       oPO4         PO4        Chla          a1  \\\ncount    200.000000  200.00000  200.000000  200.000000  200.000000   \nmean     496.282870   72.85469  136.503280   13.132925   16.923500   \nstd     1953.298656   90.97394  129.078712   20.144860   21.348376   \nmin        0.000000    0.00000    0.000000    0.000000    0.000000   \n25%       37.708500   14.25025   39.750000    1.475000    1.500000   \n50%      102.875000   39.00000  102.452000    4.991500    6.950000   \n75%      225.650002   97.99975  213.250000   17.200000   24.800000   \nmax    24064.000000  564.59998  771.599980  110.456000   89.800000   \n\n               a2          a3          a4          a5         a6          a7  \ncount  200.000000  200.000000  200.000000  200.000000  200.00000  200.000000  \nmean     7.458500    4.309500    1.992500    5.064500    5.96400    2.495500  \nstd     11.028202    6.948537    4.417404    7.491401   11.66071    5.158564  \nmin      0.000000    0.000000    0.000000    0.000000    0.00000    0.000000  \n25%      0.000000    0.000000    0.000000    0.000000    0.00000    0.000000  \n50%      3.000000    1.550000    0.000000    1.900000    0.00000    1.000000  \n75%     11.375000    4.925000    2.400000    7.500000    6.92500    2.400000  \nmax     72.600000   42.800000   44.600000   44.400000   77.60000   31.600000  ",
      "text/html": "<div>\n<style scoped>\n    .dataframe tbody tr th:only-of-type {\n        vertical-align: middle;\n    }\n\n    .dataframe tbody tr th {\n        vertical-align: top;\n    }\n\n    .dataframe thead th {\n        text-align: right;\n    }\n</style>\n<table border=\"1\" class=\"dataframe\">\n  <thead>\n    <tr style=\"text-align: right;\">\n      <th></th>\n      <th>size</th>\n      <th>speed</th>\n      <th>mxPH</th>\n      <th>mnO2</th>\n      <th>Cl</th>\n      <th>NO3</th>\n      <th>NH4</th>\n      <th>oPO4</th>\n      <th>PO4</th>\n      <th>Chla</th>\n      <th>a1</th>\n      <th>a2</th>\n      <th>a3</th>\n      <th>a4</th>\n      <th>a5</th>\n      <th>a6</th>\n      <th>a7</th>\n    </tr>\n  </thead>\n  <tbody>\n    <tr>\n      <th>count</th>\n      <td>200.000000</td>\n      <td>200.000000</td>\n      <td>200.000000</td>\n      <td>200.000000</td>\n      <td>200.000000</td>\n      <td>200.000000</td>\n      <td>200.000000</td>\n      <td>200.00000</td>\n      <td>200.000000</td>\n      <td>200.000000</td>\n      <td>200.000000</td>\n      <td>200.000000</td>\n      <td>200.000000</td>\n      <td>200.000000</td>\n      <td>200.000000</td>\n      <td>200.00000</td>\n      <td>200.000000</td>\n    </tr>\n    <tr>\n      <th>mean</th>\n      <td>1.870000</td>\n      <td>2.255000</td>\n      <td>7.971675</td>\n      <td>9.026600</td>\n      <td>41.454465</td>\n      <td>3.249565</td>\n      <td>496.282870</td>\n      <td>72.85469</td>\n      <td>136.503280</td>\n      <td>13.132925</td>\n      <td>16.923500</td>\n      <td>7.458500</td>\n      <td>4.309500</td>\n      <td>1.992500</td>\n      <td>5.064500</td>\n      <td>5.96400</td>\n      <td>2.495500</td>\n    </tr>\n    <tr>\n      <th>std</th>\n      <td>0.752283</td>\n      <td>0.722902</td>\n      <td>0.822867</td>\n      <td>2.547113</td>\n      <td>46.624699</td>\n      <td>3.771687</td>\n      <td>1953.298656</td>\n      <td>90.97394</td>\n      <td>129.078712</td>\n      <td>20.144860</td>\n      <td>21.348376</td>\n      <td>11.028202</td>\n      <td>6.948537</td>\n      <td>4.417404</td>\n      <td>7.491401</td>\n      <td>11.66071</td>\n      <td>5.158564</td>\n    </tr>\n    <tr>\n      <th>min</th>\n      <td>1.000000</td>\n      <td>1.000000</td>\n      <td>0.000000</td>\n      <td>0.000000</td>\n      <td>0.000000</td>\n      <td>0.000000</td>\n      <td>0.000000</td>\n      <td>0.00000</td>\n      <td>0.000000</td>\n      <td>0.000000</td>\n      <td>0.000000</td>\n      <td>0.000000</td>\n      <td>0.000000</td>\n      <td>0.000000</td>\n      <td>0.000000</td>\n      <td>0.00000</td>\n      <td>0.000000</td>\n    </tr>\n    <tr>\n      <th>25%</th>\n      <td>1.000000</td>\n      <td>2.000000</td>\n      <td>7.700000</td>\n      <td>7.675000</td>\n      <td>9.041250</td>\n      <td>1.271000</td>\n      <td>37.708500</td>\n      <td>14.25025</td>\n      <td>39.750000</td>\n      <td>1.475000</td>\n      <td>1.500000</td>\n      <td>0.000000</td>\n      <td>0.000000</td>\n      <td>0.000000</td>\n      <td>0.000000</td>\n      <td>0.00000</td>\n      <td>0.000000</td>\n    </tr>\n    <tr>\n      <th>50%</th>\n      <td>2.000000</td>\n      <td>2.000000</td>\n      <td>8.055000</td>\n      <td>9.800000</td>\n      <td>31.045500</td>\n      <td>2.655000</td>\n      <td>102.875000</td>\n      <td>39.00000</td>\n      <td>102.452000</td>\n      <td>4.991500</td>\n      <td>6.950000</td>\n      <td>3.000000</td>\n      <td>1.550000</td>\n      <td>0.000000</td>\n      <td>1.900000</td>\n      <td>0.00000</td>\n      <td>1.000000</td>\n    </tr>\n    <tr>\n      <th>75%</th>\n      <td>2.000000</td>\n      <td>3.000000</td>\n      <td>8.400000</td>\n      <td>10.800000</td>\n      <td>56.975250</td>\n      <td>4.420750</td>\n      <td>225.650002</td>\n      <td>97.99975</td>\n      <td>213.250000</td>\n      <td>17.200000</td>\n      <td>24.800000</td>\n      <td>11.375000</td>\n      <td>4.925000</td>\n      <td>2.400000</td>\n      <td>7.500000</td>\n      <td>6.92500</td>\n      <td>2.400000</td>\n    </tr>\n    <tr>\n      <th>max</th>\n      <td>3.000000</td>\n      <td>3.000000</td>\n      <td>9.700000</td>\n      <td>13.400000</td>\n      <td>391.500000</td>\n      <td>45.650000</td>\n      <td>24064.000000</td>\n      <td>564.59998</td>\n      <td>771.599980</td>\n      <td>110.456000</td>\n      <td>89.800000</td>\n      <td>72.600000</td>\n      <td>42.800000</td>\n      <td>44.600000</td>\n      <td>44.400000</td>\n      <td>77.60000</td>\n      <td>31.600000</td>\n    </tr>\n  </tbody>\n</table>\n</div>"
     },
     "execution_count": 14,
     "metadata": {},
     "output_type": "execute_result"
    }
   ],
   "source": [
    "dataset.describe()"
   ],
   "metadata": {
    "collapsed": false
   }
  },
  {
   "cell_type": "code",
   "execution_count": 17,
   "outputs": [],
   "source": [
    "#Extracting Independent and dependent Variable\n",
    "X= dataset.iloc[:, [2,3]].values\n",
    "y= dataset.iloc[:, 4].values"
   ],
   "metadata": {
    "collapsed": false
   }
  },
  {
   "cell_type": "code",
   "execution_count": 18,
   "metadata": {},
   "outputs": [
    {
     "data": {
      "text/plain": "(200, 2)"
     },
     "execution_count": 18,
     "metadata": {},
     "output_type": "execute_result"
    }
   ],
   "source": [
    "X.shape"
   ]
  },
  {
   "cell_type": "code",
   "execution_count": 19,
   "outputs": [
    {
     "name": "stdout",
     "output_type": "stream",
     "text": [
      "[[2.   8.  ]\n",
      " [2.   8.35]\n",
      " [2.   8.1 ]\n",
      " [2.   8.07]\n",
      " [2.   8.06]\n",
      " [3.   8.25]\n",
      " [3.   8.15]\n",
      " [3.   8.05]\n",
      " [2.   8.7 ]\n",
      " [3.   7.93]]\n"
     ]
    }
   ],
   "source": [
    "print(X[:10])"
   ],
   "metadata": {
    "collapsed": false
   }
  },
  {
   "cell_type": "code",
   "execution_count": 20,
   "outputs": [
    {
     "data": {
      "text/plain": "(200,)"
     },
     "execution_count": 20,
     "metadata": {},
     "output_type": "execute_result"
    }
   ],
   "source": [
    "y.shape"
   ],
   "metadata": {
    "collapsed": false
   }
  },
  {
   "cell_type": "code",
   "execution_count": 21,
   "outputs": [
    {
     "name": "stdout",
     "output_type": "stream",
     "text": [
      "[ 9.8  8.  11.4  4.8  9.  13.1 10.3 10.6  3.4  9.9]\n"
     ]
    }
   ],
   "source": [
    "print(y[:10])"
   ],
   "metadata": {
    "collapsed": false
   }
  },
  {
   "cell_type": "code",
   "execution_count": 22,
   "outputs": [],
   "source": [
    "X_train, X_test, y_train, y_test = train_test_split(X, y, test_size=0.25, random_state=45)"
   ],
   "metadata": {
    "collapsed": false
   }
  },
  {
   "cell_type": "code",
   "execution_count": 23,
   "outputs": [
    {
     "name": "stdout",
     "output_type": "stream",
     "text": [
      "(150, 2) (50, 2) (150,) (50,)\n"
     ]
    }
   ],
   "source": [
    "print(X_train.shape, X_test.shape, y_train.shape, y_test.shape)"
   ],
   "metadata": {
    "collapsed": false
   }
  },
  {
   "cell_type": "code",
   "execution_count": 24,
   "outputs": [],
   "source": [
    "#instantiation of the model\n",
    "model = RandomForestRegressor(random_state=42, n_jobs=-1, max_depth=5, n_estimators=100, oob_score=True)"
   ],
   "metadata": {
    "collapsed": false
   }
  },
  {
   "cell_type": "code",
   "execution_count": 25,
   "outputs": [
    {
     "data": {
      "text/plain": "RandomForestRegressor(max_depth=5, n_jobs=-1, oob_score=True, random_state=42)",
      "text/html": "<style>#sk-container-id-1 {color: black;background-color: white;}#sk-container-id-1 pre{padding: 0;}#sk-container-id-1 div.sk-toggleable {background-color: white;}#sk-container-id-1 label.sk-toggleable__label {cursor: pointer;display: block;width: 100%;margin-bottom: 0;padding: 0.3em;box-sizing: border-box;text-align: center;}#sk-container-id-1 label.sk-toggleable__label-arrow:before {content: \"▸\";float: left;margin-right: 0.25em;color: #696969;}#sk-container-id-1 label.sk-toggleable__label-arrow:hover:before {color: black;}#sk-container-id-1 div.sk-estimator:hover label.sk-toggleable__label-arrow:before {color: black;}#sk-container-id-1 div.sk-toggleable__content {max-height: 0;max-width: 0;overflow: hidden;text-align: left;background-color: #f0f8ff;}#sk-container-id-1 div.sk-toggleable__content pre {margin: 0.2em;color: black;border-radius: 0.25em;background-color: #f0f8ff;}#sk-container-id-1 input.sk-toggleable__control:checked~div.sk-toggleable__content {max-height: 200px;max-width: 100%;overflow: auto;}#sk-container-id-1 input.sk-toggleable__control:checked~label.sk-toggleable__label-arrow:before {content: \"▾\";}#sk-container-id-1 div.sk-estimator input.sk-toggleable__control:checked~label.sk-toggleable__label {background-color: #d4ebff;}#sk-container-id-1 div.sk-label input.sk-toggleable__control:checked~label.sk-toggleable__label {background-color: #d4ebff;}#sk-container-id-1 input.sk-hidden--visually {border: 0;clip: rect(1px 1px 1px 1px);clip: rect(1px, 1px, 1px, 1px);height: 1px;margin: -1px;overflow: hidden;padding: 0;position: absolute;width: 1px;}#sk-container-id-1 div.sk-estimator {font-family: monospace;background-color: #f0f8ff;border: 1px dotted black;border-radius: 0.25em;box-sizing: border-box;margin-bottom: 0.5em;}#sk-container-id-1 div.sk-estimator:hover {background-color: #d4ebff;}#sk-container-id-1 div.sk-parallel-item::after {content: \"\";width: 100%;border-bottom: 1px solid gray;flex-grow: 1;}#sk-container-id-1 div.sk-label:hover label.sk-toggleable__label {background-color: #d4ebff;}#sk-container-id-1 div.sk-serial::before {content: \"\";position: absolute;border-left: 1px solid gray;box-sizing: border-box;top: 0;bottom: 0;left: 50%;z-index: 0;}#sk-container-id-1 div.sk-serial {display: flex;flex-direction: column;align-items: center;background-color: white;padding-right: 0.2em;padding-left: 0.2em;position: relative;}#sk-container-id-1 div.sk-item {position: relative;z-index: 1;}#sk-container-id-1 div.sk-parallel {display: flex;align-items: stretch;justify-content: center;background-color: white;position: relative;}#sk-container-id-1 div.sk-item::before, #sk-container-id-1 div.sk-parallel-item::before {content: \"\";position: absolute;border-left: 1px solid gray;box-sizing: border-box;top: 0;bottom: 0;left: 50%;z-index: -1;}#sk-container-id-1 div.sk-parallel-item {display: flex;flex-direction: column;z-index: 1;position: relative;background-color: white;}#sk-container-id-1 div.sk-parallel-item:first-child::after {align-self: flex-end;width: 50%;}#sk-container-id-1 div.sk-parallel-item:last-child::after {align-self: flex-start;width: 50%;}#sk-container-id-1 div.sk-parallel-item:only-child::after {width: 0;}#sk-container-id-1 div.sk-dashed-wrapped {border: 1px dashed gray;margin: 0 0.4em 0.5em 0.4em;box-sizing: border-box;padding-bottom: 0.4em;background-color: white;}#sk-container-id-1 div.sk-label label {font-family: monospace;font-weight: bold;display: inline-block;line-height: 1.2em;}#sk-container-id-1 div.sk-label-container {text-align: center;}#sk-container-id-1 div.sk-container {/* jupyter's `normalize.less` sets `[hidden] { display: none; }` but bootstrap.min.css set `[hidden] { display: none !important; }` so we also need the `!important` here to be able to override the default hidden behavior on the sphinx rendered scikit-learn.org. See: https://github.com/scikit-learn/scikit-learn/issues/21755 */display: inline-block !important;position: relative;}#sk-container-id-1 div.sk-text-repr-fallback {display: none;}</style><div id=\"sk-container-id-1\" class=\"sk-top-container\"><div class=\"sk-text-repr-fallback\"><pre>RandomForestRegressor(max_depth=5, n_jobs=-1, oob_score=True, random_state=42)</pre><b>In a Jupyter environment, please rerun this cell to show the HTML representation or trust the notebook. <br />On GitHub, the HTML representation is unable to render, please try loading this page with nbviewer.org.</b></div><div class=\"sk-container\" hidden><div class=\"sk-item\"><div class=\"sk-estimator sk-toggleable\"><input class=\"sk-toggleable__control sk-hidden--visually\" id=\"sk-estimator-id-1\" type=\"checkbox\" checked><label for=\"sk-estimator-id-1\" class=\"sk-toggleable__label sk-toggleable__label-arrow\">RandomForestRegressor</label><div class=\"sk-toggleable__content\"><pre>RandomForestRegressor(max_depth=5, n_jobs=-1, oob_score=True, random_state=42)</pre></div></div></div></div></div>"
     },
     "execution_count": 25,
     "metadata": {},
     "output_type": "execute_result"
    }
   ],
   "source": [
    "#fitting the model\n",
    "model.fit(X_train, y_train)"
   ],
   "metadata": {
    "collapsed": false
   }
  },
  {
   "cell_type": "code",
   "execution_count": 26,
   "outputs": [
    {
     "data": {
      "text/plain": "0.006528579741337026"
     },
     "execution_count": 26,
     "metadata": {},
     "output_type": "execute_result"
    }
   ],
   "source": [
    "# checking the oob score\n",
    "model.oob_score_"
   ],
   "metadata": {
    "collapsed": false
   }
  },
  {
   "cell_type": "code",
   "execution_count": 27,
   "outputs": [],
   "source": [
    "rf = RandomForestRegressor(random_state=42, n_jobs=-1)"
   ],
   "metadata": {
    "collapsed": false
   }
  },
  {
   "cell_type": "code",
   "execution_count": 28,
   "outputs": [],
   "source": [
    "params = {\n",
    "    'max_depth': [2,3,5,10,20],\n",
    "    'min_samples_leaf': [5,10,20,50,100,200],\n",
    "    'n_estimators': [10,25,30,50,100,200]\n",
    "}"
   ],
   "metadata": {
    "collapsed": false
   }
  },
  {
   "cell_type": "code",
   "execution_count": 33,
   "outputs": [],
   "source": [
    "# Instantiate the grid search model\n",
    "grid_search = GridSearchCV(estimator=rf,\n",
    "                           param_grid=params,\n",
    "                           cv = 4,\n",
    "                           n_jobs=-1, verbose=1, scoring=\"accuracy\")"
   ],
   "metadata": {
    "collapsed": false
   }
  },
  {
   "cell_type": "code",
   "execution_count": 34,
   "outputs": [
    {
     "ename": "TypeError",
     "evalue": "Parameter grid should be a dict or a list, got: <function params at 0x000001E63AC4B790> of type function",
     "output_type": "error",
     "traceback": [
      "\u001B[1;31m---------------------------------------------------------------------------\u001B[0m",
      "\u001B[1;31mTypeError\u001B[0m                                 Traceback (most recent call last)",
      "Input \u001B[1;32mIn [34]\u001B[0m, in \u001B[0;36m<cell line: 1>\u001B[1;34m()\u001B[0m\n\u001B[1;32m----> 1\u001B[0m \u001B[43mgrid_search\u001B[49m\u001B[38;5;241;43m.\u001B[39;49m\u001B[43mfit\u001B[49m\u001B[43m(\u001B[49m\u001B[43mX_train\u001B[49m\u001B[43m,\u001B[49m\u001B[43m \u001B[49m\u001B[43my_train\u001B[49m\u001B[43m)\u001B[49m\n",
      "File \u001B[1;32m~\\anaconda3\\lib\\site-packages\\sklearn\\model_selection\\_search.py:875\u001B[0m, in \u001B[0;36mBaseSearchCV.fit\u001B[1;34m(self, X, y, groups, **fit_params)\u001B[0m\n\u001B[0;32m    869\u001B[0m     results \u001B[38;5;241m=\u001B[39m \u001B[38;5;28mself\u001B[39m\u001B[38;5;241m.\u001B[39m_format_results(\n\u001B[0;32m    870\u001B[0m         all_candidate_params, n_splits, all_out, all_more_results\n\u001B[0;32m    871\u001B[0m     )\n\u001B[0;32m    873\u001B[0m     \u001B[38;5;28;01mreturn\u001B[39;00m results\n\u001B[1;32m--> 875\u001B[0m \u001B[38;5;28;43mself\u001B[39;49m\u001B[38;5;241;43m.\u001B[39;49m\u001B[43m_run_search\u001B[49m\u001B[43m(\u001B[49m\u001B[43mevaluate_candidates\u001B[49m\u001B[43m)\u001B[49m\n\u001B[0;32m    877\u001B[0m \u001B[38;5;66;03m# multimetric is determined here because in the case of a callable\u001B[39;00m\n\u001B[0;32m    878\u001B[0m \u001B[38;5;66;03m# self.scoring the return type is only known after calling\u001B[39;00m\n\u001B[0;32m    879\u001B[0m first_test_score \u001B[38;5;241m=\u001B[39m all_out[\u001B[38;5;241m0\u001B[39m][\u001B[38;5;124m\"\u001B[39m\u001B[38;5;124mtest_scores\u001B[39m\u001B[38;5;124m\"\u001B[39m]\n",
      "File \u001B[1;32m~\\anaconda3\\lib\\site-packages\\sklearn\\model_selection\\_search.py:1379\u001B[0m, in \u001B[0;36mGridSearchCV._run_search\u001B[1;34m(self, evaluate_candidates)\u001B[0m\n\u001B[0;32m   1377\u001B[0m \u001B[38;5;28;01mdef\u001B[39;00m \u001B[38;5;21m_run_search\u001B[39m(\u001B[38;5;28mself\u001B[39m, evaluate_candidates):\n\u001B[0;32m   1378\u001B[0m     \u001B[38;5;124;03m\"\"\"Search all candidates in param_grid\"\"\"\u001B[39;00m\n\u001B[1;32m-> 1379\u001B[0m     evaluate_candidates(\u001B[43mParameterGrid\u001B[49m\u001B[43m(\u001B[49m\u001B[38;5;28;43mself\u001B[39;49m\u001B[38;5;241;43m.\u001B[39;49m\u001B[43mparam_grid\u001B[49m\u001B[43m)\u001B[49m)\n",
      "File \u001B[1;32m~\\anaconda3\\lib\\site-packages\\sklearn\\model_selection\\_search.py:95\u001B[0m, in \u001B[0;36mParameterGrid.__init__\u001B[1;34m(self, param_grid)\u001B[0m\n\u001B[0;32m     93\u001B[0m \u001B[38;5;28;01mdef\u001B[39;00m \u001B[38;5;21m__init__\u001B[39m(\u001B[38;5;28mself\u001B[39m, param_grid):\n\u001B[0;32m     94\u001B[0m     \u001B[38;5;28;01mif\u001B[39;00m \u001B[38;5;129;01mnot\u001B[39;00m \u001B[38;5;28misinstance\u001B[39m(param_grid, (Mapping, Iterable)):\n\u001B[1;32m---> 95\u001B[0m         \u001B[38;5;28;01mraise\u001B[39;00m \u001B[38;5;167;01mTypeError\u001B[39;00m(\n\u001B[0;32m     96\u001B[0m             \u001B[38;5;124mf\u001B[39m\u001B[38;5;124m\"\u001B[39m\u001B[38;5;124mParameter grid should be a dict or a list, got: \u001B[39m\u001B[38;5;132;01m{\u001B[39;00mparam_grid\u001B[38;5;132;01m!r}\u001B[39;00m\u001B[38;5;124m of\u001B[39m\u001B[38;5;124m\"\u001B[39m\n\u001B[0;32m     97\u001B[0m             \u001B[38;5;124mf\u001B[39m\u001B[38;5;124m\"\u001B[39m\u001B[38;5;124m type \u001B[39m\u001B[38;5;132;01m{\u001B[39;00m\u001B[38;5;28mtype\u001B[39m(param_grid)\u001B[38;5;241m.\u001B[39m\u001B[38;5;18m__name__\u001B[39m\u001B[38;5;132;01m}\u001B[39;00m\u001B[38;5;124m\"\u001B[39m\n\u001B[0;32m     98\u001B[0m         )\n\u001B[0;32m    100\u001B[0m     \u001B[38;5;28;01mif\u001B[39;00m \u001B[38;5;28misinstance\u001B[39m(param_grid, Mapping):\n\u001B[0;32m    101\u001B[0m         \u001B[38;5;66;03m# wrap dictionary in a singleton list to support either dict\u001B[39;00m\n\u001B[0;32m    102\u001B[0m         \u001B[38;5;66;03m# or list of dicts\u001B[39;00m\n\u001B[0;32m    103\u001B[0m         param_grid \u001B[38;5;241m=\u001B[39m [param_grid]\n",
      "\u001B[1;31mTypeError\u001B[0m: Parameter grid should be a dict or a list, got: <function params at 0x000001E63AC4B790> of type function"
     ]
    }
   ],
   "source": [
    "grid_search.fit(X_train, y_train)"
   ],
   "metadata": {
    "collapsed": false
   }
  },
  {
   "cell_type": "code",
   "execution_count": 35,
   "outputs": [],
   "source": [
    "y_pred = model.predict(X_test)"
   ],
   "metadata": {
    "collapsed": false
   }
  },
  {
   "cell_type": "code",
   "execution_count": 36,
   "outputs": [
    {
     "name": "stdout",
     "output_type": "stream",
     "text": [
      "Mean Absolute Error: 2.1917880017422804\n",
      "Mean Squared Error: 8.635087558943685\n",
      "Root Mean Squared Error: 2.938551949335537\n"
     ]
    }
   ],
   "source": [
    "from sklearn import metrics\n",
    "\n",
    "print('Mean Absolute Error:', metrics.mean_absolute_error(y_test, y_pred))\n",
    "print('Mean Squared Error:', metrics.mean_squared_error(y_test, y_pred))\n",
    "print('Root Mean Squared Error:', np.sqrt(metrics.mean_squared_error(y_test, y_pred)))"
   ],
   "metadata": {
    "collapsed": false
   }
  },
  {
   "cell_type": "code",
   "execution_count": null,
   "outputs": [],
   "source": [],
   "metadata": {
    "collapsed": false
   }
  }
 ],
 "metadata": {
  "kernelspec": {
   "display_name": "Python 3 (ipykernel)",
   "language": "python",
   "name": "python3"
  },
  "language_info": {
   "codemirror_mode": {
    "name": "ipython",
    "version": 3
   },
   "file_extension": ".py",
   "mimetype": "text/x-python",
   "name": "python",
   "nbconvert_exporter": "python",
   "pygments_lexer": "ipython3",
   "version": "3.9.12"
  }
 },
 "nbformat": 4,
 "nbformat_minor": 1
}
