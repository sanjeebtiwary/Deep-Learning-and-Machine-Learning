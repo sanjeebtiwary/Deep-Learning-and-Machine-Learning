{
 "cells": [
  {
   "cell_type": "code",
   "execution_count": 7,
   "metadata": {
    "collapsed": true
   },
   "outputs": [],
   "source": [
    "import numpy as np\n",
    "import matplotlib.pyplot as plt\n",
    "import glob\n",
    "import cv2\n",
    "from keras.models import Model, Sequential\n",
    "from keras.layers import Dense, Flatten, Conv2D, MaxPooling2D\n",
    "import os\n",
    "import seaborn as sns"
   ]
  },
  {
   "cell_type": "code",
   "execution_count": 29,
   "metadata": {},
   "outputs": [
    {
     "name": "stderr",
     "output_type": "stream",
     "text": [
      "ERROR: Could not find a version that satisfies the requirement BatchNormalization (from versions: none)\n",
      "ERROR: No matching distribution found for BatchNormalization\n"
     ]
    }
   ],
   "source": [
    "!pip install BatchNormalization"
   ]
  },
  {
   "cell_type": "code",
   "execution_count": 30,
   "metadata": {},
   "outputs": [],
   "source": [
    "#from keras.layers.normalization import BatchNormalization\n",
    "from tensorflow.keras.layers import BatchNormalization"
   ]
  },
  {
   "cell_type": "code",
   "execution_count": 10,
   "metadata": {},
   "outputs": [
    {
     "name": "stdout",
     "output_type": "stream",
     "text": [
      "['Test', 'Train']\n"
     ]
    }
   ],
   "source": [
    "print(os.listdir(\"data\"))"
   ]
  },
  {
   "cell_type": "code",
   "execution_count": 11,
   "metadata": {},
   "outputs": [],
   "source": [
    "SIZE = 128"
   ]
  },
  {
   "cell_type": "code",
   "execution_count": 14,
   "metadata": {},
   "outputs": [
    {
     "name": "stdout",
     "output_type": "stream",
     "text": [
      "1-s2.0-S1319562X12000332-gr5 - Copy.jpg\n",
      "1-s2.0-S1319562X12000332-gr5.jpg\n",
      "15-investigatin - Copy.jpg\n",
      "15-investigatin.jpg\n",
      "315748_1_En_8_Fig2_HTML - Copy.jpg\n",
      "315748_1_En_8_Fig2_HTML.jpg\n",
      "aam-aaes80642 - Copy.jpg\n",
      "aam-aaes80642.jpg\n",
      "algae-for-water-treatment-system-2-320 - Copy.jpg\n",
      "algae-for-water-treatment-system-2-320.jpg\n",
      "Algae-typically-found-in-facultative-ponds-a-Chlamydomonas-b-Chlorella-c_Q320 - Copy.jpg\n",
      "Algae-typically-found-in-facultative-ponds-a-Chlamydomonas-b-Chlorella-c_Q320.jpg\n",
      "Australian-algae-producer-enters-animal-feed-market - Copy.jpg\n",
      "Australian-algae-producer-enters-animal-feed-market.jpg\n",
      "d-various-rod-shaped-bacteria-magnification-2000x-at-35mm-image-size-2BE0GTE - Copy.jpg\n",
      "d-various-rod-shaped-bacteria-magnification-2000x-at-35mm-image-size-2BE0GTE.jpg\n",
      "eg3 - Copy.jpg\n",
      "eg3.jpg\n",
      "euglena - Copy.jpg\n",
      "euglena-2GRMTJ2 - Copy.jpg\n",
      "euglena-2GRMTJ2.jpg\n",
      "euglena-dsc_0169 - Copy.jpg\n",
      "euglena-dsc_0169.jpg\n",
      "EUGLENA-labels-600 - Copy.jpg\n",
      "EUGLENA-labels-600.jpg\n",
      "euglena-with-flagella-captioned- - Copy.jpg\n",
      "euglena-with-flagella-captioned-.jpg\n",
      "euglena.jpg\n",
      "EuglenaUsesSized - Copy.jpg\n",
      "EuglenaUsesSized.jpg\n",
      "euglena_60 - Copy.jpg\n",
      "euglena_60.jpg\n",
      "Euglena_diagram - Copy.jpg\n",
      "Euglena_diagram.jpg\n",
      "Euglena_sp - Copy.jpg\n",
      "Euglena_sp.jpg\n",
      "final-project-report-5-320 - Copy.jpg\n",
      "final-project-report-5-320.jpg\n",
      "hqdefault - Copy.jpg\n",
      "hqdefault.jpg\n",
      "image - Copy.jpeg\n",
      "image.jpeg\n",
      "image10 - Copy.jpeg\n",
      "image10.jpeg\n",
      "image11 - Copy.jpeg\n",
      "image11.jpeg\n",
      "image12 - Copy.jpeg\n",
      "image12.jpeg\n",
      "image13 - Copy.jpeg\n",
      "image13.jpeg\n",
      "image14 - Copy.jpeg\n",
      "image14.jpeg\n",
      "image15 - Copy.jpeg\n",
      "image15.jpeg\n",
      "image16 - Copy.jpeg\n",
      "image16.jpeg\n",
      "image17 - Copy.jpeg\n",
      "image17.jpeg\n",
      "image18 - Copy.jpeg\n",
      "image18.jpeg\n",
      "image19 - Copy.jpeg\n",
      "image19.jpeg\n",
      "image2 - Copy.jpeg\n",
      "image2.jpeg\n",
      "image20 - Copy.jpeg\n",
      "image20.jpeg\n",
      "image3 - Copy.jpeg\n",
      "image3.jpeg\n",
      "image4 - Copy.jpeg\n",
      "image4.jpeg\n",
      "image5 - Copy.jpeg\n",
      "image5.jpeg\n",
      "image6 - Copy.jpeg\n",
      "image6.jpeg\n",
      "image6BG - Copy.jpg\n",
      "image6BG.jpg\n",
      "image7 - Copy.jpeg\n",
      "image7.jpeg\n",
      "image8 - Copy.jpeg\n",
      "image8.jpeg\n",
      "image9 - Copy.jpeg\n",
      "image9.jpeg\n",
      "images - Copy.jpg\n",
      "images.jpg\n",
      "images10 - Copy.jpg\n",
      "images10.jpg\n",
      "images11 - Copy.jpg\n",
      "images11.jpg\n",
      "images12 - Copy.jpg\n",
      "images12.jpg\n",
      "images13 - Copy.jpg\n",
      "images13.jpg\n",
      "images14 - Copy.jpg\n",
      "images14.jpg\n",
      "images15 - Copy.jpg\n",
      "images15.jpg\n",
      "images18 - Copy.jpg\n",
      "images18.jpg\n",
      "images2 - Copy.jpg\n",
      "images2.jpg\n",
      "images21 - Copy.jpg\n",
      "images21.jpg\n",
      "images22 - Copy.jpg\n",
      "images22.jpg\n",
      "images23 - Copy.jpg\n",
      "images23.jpg\n",
      "images24 - Copy.jpg\n",
      "images24.jpg\n",
      "images25 - Copy.jpg\n",
      "images25.jpg\n",
      "images26 - Copy.jpg\n",
      "images26.jpg\n",
      "images27 - Copy.jpg\n",
      "images27.jpg\n",
      "images28 - Copy.jpg\n",
      "images28.jpg\n",
      "images29 - Copy.jpg\n",
      "images29.jpg\n",
      "images3 - Copy.jpg\n",
      "images3.jpg\n",
      "images30 - Copy.jpg\n",
      "images30.jpg\n",
      "images31 - Copy.jpg\n",
      "images31.jpg\n",
      "images32 - Copy.jpg\n",
      "images32.jpg\n",
      "images33 - Copy.jpg\n",
      "images33.jpg\n",
      "images4 - Copy.jpg\n",
      "images4.jpg\n",
      "images5 - Copy.jpg\n",
      "images5.jpg\n",
      "images6 - Copy.jpg\n",
      "images6.jpg\n",
      "images7 - Copy.jpg\n",
      "images7.jpg\n",
      "images8 - Copy.jpg\n",
      "images8.jpg\n",
      "images9 - Copy.jpg\n",
      "images9.jpg\n",
      "IMG_6279Custom_12406 - Copy.jpg\n",
      "IMG_6279Custom_12406.jpg\n",
      "innovations-flying-seeds-Manfred-Richter-720x480 - Copy.jpg\n",
      "innovations-flying-seeds-Manfred-Richter-720x480.jpg\n",
      "liz_harrell_yvn5UBRamAM_unsplash.6144d27839870 - Copy.png\n",
      "liz_harrell_yvn5UBRamAM_unsplash.6144d27839870.png\n",
      "maxresdefault - Copy.jpg\n",
      "maxresdefault.jpg\n",
      "mqdefault - Copy.jpg\n",
      "mqdefault.jpg\n",
      "Photomicrographs-of-a-Euglena-gracilis-b-E-viridis-c-E-polymorpha-d - Copy.png\n",
      "Photomicrographs-of-a-Euglena-gracilis-b-E-viridis-c-E-polymorpha-d.png\n",
      "Plates-showing-algal-diversity-A-a-green-micro-algae-Nannochloropsis-sp_Q320 - Copy.jpg\n",
      "Plates-showing-algal-diversity-A-a-green-micro-algae-Nannochloropsis-sp_Q320.jpg\n",
      "polluted-water-and-scum-on-green-water-surface-environmental-pollution-aerial-top-view-2FN0PDD - Copy.jpg\n",
      "polluted-water-and-scum-on-green-water-surface-environmental-pollution-aerial-top-view-2FN0PDD.jpg\n",
      "polluted-water-with-floating-scum-environmental-water-pollution-aerial-view-2FN0PDC - Copy.jpg\n",
      "polluted-water-with-floating-scum-environmental-water-pollution-aerial-view-2FN0PDC.jpg\n",
      "sanguinea_2 - Copy.jpg\n",
      "sanguinea_2.jpg\n",
      "sofia_sabel-swedish_algae_factory-6768-1 - Copy.jpg\n",
      "sofia_sabel-swedish_algae_factory-6768-1.jpg\n",
      "Symbiotic-relationship-of-microalgae-and-bacteria-in-wastewater-treatment_Q640 - Copy.jpg\n",
      "Symbiotic-relationship-of-microalgae-and-bacteria-in-wastewater-treatment_Q640.jpg\n",
      "TOSSAVAINEN-Pic-0-960x330 - Copy.jpg\n",
      "TOSSAVAINEN-Pic-0-960x330.jpg\n",
      "water-with-swirly-patterns-in-ottawa-river-EAPTC3 - Copy.jpg\n",
      "water-with-swirly-patterns-in-ottawa-river-EAPTC3.jpg\n"
     ]
    }
   ],
   "source": [
    "train_images = []\n",
    "train_labels = []\n",
    "for directory_path in glob.glob(\"data/train/*\"):\n",
    "    label = directory_path.split(\"\\\\\")[-1]\n",
    "    print(label)\n",
    "    for img_path in glob.glob(os.path.join(directory_path, \"*.jpg\")):\n",
    "        print(img_path)\n",
    "        img = cv2.imread(img_path, cv2.IMREAD_COLOR)\n",
    "        img = cv2.resize(img, (SIZE, SIZE))\n",
    "        img = cv2.cvtColor(img, cv2.COLOR_RGB2BGR)\n",
    "        train_images.append(img)\n",
    "        train_labels.append(label)"
   ]
  },
  {
   "cell_type": "code",
   "execution_count": 15,
   "metadata": {},
   "outputs": [],
   "source": [
    "train_images = np.array(train_images)\n",
    "train_labels = np.array(train_labels)"
   ]
  },
  {
   "cell_type": "code",
   "execution_count": 16,
   "metadata": {},
   "outputs": [],
   "source": [
    "# test\n",
    "test_images = []\n",
    "test_labels = []\n",
    "for directory_path in glob.glob(\"data/test/*\"):\n",
    "    fruit_label = directory_path.split(\"\\\\\")[-1]\n",
    "    for img_path in glob.glob(os.path.join(directory_path, \"*.jpg\")):\n",
    "        img = cv2.imread(img_path, cv2.IMREAD_COLOR)\n",
    "        img = cv2.resize(img, (SIZE, SIZE))\n",
    "        img = cv2.cvtColor(img, cv2.COLOR_RGB2BGR)\n",
    "        test_images.append(img)\n",
    "        test_labels.append(fruit_label)"
   ]
  },
  {
   "cell_type": "code",
   "execution_count": 17,
   "metadata": {},
   "outputs": [],
   "source": [
    "#Encode labels from text to integers.\n",
    "from sklearn import preprocessing\n",
    "le = preprocessing.LabelEncoder()\n",
    "le.fit(test_labels)\n",
    "test_labels_encoded = le.transform(test_labels)\n",
    "le.fit(train_labels)\n",
    "train_labels_encoded = le.transform(train_labels)"
   ]
  },
  {
   "cell_type": "code",
   "execution_count": 18,
   "metadata": {},
   "outputs": [],
   "source": [
    "#Split data into test and train datasets (already split but assigning to meaningful convention)\n",
    "x_train, y_train, x_test, y_test = train_images, train_labels_encoded, test_images, test_labels_encoded"
   ]
  },
  {
   "cell_type": "code",
   "execution_count": 23,
   "metadata": {},
   "outputs": [
    {
     "name": "stdout",
     "output_type": "stream",
     "text": [
      "Collecting keras.utils\n",
      "  Downloading keras-utils-1.0.13.tar.gz (2.4 kB)\n",
      "  Preparing metadata (setup.py): started\n",
      "  Preparing metadata (setup.py): finished with status 'done'\n",
      "Requirement already satisfied: Keras>=2.1.5 in c:\\users\\kiit\\anaconda3\\envs\\r-cnn-cnn\\lib\\site-packages (from keras.utils) (2.10.0)\n",
      "Building wheels for collected packages: keras.utils\n",
      "  Building wheel for keras.utils (setup.py): started\n",
      "  Building wheel for keras.utils (setup.py): finished with status 'done'\n",
      "  Created wheel for keras.utils: filename=keras_utils-1.0.13-py3-none-any.whl size=2634 sha256=f635fed9fe911c53964bc51a721bb28973b082c70b965dbcd5069e3aff48bedc\n",
      "  Stored in directory: c:\\users\\kiit\\appdata\\local\\pip\\cache\\wheels\\5c\\c0\\b3\\0c332de4fd71f3733ea6d61697464b7ae4b2b5ff0300e6ca7a\n",
      "Successfully built keras.utils\n",
      "Installing collected packages: keras.utils\n",
      "Successfully installed keras.utils-1.0.13\n"
     ]
    }
   ],
   "source": [
    "!pip install keras.utils"
   ]
  },
  {
   "cell_type": "code",
   "execution_count": 32,
   "metadata": {
    "scrolled": true
   },
   "outputs": [
    {
     "ename": "TypeError",
     "evalue": "unsupported operand type(s) for /: 'list' and 'float'",
     "output_type": "error",
     "traceback": [
      "\u001B[1;31m---------------------------------------------------------------------------\u001B[0m",
      "\u001B[1;31mTypeError\u001B[0m                                 Traceback (most recent call last)",
      "Input \u001B[1;32mIn [32]\u001B[0m, in \u001B[0;36m<cell line: 2>\u001B[1;34m()\u001B[0m\n\u001B[0;32m      1\u001B[0m \u001B[38;5;66;03m# Normalize pixel values to between 0 and 1\u001B[39;00m\n\u001B[1;32m----> 2\u001B[0m x_train, x_test \u001B[38;5;241m=\u001B[39m x_train \u001B[38;5;241m/\u001B[39m \u001B[38;5;241m255.0\u001B[39m, \u001B[43mx_test\u001B[49m\u001B[43m \u001B[49m\u001B[38;5;241;43m/\u001B[39;49m\u001B[43m \u001B[49m\u001B[38;5;241;43m255.0\u001B[39;49m\n",
      "\u001B[1;31mTypeError\u001B[0m: unsupported operand type(s) for /: 'list' and 'float'"
     ]
    }
   ],
   "source": [
    "# Normalize pixel values to between 0 and 1\n",
    "#x_train, x_test = x_train / 255.0, x_test / 255.0"
   ]
  },
  {
   "cell_type": "code",
   "execution_count": null,
   "metadata": {
    "pycharm": {
     "is_executing": true
    }
   },
   "outputs": [],
   "source": [
    "import sys\n",
    "def process_image():\n",
    "    min = sys.maxsize\n",
    "    max = -sys.maxsize\n",
    "    image = Image.open(data)\n",
    "    new_image = image.resize((224,224))    \n",
    "    np_image = asarray(image)\n",
    "    if min > np_image.min():\n",
    "        min = np_image.min()\n",
    "    if max < np_image.max():\n",
    "        max = np_image.max()    \n",
    "\n",
    "    np_image = np_image.astype('float32')\n",
    "    print(\"BEGINNING PIXEL VALUES\", np_image)\n",
    "    print('Data Type: %s' % np_image.dtype)\n",
    "    print('Min: %.3f, Max: %.3f' % (np_image.min(), np_image.max()))\n",
    "    np_image -= min\n",
    "    np_image /= (max - min)\n",
    "\n",
    "    print('Min: %.3f, Max: %.3f' % (np_image.min(), np_image.max()))\n",
    "    print(np_image)"
   ]
  },
  {
   "cell_type": "code",
   "execution_count": 31,
   "metadata": {},
   "outputs": [
    {
     "ename": "ValueError",
     "evalue": "zero-size array to reduction operation maximum which has no identity",
     "output_type": "error",
     "traceback": [
      "\u001B[1;31m---------------------------------------------------------------------------\u001B[0m",
      "\u001B[1;31mValueError\u001B[0m                                Traceback (most recent call last)",
      "Input \u001B[1;32mIn [31]\u001B[0m, in \u001B[0;36m<cell line: 3>\u001B[1;34m()\u001B[0m\n\u001B[0;32m      1\u001B[0m \u001B[38;5;66;03m#One hot encode y values for neural network.\u001B[39;00m\n\u001B[0;32m      2\u001B[0m \u001B[38;5;28;01mfrom\u001B[39;00m \u001B[38;5;21;01mkeras\u001B[39;00m\u001B[38;5;21;01m.\u001B[39;00m\u001B[38;5;21;01mutils\u001B[39;00m \u001B[38;5;28;01mimport\u001B[39;00m to_categorical\n\u001B[1;32m----> 3\u001B[0m y_train_one_hot \u001B[38;5;241m=\u001B[39m \u001B[43mto_categorical\u001B[49m\u001B[43m(\u001B[49m\u001B[43my_train\u001B[49m\u001B[43m)\u001B[49m\n\u001B[0;32m      4\u001B[0m y_test_one_hot \u001B[38;5;241m=\u001B[39m to_categorical(y_test)\n",
      "File \u001B[1;32m~\\anaconda3\\lib\\site-packages\\keras\\utils\\np_utils.py:70\u001B[0m, in \u001B[0;36mto_categorical\u001B[1;34m(y, num_classes, dtype)\u001B[0m\n\u001B[0;32m     68\u001B[0m y \u001B[38;5;241m=\u001B[39m y\u001B[38;5;241m.\u001B[39mravel()\n\u001B[0;32m     69\u001B[0m \u001B[38;5;28;01mif\u001B[39;00m \u001B[38;5;129;01mnot\u001B[39;00m num_classes:\n\u001B[1;32m---> 70\u001B[0m     num_classes \u001B[38;5;241m=\u001B[39m \u001B[43mnp\u001B[49m\u001B[38;5;241;43m.\u001B[39;49m\u001B[43mmax\u001B[49m\u001B[43m(\u001B[49m\u001B[43my\u001B[49m\u001B[43m)\u001B[49m \u001B[38;5;241m+\u001B[39m \u001B[38;5;241m1\u001B[39m\n\u001B[0;32m     71\u001B[0m n \u001B[38;5;241m=\u001B[39m y\u001B[38;5;241m.\u001B[39mshape[\u001B[38;5;241m0\u001B[39m]\n\u001B[0;32m     72\u001B[0m categorical \u001B[38;5;241m=\u001B[39m np\u001B[38;5;241m.\u001B[39mzeros((n, num_classes), dtype\u001B[38;5;241m=\u001B[39mdtype)\n",
      "File \u001B[1;32m<__array_function__ internals>:5\u001B[0m, in \u001B[0;36mamax\u001B[1;34m(*args, **kwargs)\u001B[0m\n",
      "File \u001B[1;32m~\\anaconda3\\lib\\site-packages\\numpy\\core\\fromnumeric.py:2754\u001B[0m, in \u001B[0;36mamax\u001B[1;34m(a, axis, out, keepdims, initial, where)\u001B[0m\n\u001B[0;32m   2638\u001B[0m \u001B[38;5;129m@array_function_dispatch\u001B[39m(_amax_dispatcher)\n\u001B[0;32m   2639\u001B[0m \u001B[38;5;28;01mdef\u001B[39;00m \u001B[38;5;21mamax\u001B[39m(a, axis\u001B[38;5;241m=\u001B[39m\u001B[38;5;28;01mNone\u001B[39;00m, out\u001B[38;5;241m=\u001B[39m\u001B[38;5;28;01mNone\u001B[39;00m, keepdims\u001B[38;5;241m=\u001B[39mnp\u001B[38;5;241m.\u001B[39m_NoValue, initial\u001B[38;5;241m=\u001B[39mnp\u001B[38;5;241m.\u001B[39m_NoValue,\n\u001B[0;32m   2640\u001B[0m          where\u001B[38;5;241m=\u001B[39mnp\u001B[38;5;241m.\u001B[39m_NoValue):\n\u001B[0;32m   2641\u001B[0m     \u001B[38;5;124;03m\"\"\"\u001B[39;00m\n\u001B[0;32m   2642\u001B[0m \u001B[38;5;124;03m    Return the maximum of an array or maximum along an axis.\u001B[39;00m\n\u001B[0;32m   2643\u001B[0m \n\u001B[1;32m   (...)\u001B[0m\n\u001B[0;32m   2752\u001B[0m \u001B[38;5;124;03m    5\u001B[39;00m\n\u001B[0;32m   2753\u001B[0m \u001B[38;5;124;03m    \"\"\"\u001B[39;00m\n\u001B[1;32m-> 2754\u001B[0m     \u001B[38;5;28;01mreturn\u001B[39;00m \u001B[43m_wrapreduction\u001B[49m\u001B[43m(\u001B[49m\u001B[43ma\u001B[49m\u001B[43m,\u001B[49m\u001B[43m \u001B[49m\u001B[43mnp\u001B[49m\u001B[38;5;241;43m.\u001B[39;49m\u001B[43mmaximum\u001B[49m\u001B[43m,\u001B[49m\u001B[43m \u001B[49m\u001B[38;5;124;43m'\u001B[39;49m\u001B[38;5;124;43mmax\u001B[39;49m\u001B[38;5;124;43m'\u001B[39;49m\u001B[43m,\u001B[49m\u001B[43m \u001B[49m\u001B[43maxis\u001B[49m\u001B[43m,\u001B[49m\u001B[43m \u001B[49m\u001B[38;5;28;43;01mNone\u001B[39;49;00m\u001B[43m,\u001B[49m\u001B[43m \u001B[49m\u001B[43mout\u001B[49m\u001B[43m,\u001B[49m\n\u001B[0;32m   2755\u001B[0m \u001B[43m                          \u001B[49m\u001B[43mkeepdims\u001B[49m\u001B[38;5;241;43m=\u001B[39;49m\u001B[43mkeepdims\u001B[49m\u001B[43m,\u001B[49m\u001B[43m \u001B[49m\u001B[43minitial\u001B[49m\u001B[38;5;241;43m=\u001B[39;49m\u001B[43minitial\u001B[49m\u001B[43m,\u001B[49m\u001B[43m \u001B[49m\u001B[43mwhere\u001B[49m\u001B[38;5;241;43m=\u001B[39;49m\u001B[43mwhere\u001B[49m\u001B[43m)\u001B[49m\n",
      "File \u001B[1;32m~\\anaconda3\\lib\\site-packages\\numpy\\core\\fromnumeric.py:86\u001B[0m, in \u001B[0;36m_wrapreduction\u001B[1;34m(obj, ufunc, method, axis, dtype, out, **kwargs)\u001B[0m\n\u001B[0;32m     83\u001B[0m         \u001B[38;5;28;01melse\u001B[39;00m:\n\u001B[0;32m     84\u001B[0m             \u001B[38;5;28;01mreturn\u001B[39;00m reduction(axis\u001B[38;5;241m=\u001B[39maxis, out\u001B[38;5;241m=\u001B[39mout, \u001B[38;5;241m*\u001B[39m\u001B[38;5;241m*\u001B[39mpasskwargs)\n\u001B[1;32m---> 86\u001B[0m \u001B[38;5;28;01mreturn\u001B[39;00m ufunc\u001B[38;5;241m.\u001B[39mreduce(obj, axis, dtype, out, \u001B[38;5;241m*\u001B[39m\u001B[38;5;241m*\u001B[39mpasskwargs)\n",
      "\u001B[1;31mValueError\u001B[0m: zero-size array to reduction operation maximum which has no identity"
     ]
    }
   ],
   "source": [
    "#One hot encode y values for neural network.\n",
    "from keras.utils import to_categorical\n",
    "y_train_one_hot = to_categorical(y_train)\n",
    "y_test_one_hot = to_categorical(y_test)"
   ]
  },
  {
   "cell_type": "code",
   "execution_count": null,
   "metadata": {},
   "outputs": [],
   "source": []
  }
 ],
 "metadata": {
  "kernelspec": {
   "display_name": "Python 3 (ipykernel)",
   "language": "python",
   "name": "python3"
  },
  "language_info": {
   "codemirror_mode": {
    "name": "ipython",
    "version": 3
   },
   "file_extension": ".py",
   "mimetype": "text/x-python",
   "name": "python",
   "nbconvert_exporter": "python",
   "pygments_lexer": "ipython3",
   "version": "3.9.12"
  }
 },
 "nbformat": 4,
 "nbformat_minor": 1
}
