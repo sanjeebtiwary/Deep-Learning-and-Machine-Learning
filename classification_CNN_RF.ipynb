{
 "cells": [
  {
   "cell_type": "code",
   "execution_count": null,
   "metadata": {},
   "outputs": [],
   "source": [
    "import numpy as np\n",
    "import matplotlib.pyplot as plt\n",
    "import glob\n",
    "import cv2\n",
    "from keras.models import Model, Sequential\n",
    "from keras.layers import Dense, Flatten, Conv2D, MaxPooling2D\n",
    "import os\n",
    "import seaborn as sns\n",
    "import tensorflow as tf\n",
    "import os as os\n",
    "import cv2\n",
    "import imghdr\n",
    "import numpy as np\n",
    "from matplotlib import pyplot as plt\n",
    "from tensorflow.keras.models import Sequential\n",
    "from tensorflow.keras.layers import Conv2D, MaxPooling2D, Dense, Flatten, Dropout\n",
    "from tensorflow.keras.metrics import Precision, Recall, BinaryAccuracy\n",
    "from sklearn.metrics import confusion_matrix\n",
    "from sklearn.metrics import classification_report\n",
    "import torch \n",
    "import torch.nn as nn\n",
    "import torch.optim as optim\n",
    "import torchvision\n",
    "import torchvision.transforms as trans\n",
    "import itertools\n",
    "import matplotlib.pyplot as plt\n",
    "%matplotlib"
   ]
  },
  {
   "cell_type": "code",
   "execution_count": 3,
   "metadata": {},
   "outputs": [],
   "source": [
    "device = torch.device('cuda:0' if torch.cuda.is_available() else 'cpu')"
   ]
  },
  {
   "cell_type": "code",
   "execution_count": 4,
   "metadata": {},
   "outputs": [],
   "source": [
    "# Avoid OOM errors by setting GPU Memory Consumption Growth\n",
    "gpus = tf.config.experimental.list_physical_devices('GPU')\n",
    "for gpu in gpus:\n",
    "    tf.config.experimental.set_memory_growth(gpu, True)"
   ]
  },
  {
   "cell_type": "code",
   "execution_count": 5,
   "metadata": {},
   "outputs": [
    {
     "data": {
      "text/plain": [
       "[]"
      ]
     },
     "execution_count": 5,
     "metadata": {},
     "output_type": "execute_result"
    }
   ],
   "source": [
    "tf.config.list_physical_devices('GPU')"
   ]
  },
  {
   "cell_type": "code",
   "execution_count": 6,
   "metadata": {},
   "outputs": [],
   "source": [
    "gpus = tf.config.experimental.list_physical_devices('CPU')"
   ]
  },
  {
   "cell_type": "code",
   "execution_count": 7,
   "metadata": {},
   "outputs": [],
   "source": [
    "gpus_local = tf.config.experimental.list_logical_devices('GPU')"
   ]
  },
  {
   "cell_type": "code",
   "execution_count": 8,
   "metadata": {},
   "outputs": [
    {
     "data": {
      "text/plain": [
       "1"
      ]
     },
     "execution_count": 8,
     "metadata": {},
     "output_type": "execute_result"
    }
   ],
   "source": [
    "len(gpus)"
   ]
  },
  {
   "cell_type": "code",
   "execution_count": 9,
   "metadata": {},
   "outputs": [
    {
     "data": {
      "text/plain": [
       "0"
      ]
     },
     "execution_count": 9,
     "metadata": {},
     "output_type": "execute_result"
    }
   ],
   "source": [
    "len(gpus_local)"
   ]
  },
  {
   "cell_type": "code",
   "execution_count": 10,
   "metadata": {},
   "outputs": [],
   "source": [
    "data_dir = 'data'"
   ]
  },
  {
   "cell_type": "code",
   "execution_count": 11,
   "metadata": {},
   "outputs": [],
   "source": [
    "image_exts = ['jpeg','jpg', 'bmp', 'png']"
   ]
  },
  {
   "cell_type": "code",
   "execution_count": 12,
   "metadata": {},
   "outputs": [],
   "source": [
    "for image_class in os.listdir(data_dir):\n",
    "    for image in os.listdir(os.path.join(data_dir, image_class)):\n",
    "        image_path = os.path.join(data_dir, image_class, image)\n",
    "        try:\n",
    "            img = cv2.imread(image_path)\n",
    "            tip = imghdr.what(image_path)\n",
    "            if tip not in image_exts:\n",
    "                print('Image not in ext list {}'.format(image_path))\n",
    "                os.remove(image_path)\n",
    "        except Exception as e:\n",
    "            print('Issue with image {}'.format(image_path))\n",
    "             #os.remove(\"data\")"
   ]
  },
  {
   "cell_type": "code",
   "execution_count": 13,
   "metadata": {},
   "outputs": [
    {
     "name": "stdout",
     "output_type": "stream",
     "text": [
      "Found 442 files belonging to 2 classes.\n"
     ]
    }
   ],
   "source": [
    "data = tf.keras.utils.image_dataset_from_directory('data')"
   ]
  },
  {
   "cell_type": "code",
   "execution_count": 14,
   "metadata": {},
   "outputs": [],
   "source": [
    "data_iterator = data.as_numpy_iterator()"
   ]
  },
  {
   "cell_type": "code",
   "execution_count": 15,
   "metadata": {},
   "outputs": [],
   "source": [
    "batch = data_iterator.next()"
   ]
  },
  {
   "cell_type": "code",
   "execution_count": 16,
   "metadata": {},
   "outputs": [],
   "source": [
    "fig, ax = plt.subplots(ncols=4, figsize=(20,20))\n",
    "for idx, img in enumerate(batch[0][:4]):\n",
    "    ax[idx].imshow(img.astype(int))\n",
    "    ax[idx].title.set_text(batch[1][idx])"
   ]
  },
  {
   "cell_type": "code",
   "execution_count": 17,
   "metadata": {},
   "outputs": [],
   "source": [
    "data = data.map(lambda x,y: (x/255, y))"
   ]
  },
  {
   "cell_type": "code",
   "execution_count": 18,
   "metadata": {},
   "outputs": [
    {
     "data": {
      "text/plain": [
       "(array([[[[1.        , 1.        , 1.        ],\n",
       "          [1.        , 1.        , 1.        ],\n",
       "          [1.        , 1.        , 1.        ],\n",
       "          ...,\n",
       "          [1.        , 1.        , 1.        ],\n",
       "          [1.        , 1.        , 1.        ],\n",
       "          [1.        , 1.        , 1.        ]],\n",
       " \n",
       "         [[1.        , 1.        , 1.        ],\n",
       "          [1.        , 1.        , 1.        ],\n",
       "          [1.        , 1.        , 1.        ],\n",
       "          ...,\n",
       "          [1.        , 1.        , 1.        ],\n",
       "          [1.        , 1.        , 1.        ],\n",
       "          [1.        , 1.        , 1.        ]],\n",
       " \n",
       "         [[1.        , 1.        , 1.        ],\n",
       "          [1.        , 1.        , 1.        ],\n",
       "          [1.        , 1.        , 1.        ],\n",
       "          ...,\n",
       "          [1.        , 1.        , 1.        ],\n",
       "          [1.        , 1.        , 1.        ],\n",
       "          [1.        , 1.        , 1.        ]],\n",
       " \n",
       "         ...,\n",
       " \n",
       "         [[0.30980393, 0.30980393, 0.30980393],\n",
       "          [0.89889705, 0.89889705, 0.89889705],\n",
       "          [1.        , 1.        , 1.        ],\n",
       "          ...,\n",
       "          [1.        , 1.        , 1.        ],\n",
       "          [1.        , 1.        , 1.        ],\n",
       "          [1.        , 1.        , 1.        ]],\n",
       " \n",
       "         [[0.30980393, 0.30980393, 0.30980393],\n",
       "          [0.89889705, 0.89889705, 0.89889705],\n",
       "          [1.        , 1.        , 1.        ],\n",
       "          ...,\n",
       "          [1.        , 1.        , 1.        ],\n",
       "          [1.        , 1.        , 1.        ],\n",
       "          [1.        , 1.        , 1.        ]],\n",
       " \n",
       "         [[0.30980393, 0.30980393, 0.30980393],\n",
       "          [0.89889705, 0.89889705, 0.89889705],\n",
       "          [1.        , 1.        , 1.        ],\n",
       "          ...,\n",
       "          [1.        , 1.        , 1.        ],\n",
       "          [1.        , 1.        , 1.        ],\n",
       "          [1.        , 1.        , 1.        ]]],\n",
       " \n",
       " \n",
       "        [[[0.9764706 , 0.9843137 , 0.9411765 ],\n",
       "          [0.9799096 , 0.98775274, 0.9446155 ],\n",
       "          [0.98039216, 0.9882353 , 0.94509804],\n",
       "          ...,\n",
       "          [0.9843137 , 0.9882353 , 0.95686275],\n",
       "          [0.9843137 , 0.9882353 , 0.95686275],\n",
       "          [0.9843137 , 0.9882353 , 0.95686275]],\n",
       " \n",
       "         [[0.9735141 , 0.9813572 , 0.93821996],\n",
       "          [0.97695315, 0.9847963 , 0.94165903],\n",
       "          [0.97743565, 0.9852788 , 0.94214153],\n",
       "          ...,\n",
       "          [0.9843137 , 0.9882353 , 0.95686275],\n",
       "          [0.9843137 , 0.9882353 , 0.95686275],\n",
       "          [0.9843137 , 0.9882353 , 0.95686275]],\n",
       " \n",
       "         [[0.9702359 , 0.978079  , 0.93494177],\n",
       "          [0.9716464 , 0.97948956, 0.9363523 ],\n",
       "          [0.97368306, 0.9815262 , 0.93838894],\n",
       "          ...,\n",
       "          [0.9843137 , 0.9882353 , 0.95686275],\n",
       "          [0.9843137 , 0.9882353 , 0.95686275],\n",
       "          [0.9843137 , 0.9882353 , 0.95686275]],\n",
       " \n",
       "         ...,\n",
       " \n",
       "         [[0.9764706 , 0.98039216, 0.9490196 ],\n",
       "          [0.9778811 , 0.98180264, 0.9504301 ],\n",
       "          [0.978079  , 0.9820006 , 0.95062804],\n",
       "          ...,\n",
       "          [0.9843137 , 0.9882353 , 0.95686275],\n",
       "          [0.9843137 , 0.9882353 , 0.95686275],\n",
       "          [0.9843137 , 0.9882353 , 0.95686275]],\n",
       " \n",
       "         [[0.97743565, 0.9813572 , 0.94998467],\n",
       "          [0.98002833, 0.9839499 , 0.95257735],\n",
       "          [0.98039216, 0.9843137 , 0.9529412 ],\n",
       "          ...,\n",
       "          [0.9843137 , 0.9882353 , 0.95686275],\n",
       "          [0.9843137 , 0.9882353 , 0.95686275],\n",
       "          [0.9843137 , 0.9882353 , 0.95686275]],\n",
       " \n",
       "         [[0.98039216, 0.9843137 , 0.9529412 ],\n",
       "          [0.98039216, 0.9843137 , 0.9529412 ],\n",
       "          [0.98039216, 0.9843137 , 0.9529412 ],\n",
       "          ...,\n",
       "          [0.9843137 , 0.9882353 , 0.95686275],\n",
       "          [0.9843137 , 0.9882353 , 0.95686275],\n",
       "          [0.9843137 , 0.9882353 , 0.95686275]]],\n",
       " \n",
       " \n",
       "        [[[1.        , 1.        , 1.        ],\n",
       "          [1.        , 1.        , 1.        ],\n",
       "          [1.        , 1.        , 1.        ],\n",
       "          ...,\n",
       "          [1.        , 1.        , 1.        ],\n",
       "          [1.        , 1.        , 1.        ],\n",
       "          [1.        , 1.        , 1.        ]],\n",
       " \n",
       "         [[1.        , 1.        , 1.        ],\n",
       "          [1.        , 1.        , 1.        ],\n",
       "          [1.        , 1.        , 1.        ],\n",
       "          ...,\n",
       "          [1.        , 1.        , 1.        ],\n",
       "          [1.        , 1.        , 1.        ],\n",
       "          [1.        , 1.        , 1.        ]],\n",
       " \n",
       "         [[1.        , 1.        , 1.        ],\n",
       "          [1.        , 1.        , 1.        ],\n",
       "          [1.        , 1.        , 1.        ],\n",
       "          ...,\n",
       "          [1.        , 1.        , 1.        ],\n",
       "          [1.        , 1.        , 1.        ],\n",
       "          [1.        , 1.        , 1.        ]],\n",
       " \n",
       "         ...,\n",
       " \n",
       "         [[1.        , 1.        , 1.        ],\n",
       "          [1.        , 1.        , 1.        ],\n",
       "          [1.        , 1.        , 1.        ],\n",
       "          ...,\n",
       "          [1.        , 1.        , 1.        ],\n",
       "          [1.        , 1.        , 1.        ],\n",
       "          [1.        , 1.        , 1.        ]],\n",
       " \n",
       "         [[1.        , 1.        , 1.        ],\n",
       "          [1.        , 1.        , 1.        ],\n",
       "          [1.        , 1.        , 1.        ],\n",
       "          ...,\n",
       "          [1.        , 1.        , 1.        ],\n",
       "          [1.        , 1.        , 1.        ],\n",
       "          [1.        , 1.        , 1.        ]],\n",
       " \n",
       "         [[1.        , 1.        , 1.        ],\n",
       "          [1.        , 1.        , 1.        ],\n",
       "          [1.        , 1.        , 1.        ],\n",
       "          ...,\n",
       "          [1.        , 1.        , 1.        ],\n",
       "          [1.        , 1.        , 1.        ],\n",
       "          [1.        , 1.        , 1.        ]]],\n",
       " \n",
       " \n",
       "        ...,\n",
       " \n",
       " \n",
       "        [[[0.67184436, 0.821492  , 0.5898054 ],\n",
       "          [0.6900429 , 0.8487898 , 0.61066943],\n",
       "          [0.6988205 , 0.869807  , 0.61960787],\n",
       "          ...,\n",
       "          [0.63295037, 0.78824294, 0.57411915],\n",
       "          [0.614591  , 0.77145374, 0.5636106 ],\n",
       "          [0.5720818 , 0.72894454, 0.5211014 ]],\n",
       " \n",
       "         [[0.68857455, 0.83822227, 0.60264474],\n",
       "          [0.6959553 , 0.85563695, 0.61456037],\n",
       "          [0.70037836, 0.87369794, 0.6234988 ],\n",
       "          ...,\n",
       "          [0.6450107 , 0.79913676, 0.585013  ],\n",
       "          [0.6267311 , 0.78312653, 0.5752834 ],\n",
       "          [0.6016514 , 0.7585141 , 0.550671  ]],\n",
       " \n",
       "         [[0.7085075 , 0.85941124, 0.6186254 ],\n",
       "          [0.70258886, 0.86432517, 0.6189897 ],\n",
       "          [0.70384616, 0.88016355, 0.6284569 ],\n",
       "          ...,\n",
       "          [0.66316503, 0.8158548 , 0.601731  ],\n",
       "          [0.6451922 , 0.8006357 , 0.5927926 ],\n",
       "          [0.6397005 , 0.79535747, 0.58866984]],\n",
       " \n",
       "         ...,\n",
       " \n",
       "         [[0.99884444, 0.99763864, 0.96915257],\n",
       "          [1.        , 0.99937195, 0.9785279 ],\n",
       "          [0.9997486 , 0.99962336, 0.9874885 ],\n",
       "          ...,\n",
       "          [1.        , 1.        , 1.        ],\n",
       "          [1.        , 1.        , 1.        ],\n",
       "          [1.        , 1.        , 1.        ]],\n",
       " \n",
       "         [[1.        , 1.        , 0.95545346],\n",
       "          [1.        , 1.        , 0.96502745],\n",
       "          [1.        , 1.        , 0.97798944],\n",
       "          ...,\n",
       "          [1.        , 1.        , 1.        ],\n",
       "          [1.        , 1.        , 1.        ],\n",
       "          [1.        , 1.        , 1.        ]],\n",
       " \n",
       "         [[1.        , 1.        , 0.9457261 ],\n",
       "          [1.        , 1.        , 0.95576745],\n",
       "          [1.        , 1.        , 0.97098655],\n",
       "          ...,\n",
       "          [1.        , 1.        , 1.        ],\n",
       "          [1.        , 1.        , 1.        ],\n",
       "          [1.        , 1.        , 1.        ]]],\n",
       " \n",
       " \n",
       "        [[[0.8156863 , 0.83137256, 0.77254903],\n",
       "          [0.81844366, 0.8341299 , 0.77530634],\n",
       "          [0.84227943, 0.8579657 , 0.7991422 ],\n",
       "          ...,\n",
       "          [0.7037684 , 0.77043504, 0.73275125],\n",
       "          [0.6410233 , 0.70768994, 0.66847426],\n",
       "          [0.53339463, 0.6000613 , 0.5608456 ]],\n",
       " \n",
       "         [[0.7803054 , 0.79599166, 0.73716813],\n",
       "          [0.7962648 , 0.8119511 , 0.7531276 ],\n",
       "          [0.82558835, 0.8412746 , 0.7824511 ],\n",
       "          ...,\n",
       "          [0.67776746, 0.7444341 , 0.70675033],\n",
       "          [0.63218683, 0.6988535 , 0.6596378 ],\n",
       "          [0.5460707 , 0.61273736, 0.5735217 ]],\n",
       " \n",
       "         [[0.76525146, 0.78093773, 0.72211415],\n",
       "          [0.7932689 , 0.8089552 , 0.75013167],\n",
       "          [0.8183025 , 0.8339888 , 0.77516526],\n",
       "          ...,\n",
       "          [0.67678785, 0.7421087 , 0.7046448 ],\n",
       "          [0.65353656, 0.7190773 , 0.6798616 ],\n",
       "          [0.5945567 , 0.6600974 , 0.62088174]],\n",
       " \n",
       "         ...,\n",
       " \n",
       "         [[0.9016273 , 0.9173136 , 0.913392  ],\n",
       "          [0.8353763 , 0.8510626 , 0.847141  ],\n",
       "          [0.80652666, 0.82221293, 0.81829137],\n",
       "          ...,\n",
       "          [0.83523643, 0.8899961 , 0.87354165],\n",
       "          [0.89817953, 0.9524994 , 0.93735695],\n",
       "          [0.8715009 , 0.92582077, 0.91067827]],\n",
       " \n",
       "         [[0.90756154, 0.9232478 , 0.91932625],\n",
       "          [0.78396356, 0.79964983, 0.79572827],\n",
       "          [0.8085914 , 0.8242777 , 0.82035613],\n",
       "          ...,\n",
       "          [0.8155311 , 0.876032  , 0.8660902 ],\n",
       "          [0.8666156 , 0.9271165 , 0.91870654],\n",
       "          [0.7965549 , 0.85705584, 0.8486459 ]],\n",
       " \n",
       "         [[0.8996017 , 0.915288  , 0.9113664 ],\n",
       "          [0.7510723 , 0.76675856, 0.762837  ],\n",
       "          [0.82365197, 0.83933824, 0.8354167 ],\n",
       "          ...,\n",
       "          [0.7660539 , 0.828799  , 0.8233456 ],\n",
       "          [0.8087929 , 0.871538  , 0.8676164 ],\n",
       "          [0.7101716 , 0.7729167 , 0.7689951 ]]],\n",
       " \n",
       " \n",
       "        [[[1.        , 1.        , 1.        ],\n",
       "          [1.        , 1.        , 1.        ],\n",
       "          [1.        , 1.        , 1.        ],\n",
       "          ...,\n",
       "          [1.        , 1.        , 1.        ],\n",
       "          [1.        , 1.        , 1.        ],\n",
       "          [1.        , 1.        , 1.        ]],\n",
       " \n",
       "         [[1.        , 1.        , 1.        ],\n",
       "          [1.        , 1.        , 1.        ],\n",
       "          [1.        , 1.        , 1.        ],\n",
       "          ...,\n",
       "          [1.        , 1.        , 1.        ],\n",
       "          [1.        , 1.        , 1.        ],\n",
       "          [1.        , 1.        , 1.        ]],\n",
       " \n",
       "         [[1.        , 1.        , 1.        ],\n",
       "          [1.        , 1.        , 1.        ],\n",
       "          [1.        , 1.        , 1.        ],\n",
       "          ...,\n",
       "          [1.        , 1.        , 1.        ],\n",
       "          [1.        , 1.        , 1.        ],\n",
       "          [1.        , 1.        , 1.        ]],\n",
       " \n",
       "         ...,\n",
       " \n",
       "         [[1.        , 1.        , 1.        ],\n",
       "          [1.        , 1.        , 1.        ],\n",
       "          [1.        , 1.        , 1.        ],\n",
       "          ...,\n",
       "          [1.        , 1.        , 1.        ],\n",
       "          [1.        , 1.        , 1.        ],\n",
       "          [1.        , 1.        , 1.        ]],\n",
       " \n",
       "         [[1.        , 1.        , 1.        ],\n",
       "          [1.        , 1.        , 1.        ],\n",
       "          [1.        , 1.        , 1.        ],\n",
       "          ...,\n",
       "          [1.        , 1.        , 1.        ],\n",
       "          [1.        , 1.        , 1.        ],\n",
       "          [1.        , 1.        , 1.        ]],\n",
       " \n",
       "         [[1.        , 1.        , 1.        ],\n",
       "          [1.        , 1.        , 1.        ],\n",
       "          [1.        , 1.        , 1.        ],\n",
       "          ...,\n",
       "          [1.        , 1.        , 1.        ],\n",
       "          [1.        , 1.        , 1.        ],\n",
       "          [1.        , 1.        , 1.        ]]]], dtype=float32),\n",
       " array([0, 0, 0, 0, 0, 0, 0, 0, 0, 1, 0, 0, 1, 0, 0, 0, 0, 1, 1, 0, 1, 1,\n",
       "        1, 0, 0, 1, 1, 1, 0, 0, 0, 0]))"
      ]
     },
     "execution_count": 18,
     "metadata": {},
     "output_type": "execute_result"
    }
   ],
   "source": [
    "data.as_numpy_iterator().next()"
   ]
  },
  {
   "cell_type": "code",
   "execution_count": 19,
   "metadata": {},
   "outputs": [],
   "source": [
    "train_size = int(len(data)*.7)\n",
    "val_size = int(len(data)*.2)\n",
    "test_size = int(len(data)*.1)"
   ]
  },
  {
   "cell_type": "code",
   "execution_count": 20,
   "metadata": {},
   "outputs": [
    {
     "data": {
      "text/plain": [
       "2"
      ]
     },
     "execution_count": 20,
     "metadata": {},
     "output_type": "execute_result"
    }
   ],
   "source": [
    "val_size"
   ]
  },
  {
   "cell_type": "code",
   "execution_count": 21,
   "metadata": {},
   "outputs": [
    {
     "data": {
      "text/plain": [
       "9"
      ]
     },
     "execution_count": 21,
     "metadata": {},
     "output_type": "execute_result"
    }
   ],
   "source": [
    "train_size"
   ]
  },
  {
   "cell_type": "code",
   "execution_count": 22,
   "metadata": {},
   "outputs": [],
   "source": [
    "train = data.take(train_size)\n",
    "val = data.skip(train_size).take(val_size)\n",
    "test = data.skip(train_size+val_size).take(test_size)\n",
    "model = Sequential()\n",
    "model.add(Conv2D(16, (3,3), 1, activation='relu', input_shape=(256,256,3)))\n",
    "model.add(MaxPooling2D())\n",
    "\n",
    "model.add(Conv2D(32, (3,3), 1, activation='relu'))\n",
    "model.add(MaxPooling2D())\n",
    "\n",
    "model.add(Conv2D(16, (3,3), 1, activation='relu'))\n",
    "model.add(MaxPooling2D())\n",
    "\n",
    "model.add(Flatten())\n",
    "\n",
    "model.add(Dense(256, activation='relu'))\n",
    "model.add(Dense(1, activation='sigmoid'))"
   ]
  },
  {
   "cell_type": "code",
   "execution_count": 23,
   "metadata": {},
   "outputs": [
    {
     "name": "stdout",
     "output_type": "stream",
     "text": [
      "Model: \"sequential\"\n",
      "_________________________________________________________________\n",
      " Layer (type)                Output Shape              Param #   \n",
      "=================================================================\n",
      " conv2d (Conv2D)             (None, 254, 254, 16)      448       \n",
      "                                                                 \n",
      " max_pooling2d (MaxPooling2D  (None, 127, 127, 16)     0         \n",
      " )                                                               \n",
      "                                                                 \n",
      " conv2d_1 (Conv2D)           (None, 125, 125, 32)      4640      \n",
      "                                                                 \n",
      " max_pooling2d_1 (MaxPooling  (None, 62, 62, 32)       0         \n",
      " 2D)                                                             \n",
      "                                                                 \n",
      " conv2d_2 (Conv2D)           (None, 60, 60, 16)        4624      \n",
      "                                                                 \n",
      " max_pooling2d_2 (MaxPooling  (None, 30, 30, 16)       0         \n",
      " 2D)                                                             \n",
      "                                                                 \n",
      " flatten (Flatten)           (None, 14400)             0         \n",
      "                                                                 \n",
      " dense (Dense)               (None, 256)               3686656   \n",
      "                                                                 \n",
      " dense_1 (Dense)             (None, 1)                 257       \n",
      "                                                                 \n",
      "=================================================================\n",
      "Total params: 3,696,625\n",
      "Trainable params: 3,696,625\n",
      "Non-trainable params: 0\n",
      "_________________________________________________________________\n"
     ]
    }
   ],
   "source": [
    "model.compile('adam', loss=tf.losses.BinaryCrossentropy(), metrics=['accuracy'])\n",
    "model.summary()"
   ]
  },
  {
   "cell_type": "code",
   "execution_count": null,
   "metadata": {
    "pycharm": {
     "is_executing": true
    }
   },
   "outputs": [],
   "source": [
    "logdir='logs'\n",
    "tensorboard_callback = tf.keras.callbacks.TensorBoard(log_dir=logdir)\n",
    "hist = model.fit(train, epochs=20, validation_data=val, callbacks=[tensorboard_callback])"
   ]
  },
  {
   "cell_type": "code",
   "execution_count": null,
   "metadata": {},
   "outputs": [],
   "source": []
  }
 ],
 "metadata": {
  "kernelspec": {
   "display_name": "Python 3 (ipykernel)",
   "language": "python",
   "name": "python3"
  },
  "language_info": {
   "codemirror_mode": {
    "name": "ipython",
    "version": 3
   },
   "file_extension": ".py",
   "mimetype": "text/x-python",
   "name": "python",
   "nbconvert_exporter": "python",
   "pygments_lexer": "ipython3",
   "version": "3.9.12"
  }
 },
 "nbformat": 4,
 "nbformat_minor": 1
}
