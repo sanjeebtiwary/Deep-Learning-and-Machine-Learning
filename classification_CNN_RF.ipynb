{
 "cells": [
  {
   "cell_type": "code",
   "execution_count": 72,
   "metadata": {
    "pycharm": {
     "is_executing": true
    }
   },
   "outputs": [
    {
     "ename": "ModuleNotFoundError",
     "evalue": "No module named 'tensorflow.layers'",
     "output_type": "error",
     "traceback": [
      "\u001B[1;31m---------------------------------------------------------------------------\u001B[0m",
      "\u001B[1;31mModuleNotFoundError\u001B[0m                       Traceback (most recent call last)",
      "Input \u001B[1;32mIn [72]\u001B[0m, in \u001B[0;36m<cell line: 31>\u001B[1;34m()\u001B[0m\n\u001B[0;32m     29\u001B[0m \u001B[38;5;28;01mfrom\u001B[39;00m \u001B[38;5;21;01mkeras\u001B[39;00m\u001B[38;5;21;01m.\u001B[39;00m\u001B[38;5;21;01mmodels\u001B[39;00m \u001B[38;5;28;01mimport\u001B[39;00m Model, Sequential\n\u001B[0;32m     30\u001B[0m \u001B[38;5;28;01mfrom\u001B[39;00m \u001B[38;5;21;01mkeras\u001B[39;00m\u001B[38;5;21;01m.\u001B[39;00m\u001B[38;5;21;01mlayers\u001B[39;00m \u001B[38;5;28;01mimport\u001B[39;00m Dense, Flatten, Conv2D, MaxPooling2D\n\u001B[1;32m---> 31\u001B[0m \u001B[38;5;28;01mfrom\u001B[39;00m \u001B[38;5;21;01mtensorflow\u001B[39;00m\u001B[38;5;21;01m.\u001B[39;00m\u001B[38;5;21;01mlayers\u001B[39;00m\u001B[38;5;21;01m.\u001B[39;00m\u001B[38;5;21;01mnormalization\u001B[39;00m \u001B[38;5;28;01mimport\u001B[39;00m BatchNormalization\n\u001B[0;32m     32\u001B[0m get_ipython()\u001B[38;5;241m.\u001B[39mrun_line_magic(\u001B[38;5;124m'\u001B[39m\u001B[38;5;124mmatplotlib\u001B[39m\u001B[38;5;124m'\u001B[39m, \u001B[38;5;124m'\u001B[39m\u001B[38;5;124m'\u001B[39m)\n",
      "\u001B[1;31mModuleNotFoundError\u001B[0m: No module named 'tensorflow.layers'"
     ]
    }
   ],
   "source": [
    "import numpy as np\n",
    "import matplotlib.pyplot as plt\n",
    "import glob\n",
    "import cv2\n",
    "from keras.models import Model, Sequential\n",
    "from keras.layers import Dense, Flatten, Conv2D, MaxPooling2D\n",
    "import os\n",
    "import seaborn as sns\n",
    "import tensorflow as tf\n",
    "import os as os\n",
    "import cv2\n",
    "import imghdr\n",
    "import numpy as np\n",
    "from matplotlib import pyplot as plt\n",
    "from tensorflow.keras.models import Sequential\n",
    "from tensorflow.keras.layers import Conv2D, MaxPooling2D, Dense, Flatten, Dropout\n",
    "from tensorflow.keras.metrics import Precision, Recall, BinaryAccuracy\n",
    "from sklearn.metrics import confusion_matrix\n",
    "from sklearn.metrics import classification_report\n",
    "import torch \n",
    "import torch.nn as nn\n",
    "import torch.optim as optim\n",
    "import torchvision\n",
    "import torchvision.transforms as trans\n",
    "import itertools\n",
    "import matplotlib.pyplot as plt\n",
    "import seaborn as sns\n",
    "import pandas as pd\n",
    "from keras.models import Model, Sequential\n",
    "from keras.layers import Dense, Flatten, Conv2D, MaxPooling2D\n",
    "from tensorflow.layers.normalization import BatchNormalization\n",
    "%matplotlib"
   ]
  },
  {
   "cell_type": "code",
   "execution_count": 69,
   "metadata": {},
   "outputs": [],
   "source": [
    "SIZE = 128"
   ]
  },
  {
   "cell_type": "code",
   "execution_count": 37,
   "metadata": {},
   "outputs": [],
   "source": [
    "device = torch.device('cuda:0' if torch.cuda.is_available() else 'cpu')"
   ]
  },
  {
   "cell_type": "code",
   "execution_count": 38,
   "metadata": {},
   "outputs": [],
   "source": [
    "# Avoid OOM errors by setting GPU Memory Consumption Growth\n",
    "gpus = tf.config.experimental.list_physical_devices('GPU')\n",
    "for gpu in gpus:\n",
    "    tf.config.experimental.set_memory_growth(gpu, True)"
   ]
  },
  {
   "cell_type": "code",
   "execution_count": 39,
   "metadata": {},
   "outputs": [
    {
     "data": {
      "text/plain": [
       "[]"
      ]
     },
     "execution_count": 39,
     "metadata": {},
     "output_type": "execute_result"
    }
   ],
   "source": [
    "tf.config.list_physical_devices('GPU')"
   ]
  },
  {
   "cell_type": "code",
   "execution_count": 40,
   "metadata": {},
   "outputs": [],
   "source": [
    "gpus = tf.config.experimental.list_physical_devices('CPU')"
   ]
  },
  {
   "cell_type": "code",
   "execution_count": 41,
   "metadata": {},
   "outputs": [],
   "source": [
    "gpus_local = tf.config.experimental.list_logical_devices('GPU')"
   ]
  },
  {
   "cell_type": "code",
   "execution_count": 42,
   "metadata": {},
   "outputs": [
    {
     "data": {
      "text/plain": [
       "1"
      ]
     },
     "execution_count": 42,
     "metadata": {},
     "output_type": "execute_result"
    }
   ],
   "source": [
    "len(gpus)"
   ]
  },
  {
   "cell_type": "code",
   "execution_count": 43,
   "metadata": {},
   "outputs": [
    {
     "data": {
      "text/plain": [
       "0"
      ]
     },
     "execution_count": 43,
     "metadata": {},
     "output_type": "execute_result"
    }
   ],
   "source": [
    "len(gpus_local)"
   ]
  },
  {
   "cell_type": "code",
   "execution_count": 60,
   "metadata": {},
   "outputs": [
    {
     "name": "stdout",
     "output_type": "stream",
     "text": [
      "['Test', 'Train']\n"
     ]
    }
   ],
   "source": [
    "print(os.listdir(\"data\"))"
   ]
  },
  {
   "cell_type": "code",
   "execution_count": 44,
   "metadata": {},
   "outputs": [],
   "source": [
    "data_dir = 'data'"
   ]
  },
  {
   "cell_type": "code",
   "execution_count": 45,
   "metadata": {},
   "outputs": [],
   "source": [
    "image_exts = ['jpeg','jpg', 'bmp', 'png']"
   ]
  },
  {
   "cell_type": "code",
   "execution_count": 46,
   "metadata": {},
   "outputs": [],
   "source": [
    "for image_class in os.listdir(data_dir):\n",
    "    for image in os.listdir(os.path.join(data_dir, image_class)):\n",
    "        image_path = os.path.join(data_dir, image_class, image)\n",
    "        try:\n",
    "            img = cv2.imread(image_path)\n",
    "            tip = imghdr.what(image_path)\n",
    "            if tip not in image_exts:\n",
    "                print('Image not in ext list {}'.format(image_path))\n",
    "                os.remove(image_path)\n",
    "        except Exception as e:\n",
    "            print('Issue with image {}'.format(image_path))\n",
    "             #os.remove(\"data\")"
   ]
  },
  {
   "cell_type": "code",
   "execution_count": 47,
   "metadata": {},
   "outputs": [
    {
     "name": "stdout",
     "output_type": "stream",
     "text": [
      "Found 442 files belonging to 2 classes.\n"
     ]
    }
   ],
   "source": [
    "data = tf.keras.utils.image_dataset_from_directory('data')"
   ]
  },
  {
   "cell_type": "code",
   "execution_count": 48,
   "metadata": {},
   "outputs": [],
   "source": [
    "data_iterator = data.as_numpy_iterator()"
   ]
  },
  {
   "cell_type": "code",
   "execution_count": 49,
   "metadata": {},
   "outputs": [],
   "source": [
    "batch = data_iterator.next()"
   ]
  },
  {
   "cell_type": "code",
   "execution_count": 50,
   "metadata": {},
   "outputs": [],
   "source": [
    "fig, ax = plt.subplots(ncols=4, figsize=(20,20))\n",
    "for idx, img in enumerate(batch[0][:4]):\n",
    "    ax[idx].imshow(img.astype(int))\n",
    "    ax[idx].title.set_text(batch[1][idx])"
   ]
  },
  {
   "cell_type": "code",
   "execution_count": 51,
   "metadata": {},
   "outputs": [],
   "source": [
    "data = data.map(lambda x,y: (x/255, y))"
   ]
  },
  {
   "cell_type": "code",
   "execution_count": 52,
   "metadata": {},
   "outputs": [
    {
     "data": {
      "text/plain": [
       "(array([[[[4.83448952e-01, 3.91822726e-01, 1.17647059e-01],\n",
       "          [5.21943688e-01, 5.48823595e-01, 1.88897103e-01],\n",
       "          [7.13737726e-01, 6.03137195e-01, 2.49675199e-01],\n",
       "          ...,\n",
       "          [6.48984909e-01, 5.42673647e-01, 2.50731230e-01],\n",
       "          [6.75796568e-01, 5.69485307e-01, 2.77542889e-01],\n",
       "          [6.51341081e-01, 5.33265114e-01, 2.69461602e-01]],\n",
       " \n",
       "         [[5.46968102e-01, 4.87500012e-01, 1.65615186e-01],\n",
       "          [5.19440293e-01, 5.05594671e-01, 1.81880221e-01],\n",
       "          [7.68063784e-01, 6.31390989e-01, 3.70876163e-01],\n",
       "          ...,\n",
       "          [6.23027027e-01, 5.32830954e-01, 2.26948574e-01],\n",
       "          [6.43137276e-01, 5.52941203e-01, 2.47058824e-01],\n",
       "          [6.37387276e-01, 5.36743879e-01, 2.28196084e-01]],\n",
       " \n",
       "         [[5.53302586e-01, 5.21270394e-01, 1.56323478e-01],\n",
       "          [5.67781568e-01, 4.83363718e-01, 2.25410253e-01],\n",
       "          [7.25245357e-01, 5.47437012e-01, 4.23784792e-01],\n",
       "          ...,\n",
       "          [6.52216196e-01, 5.41002929e-01, 2.32975975e-01],\n",
       "          [6.74142182e-01, 5.62928915e-01, 2.54901975e-01],\n",
       "          [6.36527717e-01, 5.40445268e-01, 2.02642947e-01]],\n",
       " \n",
       "         ...,\n",
       " \n",
       "         [[6.00547373e-01, 5.17210007e-01, 2.20116466e-01],\n",
       "          [6.45741403e-01, 5.82524538e-01, 2.99503595e-01],\n",
       "          [8.53237033e-01, 7.57985771e-01, 3.46925735e-01],\n",
       "          ...,\n",
       "          [5.84467411e-01, 4.92228657e-01, 2.09109798e-01],\n",
       "          [6.31684899e-01, 5.01145780e-01, 2.31017113e-01],\n",
       "          [6.38625443e-01, 5.03523290e-01, 2.35814944e-01]],\n",
       " \n",
       "         [[6.65705919e-01, 5.88286757e-01, 2.61018395e-01],\n",
       "          [7.16792822e-01, 6.20959461e-01, 2.92591780e-01],\n",
       "          [8.43755960e-01, 7.27793992e-01, 3.56158078e-01],\n",
       "          ...,\n",
       "          [6.06586993e-01, 4.95496333e-01, 2.19669119e-01],\n",
       "          [6.14035428e-01, 4.98992562e-01, 2.24482760e-01],\n",
       "          [6.45893395e-01, 4.77857888e-01, 2.34536797e-01]],\n",
       " \n",
       "         [[7.46783078e-01, 6.39821470e-01, 2.75367647e-01],\n",
       "          [7.69149482e-01, 6.32118881e-01, 3.09140921e-01],\n",
       "          [7.77287483e-01, 6.15943551e-01, 3.04818183e-01],\n",
       "          ...,\n",
       "          [6.27420366e-01, 5.13694882e-01, 2.39185050e-01],\n",
       "          [6.39053881e-01, 5.25328398e-01, 2.50818580e-01],\n",
       "          [6.44933820e-01, 4.72997576e-01, 2.33628690e-01]]],\n",
       " \n",
       " \n",
       "        [[[6.03921592e-01, 6.00000024e-01, 7.25490212e-01],\n",
       "          [6.13549352e-01, 6.12837017e-01, 7.19071686e-01],\n",
       "          [6.37561262e-01, 6.34826899e-01, 7.14912713e-01],\n",
       "          ...,\n",
       "          [8.58823538e-01, 8.47058833e-01, 7.88235307e-01],\n",
       "          [8.59535873e-01, 8.47058833e-01, 7.91084588e-01],\n",
       "          [8.62745106e-01, 8.47058833e-01, 8.03921580e-01]],\n",
       " \n",
       "         [[5.97503066e-01, 6.00000024e-01, 6.86979175e-01],\n",
       "          [5.91372848e-01, 5.97079039e-01, 6.67429090e-01],\n",
       "          [6.02936447e-01, 6.11095965e-01, 6.51404560e-01],\n",
       "          ...,\n",
       "          [8.58823538e-01, 8.43849599e-01, 7.94653773e-01],\n",
       "          [8.59535873e-01, 8.44432533e-01, 7.96337187e-01],\n",
       "          [8.62745106e-01, 8.47058833e-01, 8.03921580e-01]],\n",
       " \n",
       "         [[6.09750330e-01, 6.30078137e-01, 6.34681344e-01],\n",
       "          [6.00122571e-01, 6.23659611e-01, 6.14454329e-01],\n",
       "          [6.03203356e-01, 6.30187094e-01, 5.98199487e-01],\n",
       "          ...,\n",
       "          [8.61557901e-01, 8.45871627e-01, 8.01547170e-01],\n",
       "          [8.62270236e-01, 8.46583962e-01, 8.02475154e-01],\n",
       "          [8.65479469e-01, 8.49793196e-01, 8.06655943e-01]],\n",
       " \n",
       "         ...,\n",
       " \n",
       "         [[4.17126238e-01, 3.07322294e-01, 2.21047789e-01],\n",
       "          [3.95338416e-01, 2.87477583e-01, 2.00231522e-01],\n",
       "          [3.53625774e-01, 2.50009418e-01, 1.60641119e-01],\n",
       "          ...,\n",
       "          [2.00083870e-02, 4.27094251e-02, 3.45068835e-02],\n",
       "          [5.09798229e-02, 7.95608386e-02, 7.00338334e-02],\n",
       "          [5.68091311e-02, 9.21032503e-02, 8.03385451e-02]],\n",
       " \n",
       "         [[3.83601397e-01, 2.75222123e-01, 1.86810657e-01],\n",
       "          [3.71930271e-01, 2.69969463e-01, 1.78348765e-01],\n",
       "          [3.37029278e-01, 2.37983152e-01, 1.45153448e-01],\n",
       "          ...,\n",
       "          [2.11332291e-02, 4.82242219e-02, 3.77692580e-02],\n",
       "          [2.29106527e-02, 5.82047701e-02, 4.52742018e-02],\n",
       "          [4.10003066e-02, 7.62944221e-02, 6.45297170e-02]],\n",
       " \n",
       "         [[3.80392164e-01, 2.78431386e-01, 1.80392161e-01],\n",
       "          [3.73973638e-01, 2.78431386e-01, 1.77182898e-01],\n",
       "          [3.17861527e-01, 2.31947005e-01, 1.27251834e-01],\n",
       "          ...,\n",
       "          [1.56862754e-02, 4.27772664e-02, 2.59037986e-02],\n",
       "          [1.85355395e-02, 5.38296551e-02, 3.56464460e-02],\n",
       "          [3.13725509e-02, 6.66666701e-02, 5.49019612e-02]]],\n",
       " \n",
       " \n",
       "        [[[9.29411769e-01, 9.45098042e-01, 9.41176474e-01],\n",
       "          [9.29411769e-01, 9.38020825e-01, 9.34099257e-01],\n",
       "          [9.13694859e-01, 9.21537995e-01, 9.17616427e-01],\n",
       "          ...,\n",
       "          [7.19408691e-01, 7.78293490e-01, 6.31004930e-01],\n",
       "          [7.81832099e-01, 8.26593161e-01, 7.51991451e-01],\n",
       "          [8.67018998e-01, 8.87806356e-01, 8.59558821e-01]],\n",
       " \n",
       "         [[9.26110625e-01, 9.41796899e-01, 9.37875330e-01],\n",
       "          [9.26110625e-01, 9.34719682e-01, 9.30798113e-01],\n",
       "          [9.12031353e-01, 9.19874489e-01, 9.15952921e-01],\n",
       "          ...,\n",
       "          [6.94637060e-01, 7.53521860e-01, 6.11172140e-01],\n",
       "          [7.68627465e-01, 8.04452121e-01, 7.32829213e-01],\n",
       "          [8.53814363e-01, 8.74601722e-01, 8.46354187e-01]],\n",
       " \n",
       "         [[9.30396795e-01, 9.40307975e-01, 9.36386406e-01],\n",
       "          [9.25772130e-01, 9.33817327e-01, 9.29895759e-01],\n",
       "          [9.11718726e-01, 9.19561863e-01, 9.15640295e-01],\n",
       "          ...,\n",
       "          [6.91414177e-01, 7.41636276e-01, 6.16152644e-01],\n",
       "          [7.63822258e-01, 7.97685444e-01, 7.32679486e-01],\n",
       "          [8.54220271e-01, 8.74139190e-01, 8.52535248e-01]],\n",
       " \n",
       "         ...,\n",
       " \n",
       "         [[9.16633010e-01, 9.24476147e-01, 9.20554578e-01],\n",
       "          [9.08333361e-01, 9.09099281e-01, 9.15793478e-01],\n",
       "          [9.06916380e-01, 9.06916380e-01, 9.14759517e-01],\n",
       "          ...,\n",
       "          [9.21178222e-01, 9.07406807e-01, 9.21147585e-01],\n",
       "          [9.23368573e-01, 9.15525436e-01, 9.27290142e-01],\n",
       "          [9.44155931e-01, 9.36312795e-01, 9.48077500e-01]],\n",
       " \n",
       "         [[9.21009481e-01, 9.28852618e-01, 9.24931049e-01],\n",
       "          [9.15288687e-01, 9.16054666e-01, 9.22748864e-01],\n",
       "          [9.11044717e-01, 9.11044717e-01, 9.18887854e-01],\n",
       "          ...,\n",
       "          [9.26756799e-01, 9.12061989e-01, 9.26110625e-01],\n",
       "          [9.28056777e-01, 9.18534160e-01, 9.30858672e-01],\n",
       "          [9.47850466e-01, 9.40007329e-01, 9.51772034e-01]],\n",
       " \n",
       "         [[9.24310684e-01, 9.32153821e-01, 9.28232253e-01],\n",
       "          [9.21568632e-01, 9.22334552e-01, 9.29028809e-01],\n",
       "          [9.17647064e-01, 9.17647064e-01, 9.25490201e-01],\n",
       "          ...,\n",
       "          [9.33333337e-01, 9.13725495e-01, 9.29411769e-01],\n",
       "          [9.37637866e-01, 9.19178903e-01, 9.34482217e-01],\n",
       "          [9.52144623e-01, 9.44301486e-01, 9.56066191e-01]]],\n",
       " \n",
       " \n",
       "        ...,\n",
       " \n",
       " \n",
       "        [[[2.00027768e-02, 1.25127569e-01, 5.95248351e-03],\n",
       "          [8.08687061e-02, 2.25491151e-01, 1.00157494e-02],\n",
       "          [2.99330764e-02, 5.98043986e-02, 2.28271494e-03],\n",
       "          ...,\n",
       "          [3.02534759e-01, 5.58509707e-01, 2.87863333e-02],\n",
       "          [2.02813357e-01, 4.82795268e-01, 0.00000000e+00],\n",
       "          [1.61697447e-01, 4.08063829e-01, 3.46823293e-03]],\n",
       " \n",
       "         [[4.56566922e-03, 6.90963417e-02, 0.00000000e+00],\n",
       "          [7.49561489e-01, 7.17043400e-01, 3.38093609e-01],\n",
       "          [2.80790441e-02, 7.32996315e-02, 5.59129892e-03],\n",
       "          ...,\n",
       "          [3.28932583e-01, 5.47711074e-01, 2.64698695e-02],\n",
       "          [3.06673169e-01, 5.95567167e-01, 3.71392928e-02],\n",
       "          [1.90943345e-01, 4.46936280e-01, 3.02638626e-03]],\n",
       " \n",
       "         [[2.17692051e-02, 5.30811995e-02, 1.84302233e-04],\n",
       "          [1.58131327e-02, 3.87896374e-02, 1.01102947e-03],\n",
       "          [3.15752812e-02, 7.10360631e-02, 3.32773244e-03],\n",
       "          ...,\n",
       "          [1.91918939e-01, 3.68996292e-01, 2.11756094e-03],\n",
       "          [2.06464455e-01, 4.48557168e-01, 3.23845365e-04],\n",
       "          [2.09573656e-01, 4.72686410e-01, 2.05245684e-03]],\n",
       " \n",
       "         ...,\n",
       " \n",
       "         [[8.35004002e-02, 1.12606511e-01, 2.44858675e-04],\n",
       "          [4.30293046e-02, 9.66299027e-02, 1.08776614e-02],\n",
       "          [5.09803928e-02, 8.41911733e-02, 1.85661763e-02],\n",
       "          ...,\n",
       "          [5.13963886e-02, 1.09254844e-01, 2.80091539e-03],\n",
       "          [3.86524871e-02, 1.09611243e-01, 1.34875730e-03],\n",
       "          [3.70112397e-02, 1.00045957e-01, 2.51321238e-03]],\n",
       " \n",
       "         [[2.70488672e-02, 3.08943205e-02, 0.00000000e+00],\n",
       "          [4.70920950e-02, 1.03663787e-01, 1.17826574e-02],\n",
       "          [4.91261184e-02, 9.30599421e-02, 1.65572818e-02],\n",
       "          ...,\n",
       "          [4.41810749e-02, 9.57596153e-02, 1.63981121e-03],\n",
       "          [5.23796529e-02, 1.04169302e-01, 2.13934202e-03],\n",
       "          [6.02534264e-02, 1.15100816e-01, 6.70285709e-03]],\n",
       " \n",
       "         [[4.11333852e-02, 9.43227708e-02, 2.52158963e-03],\n",
       "          [5.52636236e-02, 1.11213237e-01, 1.46292895e-02],\n",
       "          [5.19303866e-02, 1.06433585e-01, 1.06770834e-02],\n",
       "          ...,\n",
       "          [7.97482952e-02, 1.05988868e-01, 1.63981121e-03],\n",
       "          [1.07143983e-01, 1.78436160e-01, 1.78153235e-02],\n",
       "          [6.83701485e-02, 1.25006229e-01, 1.32288318e-02]]],\n",
       " \n",
       " \n",
       "        [[[6.50949776e-01, 6.74479187e-01, 6.58792913e-01],\n",
       "          [6.47058845e-01, 6.70588255e-01, 6.55085802e-01],\n",
       "          [6.46905661e-01, 6.70435071e-01, 6.62898302e-01],\n",
       "          ...,\n",
       "          [4.58823532e-01, 5.88082135e-01, 6.62898302e-01],\n",
       "          [4.58823532e-01, 5.88235319e-01, 6.62745118e-01],\n",
       "          [4.58823532e-01, 5.88235319e-01, 6.62745118e-01]],\n",
       " \n",
       "         [[6.50930226e-01, 6.72021270e-01, 6.76290929e-01],\n",
       "          [6.44620419e-01, 6.72968149e-01, 6.74885690e-01],\n",
       "          [6.46905661e-01, 6.67938113e-01, 6.75382972e-01],\n",
       "          ...,\n",
       "          [4.61418003e-01, 5.90579033e-01, 6.65395200e-01],\n",
       "          [4.61320460e-01, 5.90732217e-01, 6.65242016e-01],\n",
       "          [4.61320460e-01, 5.90732217e-01, 6.65242016e-01]],\n",
       " \n",
       "         [[6.47836864e-01, 6.67524517e-01, 7.07935035e-01],\n",
       "          [6.41645730e-01, 6.71231627e-01, 7.07843125e-01],\n",
       "          [6.43811285e-01, 6.63419127e-01, 7.03985333e-01],\n",
       "          ...,\n",
       "          [4.64385033e-01, 5.90516925e-01, 6.66819870e-01],\n",
       "          [4.64292288e-01, 5.90609670e-01, 6.66666687e-01],\n",
       "          [4.64292288e-01, 5.90609670e-01, 6.66666687e-01]],\n",
       " \n",
       "         ...,\n",
       " \n",
       "         [[6.63440883e-01, 6.97187841e-01, 7.35576332e-01],\n",
       "          [6.60409510e-01, 6.94045126e-01, 7.32377946e-01],\n",
       "          [6.61964715e-01, 6.90870106e-01, 7.27376044e-01],\n",
       "          ...,\n",
       "          [5.68627477e-01, 6.44684434e-01, 6.91850483e-01],\n",
       "          [5.68627477e-01, 6.44684434e-01, 6.91850483e-01],\n",
       "          [5.68627477e-01, 6.44684434e-01, 6.91850483e-01]],\n",
       " \n",
       "         [[6.58823550e-01, 6.94117665e-01, 7.26562500e-01],\n",
       "          [6.59007370e-01, 6.94117665e-01, 7.26470590e-01],\n",
       "          [6.66666687e-01, 6.93964481e-01, 7.23211765e-01],\n",
       "          ...,\n",
       "          [5.68627477e-01, 6.43137276e-01, 6.99463844e-01],\n",
       "          [5.68627477e-01, 6.43137276e-01, 6.99463844e-01],\n",
       "          [5.68627477e-01, 6.43137276e-01, 6.99463844e-01]],\n",
       " \n",
       "         [[6.58823550e-01, 6.94117665e-01, 7.21568644e-01],\n",
       "          [6.59007370e-01, 6.94117665e-01, 7.21476734e-01],\n",
       "          [6.66666687e-01, 6.93964481e-01, 7.18412995e-01],\n",
       "          ...,\n",
       "          [5.68627477e-01, 6.43137276e-01, 7.01960802e-01],\n",
       "          [5.68627477e-01, 6.43137276e-01, 7.01960802e-01],\n",
       "          [5.68627477e-01, 6.43137276e-01, 7.01960802e-01]]],\n",
       " \n",
       " \n",
       "        [[[1.00000000e+00, 1.00000000e+00, 1.00000000e+00],\n",
       "          [1.00000000e+00, 1.00000000e+00, 1.00000000e+00],\n",
       "          [1.00000000e+00, 1.00000000e+00, 1.00000000e+00],\n",
       "          ...,\n",
       "          [1.00000000e+00, 1.00000000e+00, 1.00000000e+00],\n",
       "          [1.00000000e+00, 1.00000000e+00, 1.00000000e+00],\n",
       "          [1.00000000e+00, 1.00000000e+00, 1.00000000e+00]],\n",
       " \n",
       "         [[1.00000000e+00, 1.00000000e+00, 1.00000000e+00],\n",
       "          [1.00000000e+00, 1.00000000e+00, 1.00000000e+00],\n",
       "          [1.00000000e+00, 1.00000000e+00, 1.00000000e+00],\n",
       "          ...,\n",
       "          [1.00000000e+00, 1.00000000e+00, 1.00000000e+00],\n",
       "          [1.00000000e+00, 1.00000000e+00, 1.00000000e+00],\n",
       "          [1.00000000e+00, 1.00000000e+00, 1.00000000e+00]],\n",
       " \n",
       "         [[1.00000000e+00, 1.00000000e+00, 1.00000000e+00],\n",
       "          [1.00000000e+00, 1.00000000e+00, 1.00000000e+00],\n",
       "          [1.00000000e+00, 1.00000000e+00, 1.00000000e+00],\n",
       "          ...,\n",
       "          [1.00000000e+00, 1.00000000e+00, 1.00000000e+00],\n",
       "          [1.00000000e+00, 1.00000000e+00, 1.00000000e+00],\n",
       "          [1.00000000e+00, 1.00000000e+00, 1.00000000e+00]],\n",
       " \n",
       "         ...,\n",
       " \n",
       "         [[1.00000000e+00, 1.00000000e+00, 1.00000000e+00],\n",
       "          [1.00000000e+00, 1.00000000e+00, 1.00000000e+00],\n",
       "          [1.00000000e+00, 1.00000000e+00, 1.00000000e+00],\n",
       "          ...,\n",
       "          [1.00000000e+00, 1.00000000e+00, 1.00000000e+00],\n",
       "          [1.00000000e+00, 1.00000000e+00, 1.00000000e+00],\n",
       "          [1.00000000e+00, 1.00000000e+00, 1.00000000e+00]],\n",
       " \n",
       "         [[1.00000000e+00, 1.00000000e+00, 1.00000000e+00],\n",
       "          [1.00000000e+00, 1.00000000e+00, 1.00000000e+00],\n",
       "          [1.00000000e+00, 1.00000000e+00, 1.00000000e+00],\n",
       "          ...,\n",
       "          [1.00000000e+00, 1.00000000e+00, 1.00000000e+00],\n",
       "          [1.00000000e+00, 1.00000000e+00, 1.00000000e+00],\n",
       "          [1.00000000e+00, 1.00000000e+00, 1.00000000e+00]],\n",
       " \n",
       "         [[1.00000000e+00, 1.00000000e+00, 1.00000000e+00],\n",
       "          [1.00000000e+00, 1.00000000e+00, 1.00000000e+00],\n",
       "          [1.00000000e+00, 1.00000000e+00, 1.00000000e+00],\n",
       "          ...,\n",
       "          [1.00000000e+00, 1.00000000e+00, 1.00000000e+00],\n",
       "          [1.00000000e+00, 1.00000000e+00, 1.00000000e+00],\n",
       "          [1.00000000e+00, 1.00000000e+00, 1.00000000e+00]]]],\n",
       "       dtype=float32),\n",
       " array([0, 0, 0, 0, 1, 0, 1, 1, 0, 0, 1, 0, 0, 0, 0, 0, 0, 0, 1, 0, 0, 0,\n",
       "        0, 0, 0, 1, 0, 1, 0, 0, 0, 0]))"
      ]
     },
     "execution_count": 52,
     "metadata": {},
     "output_type": "execute_result"
    }
   ],
   "source": [
    "data.as_numpy_iterator().next()"
   ]
  },
  {
   "cell_type": "code",
   "execution_count": 53,
   "metadata": {},
   "outputs": [],
   "source": [
    "train_size = int(len(data)*.7)\n",
    "val_size = int(len(data)*.2)\n",
    "test_size = int(len(data)*.1)"
   ]
  },
  {
   "cell_type": "code",
   "execution_count": 54,
   "metadata": {},
   "outputs": [
    {
     "data": {
      "text/plain": [
       "2"
      ]
     },
     "execution_count": 54,
     "metadata": {},
     "output_type": "execute_result"
    }
   ],
   "source": [
    "val_size"
   ]
  },
  {
   "cell_type": "code",
   "execution_count": 55,
   "metadata": {},
   "outputs": [
    {
     "data": {
      "text/plain": [
       "9"
      ]
     },
     "execution_count": 55,
     "metadata": {},
     "output_type": "execute_result"
    }
   ],
   "source": [
    "train_size"
   ]
  },
  {
   "cell_type": "code",
   "execution_count": 56,
   "metadata": {},
   "outputs": [],
   "source": [
    "train = data.take(train_size)\n",
    "val = data.skip(train_size).take(val_size)\n",
    "test = data.skip(train_size+val_size).take(test_size)\n",
    "model = Sequential()\n",
    "model.add(Conv2D(16, (3,3), 1, activation='relu', input_shape=(256,256,3)))\n",
    "model.add(MaxPooling2D())\n",
    "\n",
    "model.add(Conv2D(32, (3,3), 1, activation='relu'))\n",
    "model.add(MaxPooling2D())\n",
    "\n",
    "model.add(Conv2D(16, (3,3), 1, activation='relu'))\n",
    "model.add(MaxPooling2D())\n",
    "\n",
    "model.add(Flatten())\n",
    "\n",
    "model.add(Dense(256, activation='relu'))\n",
    "model.add(Dense(1, activation='sigmoid'))"
   ]
  },
  {
   "cell_type": "code",
   "execution_count": 57,
   "metadata": {},
   "outputs": [
    {
     "name": "stdout",
     "output_type": "stream",
     "text": [
      "Model: \"sequential\"\n",
      "_________________________________________________________________\n",
      " Layer (type)                Output Shape              Param #   \n",
      "=================================================================\n",
      " conv2d (Conv2D)             (None, 254, 254, 16)      448       \n",
      "                                                                 \n",
      " max_pooling2d (MaxPooling2D  (None, 127, 127, 16)     0         \n",
      " )                                                               \n",
      "                                                                 \n",
      " conv2d_1 (Conv2D)           (None, 125, 125, 32)      4640      \n",
      "                                                                 \n",
      " max_pooling2d_1 (MaxPooling  (None, 62, 62, 32)       0         \n",
      " 2D)                                                             \n",
      "                                                                 \n",
      " conv2d_2 (Conv2D)           (None, 60, 60, 16)        4624      \n",
      "                                                                 \n",
      " max_pooling2d_2 (MaxPooling  (None, 30, 30, 16)       0         \n",
      " 2D)                                                             \n",
      "                                                                 \n",
      " flatten (Flatten)           (None, 14400)             0         \n",
      "                                                                 \n",
      " dense (Dense)               (None, 256)               3686656   \n",
      "                                                                 \n",
      " dense_1 (Dense)             (None, 1)                 257       \n",
      "                                                                 \n",
      "=================================================================\n",
      "Total params: 3,696,625\n",
      "Trainable params: 3,696,625\n",
      "Non-trainable params: 0\n",
      "_________________________________________________________________\n"
     ]
    }
   ],
   "source": [
    "model.compile('adam', loss=tf.losses.BinaryCrossentropy(), metrics=['accuracy'])\n",
    "model.summary()"
   ]
  },
  {
   "cell_type": "code",
   "execution_count": 58,
   "metadata": {
    "pycharm": {
     "is_executing": true
    },
    "scrolled": true
   },
   "outputs": [
    {
     "name": "stdout",
     "output_type": "stream",
     "text": [
      "Epoch 1/20\n",
      "9/9 [==============================] - 9s 840ms/step - loss: 0.9370 - accuracy: 0.6007 - val_loss: 0.8272 - val_accuracy: 0.5469\n",
      "Epoch 2/20\n",
      "9/9 [==============================] - 9s 881ms/step - loss: 0.6936 - accuracy: 0.5799 - val_loss: 0.6534 - val_accuracy: 0.5938\n",
      "Epoch 3/20\n",
      "9/9 [==============================] - 9s 950ms/step - loss: 0.6562 - accuracy: 0.6111 - val_loss: 0.6384 - val_accuracy: 0.6250\n",
      "Epoch 4/20\n",
      "9/9 [==============================] - 9s 875ms/step - loss: 0.6284 - accuracy: 0.6146 - val_loss: 0.6199 - val_accuracy: 0.6562\n",
      "Epoch 5/20\n",
      "9/9 [==============================] - 8s 769ms/step - loss: 0.6097 - accuracy: 0.6528 - val_loss: 0.6954 - val_accuracy: 0.5625\n",
      "Epoch 6/20\n",
      "9/9 [==============================] - 7s 763ms/step - loss: 0.5872 - accuracy: 0.6424 - val_loss: 0.4937 - val_accuracy: 0.6875\n",
      "Epoch 7/20\n",
      "9/9 [==============================] - 8s 792ms/step - loss: 0.5498 - accuracy: 0.7049 - val_loss: 0.5193 - val_accuracy: 0.7031\n",
      "Epoch 8/20\n",
      "9/9 [==============================] - 8s 826ms/step - loss: 0.5801 - accuracy: 0.7153 - val_loss: 0.5895 - val_accuracy: 0.6406\n",
      "Epoch 9/20\n",
      "9/9 [==============================] - 8s 776ms/step - loss: 0.5479 - accuracy: 0.6944 - val_loss: 0.5461 - val_accuracy: 0.7500\n",
      "Epoch 10/20\n",
      "9/9 [==============================] - 8s 834ms/step - loss: 0.5273 - accuracy: 0.7257 - val_loss: 0.5409 - val_accuracy: 0.7500\n",
      "Epoch 11/20\n",
      "9/9 [==============================] - 8s 781ms/step - loss: 0.4820 - accuracy: 0.7500 - val_loss: 0.6664 - val_accuracy: 0.5625\n",
      "Epoch 12/20\n",
      "9/9 [==============================] - 7s 725ms/step - loss: 0.5219 - accuracy: 0.7188 - val_loss: 0.4928 - val_accuracy: 0.8750\n",
      "Epoch 13/20\n",
      "9/9 [==============================] - 7s 723ms/step - loss: 0.5219 - accuracy: 0.7396 - val_loss: 0.4631 - val_accuracy: 0.7500\n",
      "Epoch 14/20\n",
      "9/9 [==============================] - 7s 714ms/step - loss: 0.4534 - accuracy: 0.7674 - val_loss: 0.4795 - val_accuracy: 0.7812\n",
      "Epoch 15/20\n",
      "9/9 [==============================] - 8s 781ms/step - loss: 0.4769 - accuracy: 0.7361 - val_loss: 0.5062 - val_accuracy: 0.7656\n",
      "Epoch 16/20\n",
      "9/9 [==============================] - 8s 815ms/step - loss: 0.5399 - accuracy: 0.6910 - val_loss: 0.5506 - val_accuracy: 0.6562\n",
      "Epoch 17/20\n",
      "9/9 [==============================] - 8s 835ms/step - loss: 0.5206 - accuracy: 0.6875 - val_loss: 0.4898 - val_accuracy: 0.6562\n",
      "Epoch 18/20\n",
      "9/9 [==============================] - 8s 817ms/step - loss: 0.4849 - accuracy: 0.6979 - val_loss: 0.4330 - val_accuracy: 0.7344\n",
      "Epoch 19/20\n",
      "9/9 [==============================] - 8s 800ms/step - loss: 0.4679 - accuracy: 0.7326 - val_loss: 0.5160 - val_accuracy: 0.7500\n",
      "Epoch 20/20\n",
      "9/9 [==============================] - 8s 796ms/step - loss: 0.4764 - accuracy: 0.7083 - val_loss: 0.4854 - val_accuracy: 0.6875\n"
     ]
    }
   ],
   "source": [
    "logdir='logs'\n",
    "tensorboard_callback = tf.keras.callbacks.TensorBoard(log_dir=logdir)\n",
    "hist = model.fit(train, epochs=20, validation_data=val, callbacks=[tensorboard_callback])"
   ]
  },
  {
   "cell_type": "code",
   "execution_count": null,
   "metadata": {
    "scrolled": true
   },
   "outputs": [],
   "source": [
    "prediction_NN = model.predict(train_size)\n",
    "prediction_NN = np.argmax(prediction_NN, axis=-1)\n",
    "prediction_NN = le.inverse_transform(prediction_NN)"
   ]
  },
  {
   "cell_type": "code",
   "execution_count": null,
   "metadata": {},
   "outputs": [],
   "source": [
    "#plot the training and validation accuracy and loss at each epoch\n",
    "loss = hist.history['loss']\n",
    "val_loss = hist.history['val_loss']\n",
    "epochs = range(1, len(loss) + 1)\n",
    "plt.plot(epochs, loss, 'y', label='Training loss')\n",
    "plt.plot(epochs, val_loss, 'r', label='Validation loss')\n",
    "plt.title('Training and validation loss')\n",
    "plt.xlabel('Epochs')\n",
    "plt.ylabel('Loss')\n",
    "plt.legend()\n",
    "plt.show()"
   ]
  },
  {
   "cell_type": "code",
   "execution_count": null,
   "metadata": {
    "scrolled": true
   },
   "outputs": [],
   "source": [
    "#Confusion Matrix - verify accuracy of each class\n",
    "from sklearn.metrics import confusion_matrix\n",
    "cm = confusion_matrix(test_size, prediction_NN)\n",
    "print(cm)\n",
    "sns.heatmap(cm, annot=True)"
   ]
  },
  {
   "cell_type": "code",
   "execution_count": 61,
   "metadata": {},
   "outputs": [
    {
     "name": "stdout",
     "output_type": "stream",
     "text": [
      "1-s2.0-S1319562X12000332-gr5 - Copy.jpg\n",
      "1-s2.0-S1319562X12000332-gr5.jpg\n",
      "15-investigatin - Copy.jpg\n",
      "15-investigatin.jpg\n",
      "315748_1_En_8_Fig2_HTML - Copy.jpg\n",
      "315748_1_En_8_Fig2_HTML.jpg\n",
      "aam-aaes80642 - Copy.jpg\n",
      "aam-aaes80642.jpg\n",
      "algae-for-water-treatment-system-2-320 - Copy.jpg\n",
      "algae-for-water-treatment-system-2-320.jpg\n",
      "Algae-typically-found-in-facultative-ponds-a-Chlamydomonas-b-Chlorella-c_Q320 - Copy.jpg\n",
      "Algae-typically-found-in-facultative-ponds-a-Chlamydomonas-b-Chlorella-c_Q320.jpg\n",
      "Australian-algae-producer-enters-animal-feed-market - Copy.jpg\n",
      "Australian-algae-producer-enters-animal-feed-market.jpg\n",
      "d-various-rod-shaped-bacteria-magnification-2000x-at-35mm-image-size-2BE0GTE - Copy.jpg\n",
      "d-various-rod-shaped-bacteria-magnification-2000x-at-35mm-image-size-2BE0GTE.jpg\n",
      "eg3 - Copy.jpg\n",
      "eg3.jpg\n",
      "euglena - Copy.jpg\n",
      "euglena-2GRMTJ2 - Copy.jpg\n",
      "euglena-2GRMTJ2.jpg\n",
      "euglena-dsc_0169 - Copy.jpg\n",
      "euglena-dsc_0169.jpg\n",
      "EUGLENA-labels-600 - Copy.jpg\n",
      "EUGLENA-labels-600.jpg\n",
      "euglena-with-flagella-captioned- - Copy.jpg\n",
      "euglena-with-flagella-captioned-.jpg\n",
      "euglena.jpg\n",
      "EuglenaUsesSized - Copy.jpg\n",
      "EuglenaUsesSized.jpg\n",
      "euglena_60 - Copy.jpg\n",
      "euglena_60.jpg\n",
      "Euglena_diagram - Copy.jpg\n",
      "Euglena_diagram.jpg\n",
      "Euglena_sp - Copy.jpg\n",
      "Euglena_sp.jpg\n",
      "final-project-report-5-320 - Copy.jpg\n",
      "final-project-report-5-320.jpg\n",
      "hqdefault - Copy.jpg\n",
      "hqdefault.jpg\n",
      "image - Copy.jpeg\n",
      "image.jpeg\n",
      "image10 - Copy.jpeg\n",
      "image10.jpeg\n",
      "image11 - Copy.jpeg\n",
      "image11.jpeg\n",
      "image12 - Copy.jpeg\n",
      "image12.jpeg\n",
      "image13 - Copy.jpeg\n",
      "image13.jpeg\n",
      "image14 - Copy.jpeg\n",
      "image14.jpeg\n",
      "image15 - Copy.jpeg\n",
      "image15.jpeg\n",
      "image16 - Copy.jpeg\n",
      "image16.jpeg\n",
      "image17 - Copy.jpeg\n",
      "image17.jpeg\n",
      "image18 - Copy.jpeg\n",
      "image18.jpeg\n",
      "image19 - Copy.jpeg\n",
      "image19.jpeg\n",
      "image2 - Copy.jpeg\n",
      "image2.jpeg\n",
      "image20 - Copy.jpeg\n",
      "image20.jpeg\n",
      "image3 - Copy.jpeg\n",
      "image3.jpeg\n",
      "image4 - Copy.jpeg\n",
      "image4.jpeg\n",
      "image5 - Copy.jpeg\n",
      "image5.jpeg\n",
      "image6 - Copy.jpeg\n",
      "image6.jpeg\n",
      "image6BG - Copy.jpg\n",
      "image6BG.jpg\n",
      "image7 - Copy.jpeg\n",
      "image7.jpeg\n",
      "image8 - Copy.jpeg\n",
      "image8.jpeg\n",
      "image9 - Copy.jpeg\n",
      "image9.jpeg\n",
      "images - Copy.jpg\n",
      "images.jpg\n",
      "images10 - Copy.jpg\n",
      "images10.jpg\n",
      "images11 - Copy.jpg\n",
      "images11.jpg\n",
      "images12 - Copy.jpg\n",
      "images12.jpg\n",
      "images13 - Copy.jpg\n",
      "images13.jpg\n",
      "images14 - Copy.jpg\n",
      "images14.jpg\n",
      "images15 - Copy.jpg\n",
      "images15.jpg\n",
      "images18 - Copy.jpg\n",
      "images18.jpg\n",
      "images2 - Copy.jpg\n",
      "images2.jpg\n",
      "images21 - Copy.jpg\n",
      "images21.jpg\n",
      "images22 - Copy.jpg\n",
      "images22.jpg\n",
      "images23 - Copy.jpg\n",
      "images23.jpg\n",
      "images24 - Copy.jpg\n",
      "images24.jpg\n",
      "images25 - Copy.jpg\n",
      "images25.jpg\n",
      "images26 - Copy.jpg\n",
      "images26.jpg\n",
      "images27 - Copy.jpg\n",
      "images27.jpg\n",
      "images28 - Copy.jpg\n",
      "images28.jpg\n",
      "images29 - Copy.jpg\n",
      "images29.jpg\n",
      "images3 - Copy.jpg\n",
      "images3.jpg\n",
      "images30 - Copy.jpg\n",
      "images30.jpg\n",
      "images31 - Copy.jpg\n",
      "images31.jpg\n",
      "images32 - Copy.jpg\n",
      "images32.jpg\n",
      "images33 - Copy.jpg\n",
      "images33.jpg\n",
      "images4 - Copy.jpg\n",
      "images4.jpg\n",
      "images5 - Copy.jpg\n",
      "images5.jpg\n",
      "images6 - Copy.jpg\n",
      "images6.jpg\n",
      "images7 - Copy.jpg\n",
      "images7.jpg\n",
      "images8 - Copy.jpg\n",
      "images8.jpg\n",
      "images9 - Copy.jpg\n",
      "images9.jpg\n",
      "IMG_6279Custom_12406 - Copy.jpg\n",
      "IMG_6279Custom_12406.jpg\n",
      "innovations-flying-seeds-Manfred-Richter-720x480 - Copy.jpg\n",
      "innovations-flying-seeds-Manfred-Richter-720x480.jpg\n",
      "liz_harrell_yvn5UBRamAM_unsplash.6144d27839870 - Copy.png\n",
      "liz_harrell_yvn5UBRamAM_unsplash.6144d27839870.png\n",
      "maxresdefault - Copy.jpg\n",
      "maxresdefault.jpg\n",
      "mqdefault - Copy.jpg\n",
      "mqdefault.jpg\n",
      "Photomicrographs-of-a-Euglena-gracilis-b-E-viridis-c-E-polymorpha-d - Copy.png\n",
      "Photomicrographs-of-a-Euglena-gracilis-b-E-viridis-c-E-polymorpha-d.png\n",
      "Plates-showing-algal-diversity-A-a-green-micro-algae-Nannochloropsis-sp_Q320 - Copy.jpg\n",
      "Plates-showing-algal-diversity-A-a-green-micro-algae-Nannochloropsis-sp_Q320.jpg\n",
      "polluted-water-and-scum-on-green-water-surface-environmental-pollution-aerial-top-view-2FN0PDD - Copy.jpg\n",
      "polluted-water-and-scum-on-green-water-surface-environmental-pollution-aerial-top-view-2FN0PDD.jpg\n",
      "polluted-water-with-floating-scum-environmental-water-pollution-aerial-view-2FN0PDC - Copy.jpg\n",
      "polluted-water-with-floating-scum-environmental-water-pollution-aerial-view-2FN0PDC.jpg\n",
      "sanguinea_2 - Copy.jpg\n",
      "sanguinea_2.jpg\n",
      "sofia_sabel-swedish_algae_factory-6768-1 - Copy.jpg\n",
      "sofia_sabel-swedish_algae_factory-6768-1.jpg\n",
      "Symbiotic-relationship-of-microalgae-and-bacteria-in-wastewater-treatment_Q640 - Copy.jpg\n",
      "Symbiotic-relationship-of-microalgae-and-bacteria-in-wastewater-treatment_Q640.jpg\n",
      "TOSSAVAINEN-Pic-0-960x330 - Copy.jpg\n",
      "TOSSAVAINEN-Pic-0-960x330.jpg\n",
      "water-with-swirly-patterns-in-ottawa-river-EAPTC3 - Copy.jpg\n",
      "water-with-swirly-patterns-in-ottawa-river-EAPTC3.jpg\n"
     ]
    }
   ],
   "source": [
    "train_images = []\n",
    "train_labels = [] \n",
    "for directory_path in glob.glob(\"data/train/*\"):\n",
    "    label = directory_path.split(\"\\\\\")[-1]\n",
    "    print(label)\n",
    "    for img_path in glob.glob(os.path.join(directory_path, \"*.jpg\")):\n",
    "        print(img_path)\n",
    "        img = cv2.imread(img_path, cv2.IMREAD_COLOR)       \n",
    "        img = cv2.resize(img, (SIZE, SIZE))\n",
    "        img = cv2.cvtColor(img, cv2.COLOR_RGB2BGR)\n",
    "        train_images.append(img)\n",
    "        train_labels.append(label)\n",
    "        \n",
    "train_images = np.array(train_images)\n",
    "train_labels = np.array(train_labels)"
   ]
  },
  {
   "cell_type": "code",
   "execution_count": 63,
   "metadata": {},
   "outputs": [],
   "source": [
    "# test\n",
    "test_images = []\n",
    "test_labels = [] \n",
    "for directory_path in glob.glob(\"data/test/*\"):\n",
    "    fruit_label = directory_path.split(\"\\\\\")[-1]\n",
    "    for img_path in glob.glob(os.path.join(directory_path, \"*.jpg\")):\n",
    "        img = cv2.imread(img_path, cv2.IMREAD_COLOR)\n",
    "        img = cv2.resize(img, (SIZE, SIZE))\n",
    "        img = cv2.cvtColor(img, cv2.COLOR_RGB2BGR)\n",
    "        test_images.append(img)\n",
    "        test_labels.append(fruit_label)\n",
    "        \n",
    "test_images = np.array(test_images)\n",
    "test_labels = np.array(test_labels)"
   ]
  },
  {
   "cell_type": "code",
   "execution_count": 64,
   "metadata": {},
   "outputs": [],
   "source": [
    "from sklearn import preprocessing\n",
    "le = preprocessing.LabelEncoder()\n",
    "le.fit(test_labels)\n",
    "test_labels_encoded = le.transform(test_labels)\n",
    "le.fit(train_labels)\n",
    "train_labels_encoded = le.transform(train_labels)"
   ]
  },
  {
   "cell_type": "code",
   "execution_count": 65,
   "metadata": {},
   "outputs": [],
   "source": [
    "x_train, y_train, x_test, y_test = train_images, train_labels_encoded, test_images, test_labels_encoded"
   ]
  },
  {
   "cell_type": "code",
   "execution_count": 66,
   "metadata": {},
   "outputs": [],
   "source": [
    "x_train, x_test = x_train / 255.0, x_test / 255.0"
   ]
  },
  {
   "cell_type": "code",
   "execution_count": 70,
   "metadata": {},
   "outputs": [
    {
     "ename": "NameError",
     "evalue": "name 'BatchNormalization' is not defined",
     "output_type": "error",
     "traceback": [
      "\u001B[1;31m---------------------------------------------------------------------------\u001B[0m",
      "\u001B[1;31mNameError\u001B[0m                                 Traceback (most recent call last)",
      "Input \u001B[1;32mIn [70]\u001B[0m, in \u001B[0;36m<cell line: 5>\u001B[1;34m()\u001B[0m\n\u001B[0;32m      3\u001B[0m feature_extractor \u001B[38;5;241m=\u001B[39m Sequential()\n\u001B[0;32m      4\u001B[0m feature_extractor\u001B[38;5;241m.\u001B[39madd(Conv2D(\u001B[38;5;241m32\u001B[39m, \u001B[38;5;241m3\u001B[39m, activation \u001B[38;5;241m=\u001B[39m activation, padding \u001B[38;5;241m=\u001B[39m \u001B[38;5;124m'\u001B[39m\u001B[38;5;124msame\u001B[39m\u001B[38;5;124m'\u001B[39m, input_shape \u001B[38;5;241m=\u001B[39m (SIZE, SIZE, \u001B[38;5;241m3\u001B[39m)))\n\u001B[1;32m----> 5\u001B[0m feature_extractor\u001B[38;5;241m.\u001B[39madd(\u001B[43mBatchNormalization\u001B[49m())\n\u001B[0;32m      7\u001B[0m feature_extractor\u001B[38;5;241m.\u001B[39madd(Conv2D(\u001B[38;5;241m32\u001B[39m, \u001B[38;5;241m3\u001B[39m, activation \u001B[38;5;241m=\u001B[39m activation, padding \u001B[38;5;241m=\u001B[39m \u001B[38;5;124m'\u001B[39m\u001B[38;5;124msame\u001B[39m\u001B[38;5;124m'\u001B[39m, kernel_initializer \u001B[38;5;241m=\u001B[39m \u001B[38;5;124m'\u001B[39m\u001B[38;5;124mhe_uniform\u001B[39m\u001B[38;5;124m'\u001B[39m))\n\u001B[0;32m      8\u001B[0m feature_extractor\u001B[38;5;241m.\u001B[39madd(BatchNormalization())\n",
      "\u001B[1;31mNameError\u001B[0m: name 'BatchNormalization' is not defined"
     ]
    }
   ],
   "source": [
    "activation = 'sigmoid'\n",
    "\n",
    "feature_extractor = Sequential()\n",
    "feature_extractor.add(Conv2D(32, 3, activation = activation, padding = 'same', input_shape = (SIZE, SIZE, 3)))\n",
    "feature_extractor.add(BatchNormalization())\n",
    "\n",
    "feature_extractor.add(Conv2D(32, 3, activation = activation, padding = 'same', kernel_initializer = 'he_uniform'))\n",
    "feature_extractor.add(BatchNormalization())\n",
    "feature_extractor.add(MaxPooling2D())\n",
    "\n",
    "feature_extractor.add(Conv2D(64, 3, activation = activation, padding = 'same', kernel_initializer = 'he_uniform'))\n",
    "feature_extractor.add(BatchNormalization())\n",
    "\n",
    "feature_extractor.add(Conv2D(64, 3, activation = activation, padding = 'same', kernel_initializer = 'he_uniform'))\n",
    "feature_extractor.add(BatchNormalization())\n",
    "feature_extractor.add(MaxPooling2D())\n",
    "\n",
    "feature_extractor.add(Flatten())"
   ]
  },
  {
   "cell_type": "code",
   "execution_count": null,
   "metadata": {},
   "outputs": [],
   "source": []
  }
 ],
 "metadata": {
  "kernelspec": {
   "display_name": "Python 3 (ipykernel)",
   "language": "python",
   "name": "python3"
  },
  "language_info": {
   "codemirror_mode": {
    "name": "ipython",
    "version": 3
   },
   "file_extension": ".py",
   "mimetype": "text/x-python",
   "name": "python",
   "nbconvert_exporter": "python",
   "pygments_lexer": "ipython3",
   "version": "3.9.12"
  }
 },
 "nbformat": 4,
 "nbformat_minor": 1
}
